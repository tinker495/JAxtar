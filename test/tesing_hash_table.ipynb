{
 "cells": [
  {
   "cell_type": "code",
   "execution_count": 1,
   "metadata": {},
   "outputs": [
    {
     "name": "stdout",
     "output_type": "stream",
     "text": [
      "env: CUDA_VISIBLE_DEVICES=0\n"
     ]
    }
   ],
   "source": [
    "import sys\n",
    "import os\n",
    "\n",
    "# 프로젝트 루트 디렉토리 경로를 추가\n",
    "project_root = os.path.abspath(os.path.join(os.getcwd(), '..'))\n",
    "if project_root not in sys.path:\n",
    "    sys.path.append(project_root)\n",
    "%env CUDA_VISIBLE_DEVICES=0"
   ]
  },
  {
   "cell_type": "code",
   "execution_count": 2,
   "metadata": {},
   "outputs": [],
   "source": [
    "import jax\n",
    "import jax.numpy as jnp\n",
    "#disable jax JIT\n",
    "#jax.config.update(\"jax_disable_jit\", True)\n",
    "\n",
    "from JAxtar.hash import dataclass_hashing, dataclass_hashing_batch\n",
    "from puzzle.slidepuzzle import SlidePuzzle\n",
    "from heuristic.slidepuzzle_heuristic import SlidePuzzleHeuristic\n",
    "from JAxtar.hash import HashTable"
   ]
  },
  {
   "cell_type": "code",
   "execution_count": 3,
   "metadata": {},
   "outputs": [],
   "source": [
    "count = int(1e5)\n",
    "puzzle = SlidePuzzle(4)\n",
    "sample = jax.vmap(puzzle.get_initial_state)(key=jax.random.split(jax.random.PRNGKey(0),count))\n",
    "table = HashTable.make_lookup_table(puzzle.State, 1, int(1e6))\n",
    "\n",
    "idx, table_idx, found = jax.vmap(HashTable.check, in_axes=(None,0))(table, sample)\n",
    "#print(idx, table_idx, found)"
   ]
  },
  {
   "cell_type": "code",
   "execution_count": 4,
   "metadata": {},
   "outputs": [
    {
     "name": "stderr",
     "output_type": "stream",
     "text": [
      "/tmp/ipykernel_18854/1518994947.py:2: TqdmWarning: IProgress not found. Please update jupyter and ipywidgets. See https://ipywidgets.readthedocs.io/en/stable/user_install.html\n",
      "  from tqdm.autonotebook import trange\n",
      "100%|██████████| 100/100 [00:19<00:00,  5.20it/s]\n"
     ]
    },
    {
     "name": "stdout",
     "output_type": "stream",
     "text": [
      "insert time: 19.23161554336548\n",
      "check time: 0.19525980949401855\n",
      "[  1020 949507  57409 ... 715924 273794 200985] [0 0 0 ... 0 0 1] [ True  True  True ...  True  True  True]\n",
      "1.0\n"
     ]
    }
   ],
   "source": [
    "import time\n",
    "from tqdm.autonotebook import trange\n",
    "start = time.time()\n",
    "batch = 1000\n",
    "for i in trange(count // batch):\n",
    "    table, _ = HashTable.batch_insert(table, sample[i*batch:(i+1)*batch])\n",
    "print(\"insert time:\", time.time()-start)\n",
    "start = time.time()\n",
    "idx, table_idx, found = jax.vmap(HashTable.check, in_axes=(None,0))(table, sample)\n",
    "print(\"check time:\", time.time()-start)\n",
    "print(idx, table_idx, found)\n",
    "print(jnp.sum(found) / count)"
   ]
  }
 ],
 "metadata": {
  "kernelspec": {
   "display_name": "py311",
   "language": "python",
   "name": "python3"
  },
  "language_info": {
   "codemirror_mode": {
    "name": "ipython",
    "version": 3
   },
   "file_extension": ".py",
   "mimetype": "text/x-python",
   "name": "python",
   "nbconvert_exporter": "python",
   "pygments_lexer": "ipython3",
   "version": "3.11.9"
  }
 },
 "nbformat": 4,
 "nbformat_minor": 2
}
