{
 "cells": [
  {
   "cell_type": "code",
   "execution_count": 1,
   "metadata": {},
   "outputs": [
    {
     "ename": "ImportError",
     "evalue": "attempted relative import with no known parent package",
     "output_type": "error",
     "traceback": [
      "\u001b[0;31m---------------------------------------------------------------------------\u001b[0m",
      "\u001b[0;31mImportError\u001b[0m                               Traceback (most recent call last)",
      "Cell \u001b[0;32mIn[1], line 1\u001b[0m\n\u001b[0;32m----> 1\u001b[0m \u001b[38;5;28;01mfrom\u001b[39;00m \u001b[38;5;21;01m.\u001b[39;00m\u001b[38;5;21;01m.\u001b[39;00m\u001b[38;5;21;01mconftest\u001b[39;00m \u001b[38;5;28;01mimport\u001b[39;00m setup_project\n\u001b[1;32m      2\u001b[0m setup_project()\n",
      "\u001b[0;31mImportError\u001b[0m: attempted relative import with no known parent package"
     ]
    }
   ],
   "source": [
    "from ..conftest import setup_project\n",
    "setup_project()"
   ]
  },
  {
   "cell_type": "code",
   "execution_count": 2,
   "metadata": {},
   "outputs": [
    {
     "name": "stderr",
     "output_type": "stream",
     "text": [
      "/tmp/ipykernel_2547500/813126535.py:8: TqdmWarning: IProgress not found. Please update jupyter and ipywidgets. See https://ipywidgets.readthedocs.io/en/stable/user_install.html\n",
      "  from tqdm.autonotebook import tqdm\n"
     ]
    }
   ],
   "source": [
    "import jax\n",
    "import jax.numpy as jnp\n",
    "import chex\n",
    "import numpy as np\n",
    "#disable jax JIT\n",
    "#jax.config.update(\"jax_disable_jit\", True)\n",
    "\n",
    "from tqdm.autonotebook import tqdm\n",
    "from JAxtar.hash import hash_func_builder, HashTable\n",
    "from JAxtar.bgpq import BGPQ, HashTableIdx_HeapValue\n",
    "from functools import partial\n",
    "from puzzle.lightsout import LightsOut\n",
    "from heuristic.lightsout_heuristic import LightsOutHeuristic"
   ]
  },
  {
   "cell_type": "code",
   "execution_count": 3,
   "metadata": {},
   "outputs": [],
   "source": [
    "size = int(2e7)\n",
    "batch_size = int(8192)\n",
    "cost_weight = 1.0 - 1e-3 # for tie breaking"
   ]
  },
  {
   "cell_type": "code",
   "execution_count": 4,
   "metadata": {},
   "outputs": [],
   "source": [
    "puzzle = LightsOut(7)"
   ]
  },
  {
   "cell_type": "code",
   "execution_count": 5,
   "metadata": {},
   "outputs": [],
   "source": [
    "hash_func = hash_func_builder(puzzle.State)\n",
    "table = HashTable.build(puzzle.State, 1, size)\n",
    "size_table = table.capacity\n",
    "n_table = table.n_table\n",
    "heap = BGPQ.build(size, batch_size, HashTableIdx_HeapValue)\n",
    "cost = jnp.full((size_table, n_table), jnp.inf)\n",
    "not_closed = jnp.full((size_table, n_table), True, dtype=bool)\n",
    "parent = jnp.full((size_table, n_table, 2), -1, dtype=int)"
   ]
  },
  {
   "cell_type": "code",
   "execution_count": 6,
   "metadata": {},
   "outputs": [],
   "source": [
    "lookup = jax.jit(jax.vmap(partial(HashTable.lookup, hash_func), in_axes=(None, 0)))\n",
    "parallel_insert = jax.jit(partial(HashTable.parallel_insert, hash_func))\n",
    "heuristic = jax.jit(jax.vmap(LightsOutHeuristic(puzzle).distance, in_axes=(0, None)))\n",
    "solved_fn = jax.jit(jax.vmap(puzzle.is_solved, in_axes=(0, None)))\n",
    "neighbours_fn = jax.jit(jax.vmap(puzzle.get_neighbours, in_axes=(0,0)))\n",
    "delete_fn = jax.jit(BGPQ.delete_mins)\n",
    "insert_fn = jax.jit(BGPQ.insert)"
   ]
  },
  {
   "cell_type": "code",
   "execution_count": 7,
   "metadata": {},
   "outputs": [
    {
     "name": "stdout",
     "output_type": "stream",
     "text": [
      "[ True False False False False False False False False False]\n",
      "[3.  9.8 9.8 9.8 9.8 9.8 9.8 9.8 9.8 9.8]\n"
     ]
    }
   ],
   "source": [
    "states = jax.vmap(puzzle.get_initial_state, in_axes=0)(key=jax.random.split(jax.random.PRNGKey(128),1))\n",
    "#states = puzzle.State(board=jnp.array([0, 12, 9, 13, 15, 11, 10, 14, 3, 7, 2, 5, 4, 8, 6, 1], dtype=jnp.uint8))[jnp.newaxis, ...]\n",
    "# 80 moves to solve\n",
    "target = puzzle.get_target_state()\n",
    "states, filled = HashTable.make_batched(puzzle.State, states, batch_size)\n",
    "cost_val = jnp.full((batch_size,), jnp.inf).at[0].set(0)\n",
    "table, inserted, idx, table_idx = parallel_insert(table, states, filled)\n",
    "found = inserted\n",
    "print(found[:10])\n",
    "heur_val = heuristic(states, target)\n",
    "print(heur_val[:10])\n",
    "hash_idxs = HashTableIdx_HeapValue(index=idx, table_index=table_idx)[:, jnp.newaxis]\n",
    "cost = cost.at[idx, table_idx].set(jnp.where(found, cost_val, cost[idx, table_idx]))\n",
    "key = cost_val + heur_val\n",
    "heap = BGPQ.insert(heap, key, hash_idxs)"
   ]
  },
  {
   "cell_type": "code",
   "execution_count": 8,
   "metadata": {},
   "outputs": [
    {
     "name": "stdout",
     "output_type": "stream",
     "text": [
      "┏━━━━━━━━━━━━━━━┓\n",
      "┃ □ □ □ □ □ □ ■ ┃\n",
      "┃ □ □ □ □ □ ■ ■ ┃\n",
      "┃ □ ■ □ □ □ □ ■ ┃\n",
      "┃ ■ ■ ■ □ □ □ □ ┃\n",
      "┃ ■ □ ■ □ □ □ □ ┃\n",
      "┃ □ ■ □ □ □ □ □ ┃\n",
      "┃ ■ ■ □ ■ ■ □ □ ┃\n",
      "┗━━━━━━━━━━━━━━━┛\n"
     ]
    },
    {
     "name": "stderr",
     "output_type": "stream",
     "text": [
      "heap_size:   568214, total_nodes:   587000, cost: 4.49, closed_ratio: 0.17:   4%|▍         | 850051/20000000 [00:10<04:01, 79316.44it/s] \n"
     ]
    },
    {
     "name": "stdout",
     "output_type": "stream",
     "text": [
      "┏━━━━━━━━━━━━━━━┓\n",
      "┃ □ □ □ □ □ □ □ ┃\n",
      "┃ □ □ □ □ □ □ □ ┃\n",
      "┃ □ □ □ □ □ □ □ ┃\n",
      "┃ □ □ □ □ □ □ □ ┃\n",
      "┃ □ □ □ □ □ □ □ ┃\n",
      "┃ □ □ □ □ □ □ □ ┃\n",
      "┃ □ □ □ □ □ □ □ ┃\n",
      "┗━━━━━━━━━━━━━━━┛\n",
      "6.0\n"
     ]
    }
   ],
   "source": [
    "print(states[0])\n",
    "pbar = tqdm(total=size)\n",
    "pbar.update(1)\n",
    "while heap.size < size and not heap.size == 0 and table.size < size:\n",
    "    pbar_str = f\"heap_size: {heap.size:8d}, total_nodes: {table.size:8d}, \"\n",
    "    # get the minimum key\n",
    "    heap, min_key, min_val = delete_fn(heap)\n",
    "    min_idx, min_table_idx = min_val.index, min_val.table_index\n",
    "    parent_idx = jnp.stack((min_idx, min_table_idx), axis=-1).astype(jnp.int32)\n",
    "    # get the state\n",
    "    cost_val, not_closed_val = cost[min_idx, min_table_idx], not_closed[min_idx, min_table_idx]\n",
    "    states = table.table[min_idx, min_table_idx]\n",
    "    solved = solved_fn(states, target)\n",
    "    if solved.any():\n",
    "        break\n",
    "\n",
    "    # check if the state is already closed\n",
    "    filled = jnp.logical_and(jnp.isfinite(min_key), not_closed_val)\n",
    "    if not filled.any():\n",
    "        continue\n",
    "    not_closed = not_closed.at[min_idx, min_table_idx].min(~filled)\n",
    "    closed_ratio = jnp.mean(~filled)\n",
    "    pbar_str += f\"cost: {jnp.mean(cost_val):.2f}, closed_ratio: {closed_ratio:.2f}\"\n",
    "    pbar.set_description_str(pbar_str)\n",
    "\n",
    "    neighbours, ncost = neighbours_fn(states, filled)\n",
    "    nextcosts = cost_val[:, jnp.newaxis] + ncost\n",
    "    nextheur = jax.vmap(heuristic, in_axes=(0, None))(neighbours, target)\n",
    "    nextkeys = cost_weight * nextcosts + nextheur\n",
    "    filleds = jnp.isfinite(nextkeys)\n",
    "    for i in range(nextkeys.shape[1]):\n",
    "        nextkey = nextkeys[:, i]\n",
    "        nextcost = nextcosts[:, i]\n",
    "        nextstates = neighbours[:, i]\n",
    "        filled = filleds[:, i]\n",
    "\n",
    "        table, inserted, idx, table_idx = parallel_insert(table, nextstates, filled)\n",
    "        vals = HashTableIdx_HeapValue(index=idx, table_index=table_idx)[:, jnp.newaxis]\n",
    "        optimal = jnp.less(nextcost, cost[idx, table_idx])\n",
    "        cost = cost.at[idx, table_idx].min(nextcost)\n",
    "        parent = parent.at[idx, table_idx].set(jnp.where(optimal[:,jnp.newaxis], parent_idx, parent[idx, table_idx]))\n",
    "        not_closed_update = not_closed[idx, table_idx] | optimal\n",
    "        not_closed = not_closed.at[idx, table_idx].set(not_closed_update)\n",
    "        nextkey = jnp.where(not_closed_update, nextkey, jnp.inf)\n",
    "        added = int(jnp.sum(optimal))\n",
    "        \n",
    "        heap = insert_fn(heap, nextkey, vals, added_size=added)\n",
    "        pbar.update(added)\n",
    "pbar.close()\n",
    "solved_st = states[solved][0]\n",
    "n_cost = cost_val[solved][0]\n",
    "print(solved_st)\n",
    "print(n_cost)"
   ]
  },
  {
   "cell_type": "code",
   "execution_count": 9,
   "metadata": {},
   "outputs": [
    {
     "name": "stdout",
     "output_type": "stream",
     "text": [
      "┏━━━━━━━━━━━━━━━┓\n",
      "┃ □ □ □ □ □ □ ■ ┃\n",
      "┃ □ □ □ □ □ ■ ■ ┃\n",
      "┃ □ ■ □ □ □ □ ■ ┃\n",
      "┃ ■ ■ ■ □ □ □ □ ┃\n",
      "┃ ■ □ ■ □ □ □ □ ┃\n",
      "┃ □ ■ □ □ □ □ □ ┃\n",
      "┃ ■ ■ □ ■ ■ □ □ ┃\n",
      "┗━━━━━━━━━━━━━━━┛\n",
      "0.0\n",
      "┏━━━━━━━━━━━━━━━┓\n",
      "┃ □ □ □ □ □ □ □ ┃\n",
      "┃ □ □ □ □ □ □ □ ┃\n",
      "┃ □ ■ □ □ □ □ □ ┃\n",
      "┃ ■ ■ ■ □ □ □ □ ┃\n",
      "┃ ■ □ ■ □ □ □ □ ┃\n",
      "┃ □ ■ □ □ □ □ □ ┃\n",
      "┃ ■ ■ □ ■ ■ □ □ ┃\n",
      "┗━━━━━━━━━━━━━━━┛\n",
      "1.0\n",
      "┏━━━━━━━━━━━━━━━┓\n",
      "┃ □ □ □ □ □ □ □ ┃\n",
      "┃ □ □ □ □ □ □ □ ┃\n",
      "┃ □ ■ □ □ □ □ □ ┃\n",
      "┃ ■ ■ ■ □ □ □ □ ┃\n",
      "┃ ■ □ ■ □ □ □ □ ┃\n",
      "┃ □ ■ □ ■ □ □ □ ┃\n",
      "┃ ■ ■ ■ □ □ □ □ ┃\n",
      "┗━━━━━━━━━━━━━━━┛\n",
      "2.0\n",
      "┏━━━━━━━━━━━━━━━┓\n",
      "┃ □ □ □ □ □ □ □ ┃\n",
      "┃ □ □ □ □ □ □ □ ┃\n",
      "┃ □ ■ □ □ □ □ □ ┃\n",
      "┃ ■ ■ ■ □ □ □ □ ┃\n",
      "┃ ■ □ □ □ □ □ □ ┃\n",
      "┃ □ □ ■ □ □ □ □ ┃\n",
      "┃ ■ ■ □ □ □ □ □ ┃\n",
      "┗━━━━━━━━━━━━━━━┛\n",
      "3.0\n",
      "┏━━━━━━━━━━━━━━━┓\n",
      "┃ □ □ □ □ □ □ □ ┃\n",
      "┃ □ □ □ □ □ □ □ ┃\n",
      "┃ □ ■ □ □ □ □ □ ┃\n",
      "┃ ■ ■ ■ □ □ □ □ ┃\n",
      "┃ ■ ■ □ □ □ □ □ ┃\n",
      "┃ ■ ■ □ □ □ □ □ ┃\n",
      "┃ ■ □ □ □ □ □ □ ┃\n",
      "┗━━━━━━━━━━━━━━━┛\n",
      "4.0\n",
      "┏━━━━━━━━━━━━━━━┓\n",
      "┃ □ □ □ □ □ □ □ ┃\n",
      "┃ □ □ □ □ □ □ □ ┃\n",
      "┃ □ □ □ □ □ □ □ ┃\n",
      "┃ □ □ □ □ □ □ □ ┃\n",
      "┃ ■ □ □ □ □ □ □ ┃\n",
      "┃ ■ ■ □ □ □ □ □ ┃\n",
      "┃ ■ □ □ □ □ □ □ ┃\n",
      "┗━━━━━━━━━━━━━━━┛\n",
      "5.0\n",
      "┏━━━━━━━━━━━━━━━┓\n",
      "┃ □ □ □ □ □ □ □ ┃\n",
      "┃ □ □ □ □ □ □ □ ┃\n",
      "┃ □ □ □ □ □ □ □ ┃\n",
      "┃ □ □ □ □ □ □ □ ┃\n",
      "┃ □ □ □ □ □ □ □ ┃\n",
      "┃ □ □ □ □ □ □ □ ┃\n",
      "┃ □ □ □ □ □ □ □ ┃\n",
      "┗━━━━━━━━━━━━━━━┛\n",
      "6.0\n",
      "┏━━━━━━━━━━━━━━━┓\n",
      "┃ □ □ □ □ □ □ □ ┃\n",
      "┃ □ □ □ □ □ □ □ ┃\n",
      "┃ □ □ □ □ □ □ □ ┃\n",
      "┃ □ □ □ □ □ □ □ ┃\n",
      "┃ □ □ □ □ □ □ □ ┃\n",
      "┃ □ □ □ □ □ □ □ ┃\n",
      "┃ □ □ □ □ □ □ □ ┃\n",
      "┗━━━━━━━━━━━━━━━┛\n",
      "6.0\n"
     ]
    }
   ],
   "source": [
    "path = []\n",
    "idx = jnp.argmax(jnp.max(solved, axis=0))\n",
    "parent_last = parent_idx[idx]\n",
    "for i in range(100):\n",
    "    if parent_last[0] == -1:\n",
    "        break\n",
    "    path.append(parent_last)\n",
    "    parent_last = parent[parent_last[0], parent_last[1]]\n",
    "\n",
    "for p in path[::-1]:\n",
    "    state = table.table[p[0], p[1]]\n",
    "    c = cost[p[0], p[1]]\n",
    "    print(state)\n",
    "    print(c)\n",
    "print(solved_st)\n",
    "print(n_cost)"
   ]
  },
  {
   "cell_type": "code",
   "execution_count": null,
   "metadata": {},
   "outputs": [],
   "source": []
  }
 ],
 "metadata": {
  "kernelspec": {
   "display_name": "py311",
   "language": "python",
   "name": "python3"
  },
  "language_info": {
   "codemirror_mode": {
    "name": "ipython",
    "version": 3
   },
   "file_extension": ".py",
   "mimetype": "text/x-python",
   "name": "python",
   "nbconvert_exporter": "python",
   "pygments_lexer": "ipython3",
   "version": "3.10.15"
  }
 },
 "nbformat": 4,
 "nbformat_minor": 2
}
