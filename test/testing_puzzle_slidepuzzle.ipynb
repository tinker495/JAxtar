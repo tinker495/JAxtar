{
 "cells": [
  {
   "cell_type": "code",
   "execution_count": 1,
   "metadata": {},
   "outputs": [
    {
     "name": "stdout",
     "output_type": "stream",
     "text": [
      "env: CUDA_VISIBLE_DEVICES=0\n"
     ]
    }
   ],
   "source": [
    "from conftest import setup_project\n",
    "setup_project()"
   ]
  },
  {
   "cell_type": "code",
   "execution_count": 2,
   "metadata": {},
   "outputs": [],
   "source": [
    "import jax\n",
    "import jax.numpy as jnp\n",
    "\n",
    "from JAxtar.hash import hash_func_builder\n",
    "from puzzle.slidepuzzle import SlidePuzzle\n",
    "from heuristic.slidepuzzle_heuristic import SlidePuzzleHeuristic"
   ]
  },
  {
   "cell_type": "code",
   "execution_count": 3,
   "metadata": {},
   "outputs": [],
   "source": [
    "puzzle = SlidePuzzle(4)\n",
    "heuristic = SlidePuzzleHeuristic(puzzle)"
   ]
  },
  {
   "cell_type": "code",
   "execution_count": 4,
   "metadata": {},
   "outputs": [
    {
     "name": "stdout",
     "output_type": "stream",
     "text": [
      "┏━━━┳━━━┳━━━┳━━━┓\n",
      "┃   ┃   ┃   ┃   ┃\n",
      "┣━━━╋━━━╋━━━╋━━━┫\n",
      "┃   ┃   ┃   ┃   ┃\n",
      "┣━━━╋━━━╋━━━╋━━━┫\n",
      "┃   ┃   ┃   ┃   ┃\n",
      "┣━━━╋━━━╋━━━╋━━━┫\n",
      "┃   ┃   ┃   ┃   ┃\n",
      "┗━━━┻━━━┻━━━┻━━━┛\n",
      "┏━━━┳━━━┳━━━┳━━━┓\n",
      "┃ 4 ┃ 2 ┃ C ┃ B ┃\n",
      "┣━━━╋━━━╋━━━╋━━━┫\n",
      "┃ F ┃   ┃ 8 ┃ 3 ┃\n",
      "┣━━━╋━━━╋━━━╋━━━┫\n",
      "┃ A ┃ 9 ┃ 1 ┃ 7 ┃\n",
      "┣━━━╋━━━╋━━━╋━━━┫\n",
      "┃ E ┃ 5 ┃ D ┃ 6 ┃\n",
      "┗━━━┻━━━┻━━━┻━━━┛\n",
      "Solverable :  True\n"
     ]
    }
   ],
   "source": [
    "#check batch generation\n",
    "defualt_state = jax.vmap(puzzle.State.default)(jnp.zeros(10000))\n",
    "print(defualt_state[0])\n",
    "states = jax.vmap(puzzle.get_initial_state, in_axes=0)(key=jax.random.split(jax.random.PRNGKey(0),10))\n",
    "print(states[0])\n",
    "print(\"Solverable : \", puzzle._solvable(states[0]))"
   ]
  },
  {
   "cell_type": "code",
   "execution_count": 5,
   "metadata": {},
   "outputs": [
    {
     "name": "stdout",
     "output_type": "stream",
     "text": [
      "┏━━━┳━━━┳━━━┳━━━┓\n",
      "┃ 1 ┃ 2 ┃ 3 ┃ 4 ┃\n",
      "┣━━━╋━━━╋━━━╋━━━┫\n",
      "┃ 5 ┃ 6 ┃ 7 ┃ 8 ┃\n",
      "┣━━━╋━━━╋━━━╋━━━┫\n",
      "┃ 9 ┃ A ┃ B ┃ C ┃\n",
      "┣━━━╋━━━╋━━━╋━━━┫\n",
      "┃ D ┃ E ┃ F ┃   ┃\n",
      "┗━━━┻━━━┻━━━┻━━━┛\n",
      "Solverable :  True\n",
      "┏━━━┳━━━┳━━━┳━━━┓\n",
      "┃ 1 ┃ 2 ┃ 3 ┃ 4 ┃\n",
      "┣━━━╋━━━╋━━━╋━━━┫\n",
      "┃ 5 ┃ 6 ┃ 7 ┃ 8 ┃\n",
      "┣━━━╋━━━╋━━━╋━━━┫\n",
      "┃ 9 ┃ A ┃ B ┃ C ┃\n",
      "┣━━━╋━━━╋━━━╋━━━┫\n",
      "┃ D ┃ F ┃ E ┃   ┃\n",
      "┗━━━┻━━━┻━━━┻━━━┛\n",
      "Solverable :  False\n"
     ]
    }
   ],
   "source": [
    "#check solverable is working\n",
    "states = puzzle.State(board=jnp.array([1,2,3,4,5,6,7,8,9,10,11,12,13,14,15,0]))\n",
    "print(states)\n",
    "print(\"Solverable : \", puzzle._solvable(states))\n",
    "states = puzzle.State(board=jnp.array([1,2,3,4,5,6,7,8,9,10,11,12,13,15,14,0]))\n",
    "print(states)\n",
    "print(\"Solverable : \", puzzle._solvable(states))"
   ]
  },
  {
   "cell_type": "code",
   "execution_count": 6,
   "metadata": {},
   "outputs": [
    {
     "name": "stdout",
     "output_type": "stream",
     "text": [
      "┏━━━┳━━━┳━━━┳━━━┓\n",
      "┃ 1 ┃ 2 ┃ 3 ┃ 4 ┃\n",
      "┣━━━╋━━━╋━━━╋━━━┫\n",
      "┃ 5 ┃ 6 ┃ 7 ┃ 8 ┃\n",
      "┣━━━╋━━━╋━━━╋━━━┫\n",
      "┃ 9 ┃ A ┃ B ┃ C ┃\n",
      "┣━━━╋━━━╋━━━╋━━━┫\n",
      "┃ D ┃ E ┃ F ┃   ┃\n",
      "┗━━━┻━━━┻━━━┻━━━┛\n",
      "┏━━━┳━━━┳━━━┳━━━┓  ┏━━━┳━━━┳━━━┳━━━┓  ┏━━━┳━━━┳━━━┳━━━┓  ┏━━━┳━━━┳━━━┳━━━┓  batch : (4,)\n",
      "┃ 1 ┃ 2 ┃ 3 ┃ 4 ┃  ┃ 1 ┃ 2 ┃ 3 ┃ 4 ┃  ┃ 1 ┃ 2 ┃ 3 ┃ 4 ┃  ┃ 1 ┃ 2 ┃ 3 ┃ 4 ┃\n",
      "┣━━━╋━━━╋━━━╋━━━┫  ┣━━━╋━━━╋━━━╋━━━┫  ┣━━━╋━━━╋━━━╋━━━┫  ┣━━━╋━━━╋━━━╋━━━┫\n",
      "┃ 5 ┃ 6 ┃ 7 ┃ 8 ┃  ┃ 5 ┃ 6 ┃ 7 ┃ 8 ┃  ┃ 5 ┃ 6 ┃ 7 ┃ 8 ┃  ┃ 5 ┃ 6 ┃ 7 ┃ 8 ┃\n",
      "┣━━━╋━━━╋━━━╋━━━┫  ┣━━━╋━━━╋━━━╋━━━┫  ┣━━━╋━━━╋━━━╋━━━┫  ┣━━━╋━━━╋━━━╋━━━┫\n",
      "┃ 9 ┃ A ┃ B ┃ C ┃  ┃ 9 ┃ A ┃ B ┃ C ┃  ┃ 9 ┃ A ┃ B ┃ C ┃  ┃ 9 ┃ A ┃ B ┃   ┃\n",
      "┣━━━╋━━━╋━━━╋━━━┫  ┣━━━╋━━━╋━━━╋━━━┫  ┣━━━╋━━━╋━━━╋━━━┫  ┣━━━╋━━━╋━━━╋━━━┫\n",
      "┃ D ┃ E ┃ F ┃   ┃  ┃ D ┃ E ┃   ┃ F ┃  ┃ D ┃ E ┃ F ┃   ┃  ┃ D ┃ E ┃ F ┃ C ┃\n",
      "┗━━━┻━━━┻━━━┻━━━┛  ┗━━━┻━━━┻━━━┻━━━┛  ┗━━━┻━━━┻━━━┻━━━┛  ┗━━━┻━━━┻━━━┻━━━┛\n",
      "[inf  1. inf  1.]\n"
     ]
    }
   ],
   "source": [
    "#check neighbours\n",
    "states = puzzle.State(board=jnp.array([1,2,3,4,5,6,7,8,9,10,11,12,13,14,15,0]))\n",
    "print(states)\n",
    "next_states, costs = puzzle.get_neighbours(states)\n",
    "print(next_states)\n",
    "print(costs)"
   ]
  },
  {
   "cell_type": "code",
   "execution_count": 7,
   "metadata": {},
   "outputs": [
    {
     "name": "stdout",
     "output_type": "stream",
     "text": [
      "┏━━━┳━━━┳━━━┳━━━┓  ┏━━━┳━━━┳━━━┳━━━┓  ┏━━━┳━━━┳━━━┳━━━┓  ...                     ┏━━━┳━━━┳━━━┳━━━┓  ┏━━━┳━━━┳━━━┳━━━┓  ┏━━━┳━━━┳━━━┳━━━┓\n",
      "┃ D ┃ 9 ┃ 4 ┃ 2 ┃  ┃ D ┃ 9 ┃ 4 ┃ 2 ┃  ┃ D ┃ 9 ┃ 4 ┃ 2 ┃  (batch : (1000000, 4))  ┃ B ┃ 7 ┃ 1 ┃ F ┃  ┃ B ┃ 7 ┃ 1 ┃ F ┃  ┃ B ┃ 7 ┃ 1 ┃ F ┃\n",
      "┣━━━╋━━━╋━━━╋━━━┫  ┣━━━╋━━━╋━━━╋━━━┫  ┣━━━╋━━━╋━━━╋━━━┫                          ┣━━━╋━━━╋━━━╋━━━┫  ┣━━━╋━━━╋━━━╋━━━┫  ┣━━━╋━━━╋━━━╋━━━┫\n",
      "┃ 8 ┃ 3 ┃   ┃ C ┃  ┃   ┃ 8 ┃ 3 ┃ C ┃  ┃ 8 ┃ B ┃ 3 ┃ C ┃                          ┃ 9 ┃ A ┃ C ┃ 4 ┃  ┃ 9 ┃ A ┃ C ┃ 4 ┃  ┃ 9 ┃ A ┃ C ┃ 4 ┃\n",
      "┣━━━╋━━━╋━━━╋━━━┫  ┣━━━╋━━━╋━━━╋━━━┫  ┣━━━╋━━━╋━━━╋━━━┫                          ┣━━━╋━━━╋━━━╋━━━┫  ┣━━━╋━━━╋━━━╋━━━┫  ┣━━━╋━━━╋━━━╋━━━┫\n",
      "┃ 5 ┃ B ┃ A ┃ 7 ┃  ┃ 5 ┃ B ┃ A ┃ 7 ┃  ┃ 5 ┃   ┃ A ┃ 7 ┃                          ┃ 6 ┃ 3 ┃ E ┃ 2 ┃  ┃ 6 ┃ 3 ┃ E ┃ 2 ┃  ┃ 6 ┃ 3 ┃   ┃ 2 ┃\n",
      "┣━━━╋━━━╋━━━╋━━━┫  ┣━━━╋━━━╋━━━╋━━━┫  ┣━━━╋━━━╋━━━╋━━━┫                          ┣━━━╋━━━╋━━━╋━━━┫  ┣━━━╋━━━╋━━━╋━━━┫  ┣━━━╋━━━╋━━━╋━━━┫\n",
      "┃ E ┃ 1 ┃ 6 ┃ F ┃  ┃ E ┃ 1 ┃ 6 ┃ F ┃  ┃ E ┃ 1 ┃ 6 ┃ F ┃                          ┃ 5 ┃   ┃ D ┃ 8 ┃  ┃ 5 ┃ D ┃   ┃ 8 ┃  ┃ 5 ┃ D ┃ E ┃ 8 ┃\n",
      "┗━━━┻━━━┻━━━┻━━━┛  ┗━━━┻━━━┻━━━┻━━━┛  ┗━━━┻━━━┻━━━┻━━━┛                          ┗━━━┻━━━┻━━━┻━━━┛  ┗━━━┻━━━┻━━━┻━━━┛  ┗━━━┻━━━┻━━━┻━━━┛\n",
      "4000000 (4, 16)\n",
      "shape(board=(4000000, 16))\n",
      "dtype(board=dtype('uint8'))\n",
      "(4000000,)\n"
     ]
    }
   ],
   "source": [
    "# check batch neighbours\n",
    "states = jax.vmap(puzzle.get_initial_state, in_axes=0)(key=jax.random.split(jax.random.PRNGKey(0),int(1e6))) # total 10 million states\n",
    "next_states, costs = jax.vmap(puzzle.get_neighbours, in_axes=0)(states)\n",
    "print(next_states)\n",
    "next_states = next_states.flatten()\n",
    "costs = costs.flatten()\n",
    "print(next_states.shape)\n",
    "print(next_states.dtype)\n",
    "print(costs.shape)"
   ]
  },
  {
   "cell_type": "code",
   "execution_count": 8,
   "metadata": {},
   "outputs": [],
   "source": [
    "puzzle_hash_fun: callable = hash_func_builder(puzzle.State)"
   ]
  },
  {
   "cell_type": "code",
   "execution_count": 9,
   "metadata": {},
   "outputs": [
    {
     "name": "stdout",
     "output_type": "stream",
     "text": [
      "(1000000,)\n",
      "uint32\n",
      "(999886,)\n",
      "(999999, 16)\n",
      "(4000000,)\n",
      "uint32\n",
      "(3748792,)\n",
      "(3750470, 16)\n"
     ]
    }
   ],
   "source": [
    "#check hashing\n",
    "hashes = jax.vmap(puzzle_hash_fun, in_axes=(0, None))(states, 1)\n",
    "#count hash collision\n",
    "print(hashes.shape)\n",
    "print(hashes.dtype)\n",
    "print(jnp.unique(hashes).shape) # Low collision\n",
    "print(jnp.unique(states.board, axis=0).shape) # Low collision\n",
    "\n",
    "hashes = jax.vmap(puzzle_hash_fun, in_axes=(0, None))(next_states, 1)\n",
    "#count hash collision\n",
    "print(hashes.shape)\n",
    "print(hashes.dtype)\n",
    "print(jnp.unique(hashes).shape) # High collision\n",
    "print(jnp.unique(next_states.board, axis=0).shape) # High collision"
   ]
  },
  {
   "cell_type": "code",
   "execution_count": 10,
   "metadata": {},
   "outputs": [
    {
     "name": "stdout",
     "output_type": "stream",
     "text": [
      "Heuristic\n",
      "[ 1.  1.  1. ... 44. 43. 42.]\n"
     ]
    }
   ],
   "source": [
    "#check heuristic\n",
    "print(\"Heuristic\")\n",
    "dist = jax.vmap(heuristic.distance, in_axes=(0, None))(next_states, states[0])\n",
    "print(dist)"
   ]
  },
  {
   "cell_type": "code",
   "execution_count": 11,
   "metadata": {},
   "outputs": [
    {
     "name": "stdout",
     "output_type": "stream",
     "text": [
      "┏━━━┳━━━┳━━━┳━━━┓  ┏━━━┳━━━┳━━━┳━━━┓  ┏━━━┳━━━┳━━━┳━━━┓  ┏━━━┳━━━┳━━━┳━━━┓  batch : (4,)\n",
      "┃ 1 ┃ 2 ┃ 3 ┃ 4 ┃  ┃ 1 ┃ 2 ┃ 3 ┃ 4 ┃  ┃ 1 ┃ 2 ┃ 3 ┃ 4 ┃  ┃ 1 ┃ 2 ┃ 3 ┃ 4 ┃\n",
      "┣━━━╋━━━╋━━━╋━━━┫  ┣━━━╋━━━╋━━━╋━━━┫  ┣━━━╋━━━╋━━━╋━━━┫  ┣━━━╋━━━╋━━━╋━━━┫\n",
      "┃ 5 ┃ 6 ┃ 7 ┃ 8 ┃  ┃ 5 ┃ 6 ┃ 7 ┃ 8 ┃  ┃ 5 ┃ 6 ┃ 7 ┃ 8 ┃  ┃ 5 ┃ 6 ┃ 7 ┃ 8 ┃\n",
      "┣━━━╋━━━╋━━━╋━━━┫  ┣━━━╋━━━╋━━━╋━━━┫  ┣━━━╋━━━╋━━━╋━━━┫  ┣━━━╋━━━╋━━━╋━━━┫\n",
      "┃ 9 ┃ A ┃ B ┃ C ┃  ┃ 9 ┃ A ┃ B ┃ C ┃  ┃ 9 ┃ A ┃ B ┃ C ┃  ┃ 9 ┃ A ┃ B ┃   ┃\n",
      "┣━━━╋━━━╋━━━╋━━━┫  ┣━━━╋━━━╋━━━╋━━━┫  ┣━━━╋━━━╋━━━╋━━━┫  ┣━━━╋━━━╋━━━╋━━━┫\n",
      "┃ D ┃ E ┃ F ┃   ┃  ┃ D ┃ E ┃   ┃ F ┃  ┃ D ┃ E ┃ F ┃   ┃  ┃ D ┃ E ┃ F ┃ C ┃\n",
      "┗━━━┻━━━┻━━━┻━━━┛  ┗━━━┻━━━┻━━━┻━━━┛  ┗━━━┻━━━┻━━━┻━━━┛  ┗━━━┻━━━┻━━━┻━━━┛\n",
      "4 (16,)\n",
      "[0.        1.2606621 0.        1.4513779]\n",
      "(4,)\n",
      "float32\n",
      "0.67801\n",
      "[45.122543 44.578976 44.029255 45.682407 54.29162  53.69931  54.29162\n",
      " 55.446392 43.21599  44.347206 44.347206 44.916676 52.93885  49.204758\n",
      " 50.32633  50.339493 50.294098 51.00911  49.333225 50.657272 52.12806\n",
      " 49.93093  52.17659  52.758057 61.898094 62.00374  62.441334 59.94262\n",
      " 47.01044  48.879807 45.081253 47.955498 51.4558   50.370193 51.871334\n",
      " 52.5882   55.30535  55.091557 55.57145  54.261215 49.70717  50.920715\n",
      " 50.920715 50.587337 60.303505 58.869965 58.929695 61.212036 41.527946\n",
      " 41.147953 40.89327  40.868896 51.308628 51.957092 49.881012 48.15442\n",
      " 52.045914 50.82341  50.45146  51.093117 49.310833 50.213505 50.87447\n",
      " 50.213505 59.267204 60.19095  59.902523 60.07898  57.675102 59.51182\n",
      " 58.625397 57.93873  35.445324 36.483715 35.478966 36.483715 45.31899\n",
      " 43.710564 46.385155 46.64949  50.662994 49.584396 50.662994 51.738464\n",
      " 54.105877 54.80957  55.16488  56.178833 53.45313  52.374546 51.780758\n",
      " 53.247635 46.113934 47.022404 48.169895 47.758728 58.332283 57.280518\n",
      " 58.51094  56.554707]\n",
      "(100,)\n",
      "float32\n",
      "51.116646\n"
     ]
    }
   ],
   "source": [
    "from heuristic.DAVI.neuralheuristic.slidepuzzle_neuralheuristic import SlidePuzzleNeuralHeuristic\n",
    "neural_heuristic = SlidePuzzleNeuralHeuristic.load_model(puzzle, \"../heuristic/DAVI/neuralheuristic/params/n-puzzle_4.pkl\")\n",
    "neural_heuristic_fn = neural_heuristic.distance\n",
    "target_state = puzzle.get_target_state()\n",
    "target_neighbours, costs = puzzle.get_neighbours(target_state)\n",
    "print(target_neighbours)\n",
    "dist = jax.vmap(neural_heuristic_fn, in_axes=(0, None))(target_neighbours.flatten(), target_state)\n",
    "print(dist)\n",
    "print(dist.shape)\n",
    "print(dist.dtype)\n",
    "print(jnp.mean(dist))\n",
    "\n",
    "dist = jax.vmap(neural_heuristic_fn, in_axes=(0, None))(next_states[:100], target_state)\n",
    "print(dist)\n",
    "print(dist.shape)\n",
    "print(dist.dtype)\n",
    "print(jnp.mean(dist))"
   ]
  }
 ],
 "metadata": {
  "kernelspec": {
   "display_name": "py311",
   "language": "python",
   "name": "python3"
  },
  "language_info": {
   "codemirror_mode": {
    "name": "ipython",
    "version": 3
   },
   "file_extension": ".py",
   "mimetype": "text/x-python",
   "name": "python",
   "nbconvert_exporter": "python",
   "pygments_lexer": "ipython3",
   "version": "3.11.9"
  }
 },
 "nbformat": 4,
 "nbformat_minor": 2
}
