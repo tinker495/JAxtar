{
 "cells": [
  {
   "cell_type": "code",
   "execution_count": 1,
   "metadata": {},
   "outputs": [
    {
     "name": "stdout",
     "output_type": "stream",
     "text": [
      "env: CUDA_VISIBLE_DEVICES=0\n"
     ]
    }
   ],
   "source": [
    "import sys\n",
    "import os\n",
    "\n",
    "# 프로젝트 루트 디렉토리 경로를 추가\n",
    "project_root = os.path.abspath(os.path.join(os.getcwd(), '..'))\n",
    "if project_root not in sys.path:\n",
    "    sys.path.append(project_root)\n",
    "%env CUDA_VISIBLE_DEVICES=0"
   ]
  },
  {
   "cell_type": "code",
   "execution_count": 2,
   "metadata": {},
   "outputs": [],
   "source": [
    "import jax\n",
    "import jax.numpy as jnp\n",
    "\n",
    "from JAxtar.hash import hash_func_builder\n",
    "from puzzle.slidepuzzle import SlidePuzzle\n",
    "from heuristic.slidepuzzle_heuristic import SlidePuzzleHeuristic"
   ]
  },
  {
   "cell_type": "code",
   "execution_count": 3,
   "metadata": {},
   "outputs": [
    {
     "name": "stderr",
     "output_type": "stream",
     "text": [
      "2024-09-24 08:27:05.876820: W external/xla/xla/service/gpu/nvptx_compiler.cc:765] The NVIDIA driver's CUDA version is 12.2 which is older than the ptxas CUDA version (12.5.82). Because the driver is older than the ptxas version, XLA is disabling parallel compilation, which may slow down compilation. You should update your NVIDIA driver or use the NVIDIA-provided CUDA forward compatibility packages.\n"
     ]
    }
   ],
   "source": [
    "puzzle = SlidePuzzle(4)\n",
    "heuristic = SlidePuzzleHeuristic(puzzle)"
   ]
  },
  {
   "cell_type": "code",
   "execution_count": 4,
   "metadata": {},
   "outputs": [
    {
     "name": "stdout",
     "output_type": "stream",
     "text": [
      "┏━━━┳━━━┳━━━┳━━━┓\n",
      "┃   ┃   ┃   ┃   ┃\n",
      "┣━━━╋━━━╋━━━╋━━━┫\n",
      "┃   ┃   ┃   ┃   ┃\n",
      "┣━━━╋━━━╋━━━╋━━━┫\n",
      "┃   ┃   ┃   ┃   ┃\n",
      "┣━━━╋━━━╋━━━╋━━━┫\n",
      "┃   ┃   ┃   ┃   ┃\n",
      "┗━━━┻━━━┻━━━┻━━━┛\n",
      "┏━━━┳━━━┳━━━┳━━━┓\n",
      "┃ 4 ┃ 2 ┃ C ┃ B ┃\n",
      "┣━━━╋━━━╋━━━╋━━━┫\n",
      "┃ F ┃   ┃ 8 ┃ 3 ┃\n",
      "┣━━━╋━━━╋━━━╋━━━┫\n",
      "┃ A ┃ 9 ┃ 1 ┃ 7 ┃\n",
      "┣━━━╋━━━╋━━━╋━━━┫\n",
      "┃ E ┃ 5 ┃ D ┃ 6 ┃\n",
      "┗━━━┻━━━┻━━━┻━━━┛\n",
      "Solverable :  True\n"
     ]
    }
   ],
   "source": [
    "#check batch generation\n",
    "defualt_state = jax.vmap(puzzle.State.default)(jnp.zeros(10000))\n",
    "print(defualt_state[0])\n",
    "states = jax.vmap(puzzle.get_initial_state, in_axes=0)(key=jax.random.split(jax.random.PRNGKey(0),10))\n",
    "print(states[0])\n",
    "print(\"Solverable : \", puzzle._solvable(states[0]))"
   ]
  },
  {
   "cell_type": "code",
   "execution_count": 5,
   "metadata": {},
   "outputs": [
    {
     "name": "stdout",
     "output_type": "stream",
     "text": [
      "┏━━━┳━━━┳━━━┳━━━┓\n",
      "┃ 1 ┃ 2 ┃ 3 ┃ 4 ┃\n",
      "┣━━━╋━━━╋━━━╋━━━┫\n",
      "┃ 5 ┃ 6 ┃ 7 ┃ 8 ┃\n",
      "┣━━━╋━━━╋━━━╋━━━┫\n",
      "┃ 9 ┃ A ┃ B ┃ C ┃\n",
      "┣━━━╋━━━╋━━━╋━━━┫\n",
      "┃ D ┃ E ┃ F ┃   ┃\n",
      "┗━━━┻━━━┻━━━┻━━━┛\n",
      "Solverable :  True\n",
      "┏━━━┳━━━┳━━━┳━━━┓\n",
      "┃ 1 ┃ 2 ┃ 3 ┃ 4 ┃\n",
      "┣━━━╋━━━╋━━━╋━━━┫\n",
      "┃ 5 ┃ 6 ┃ 7 ┃ 8 ┃\n",
      "┣━━━╋━━━╋━━━╋━━━┫\n",
      "┃ 9 ┃ A ┃ B ┃ C ┃\n",
      "┣━━━╋━━━╋━━━╋━━━┫\n",
      "┃ D ┃ F ┃ E ┃   ┃\n",
      "┗━━━┻━━━┻━━━┻━━━┛\n",
      "Solverable :  False\n"
     ]
    }
   ],
   "source": [
    "#check solverable is working\n",
    "states = puzzle.State(board=jnp.array([1,2,3,4,5,6,7,8,9,10,11,12,13,14,15,0]))\n",
    "print(states)\n",
    "print(\"Solverable : \", puzzle._solvable(states))\n",
    "states = puzzle.State(board=jnp.array([1,2,3,4,5,6,7,8,9,10,11,12,13,15,14,0]))\n",
    "print(states)\n",
    "print(\"Solverable : \", puzzle._solvable(states))"
   ]
  },
  {
   "cell_type": "code",
   "execution_count": 6,
   "metadata": {},
   "outputs": [
    {
     "name": "stdout",
     "output_type": "stream",
     "text": [
      "┏━━━┳━━━┳━━━┳━━━┓\n",
      "┃ 1 ┃ 2 ┃ 3 ┃ 4 ┃\n",
      "┣━━━╋━━━╋━━━╋━━━┫\n",
      "┃ 5 ┃ 6 ┃ 7 ┃ 8 ┃\n",
      "┣━━━╋━━━╋━━━╋━━━┫\n",
      "┃ 9 ┃ A ┃ B ┃ C ┃\n",
      "┣━━━╋━━━╋━━━╋━━━┫\n",
      "┃ D ┃ E ┃ F ┃   ┃\n",
      "┗━━━┻━━━┻━━━┻━━━┛\n",
      "┏━━━┳━━━┳━━━┳━━━┓  ┏━━━┳━━━┳━━━┳━━━┓  ┏━━━┳━━━┳━━━┳━━━┓  ┏━━━┳━━━┳━━━┳━━━┓  batch : (4,)\n",
      "┃ 1 ┃ 2 ┃ 3 ┃ 4 ┃  ┃ 1 ┃ 2 ┃ 3 ┃ 4 ┃  ┃ 1 ┃ 2 ┃ 3 ┃ 4 ┃  ┃ 1 ┃ 2 ┃ 3 ┃ 4 ┃\n",
      "┣━━━╋━━━╋━━━╋━━━┫  ┣━━━╋━━━╋━━━╋━━━┫  ┣━━━╋━━━╋━━━╋━━━┫  ┣━━━╋━━━╋━━━╋━━━┫\n",
      "┃ 5 ┃ 6 ┃ 7 ┃ 8 ┃  ┃ 5 ┃ 6 ┃ 7 ┃ 8 ┃  ┃ 5 ┃ 6 ┃ 7 ┃ 8 ┃  ┃ 5 ┃ 6 ┃ 7 ┃ 8 ┃\n",
      "┣━━━╋━━━╋━━━╋━━━┫  ┣━━━╋━━━╋━━━╋━━━┫  ┣━━━╋━━━╋━━━╋━━━┫  ┣━━━╋━━━╋━━━╋━━━┫\n",
      "┃ 9 ┃ A ┃ B ┃ C ┃  ┃ 9 ┃ A ┃ B ┃ C ┃  ┃ 9 ┃ A ┃ B ┃ C ┃  ┃ 9 ┃ A ┃ B ┃   ┃\n",
      "┣━━━╋━━━╋━━━╋━━━┫  ┣━━━╋━━━╋━━━╋━━━┫  ┣━━━╋━━━╋━━━╋━━━┫  ┣━━━╋━━━╋━━━╋━━━┫\n",
      "┃ D ┃ E ┃ F ┃   ┃  ┃ D ┃ E ┃   ┃ F ┃  ┃ D ┃ E ┃ F ┃   ┃  ┃ D ┃ E ┃ F ┃ C ┃\n",
      "┗━━━┻━━━┻━━━┻━━━┛  ┗━━━┻━━━┻━━━┻━━━┛  ┗━━━┻━━━┻━━━┻━━━┛  ┗━━━┻━━━┻━━━┻━━━┛\n",
      "[inf  1. inf  1.]\n"
     ]
    }
   ],
   "source": [
    "#check neighbours\n",
    "states = puzzle.State(board=jnp.array([1,2,3,4,5,6,7,8,9,10,11,12,13,14,15,0]))\n",
    "print(states)\n",
    "next_states, costs = puzzle.get_neighbours(states)\n",
    "print(next_states)\n",
    "print(costs)"
   ]
  },
  {
   "cell_type": "code",
   "execution_count": 7,
   "metadata": {},
   "outputs": [
    {
     "name": "stdout",
     "output_type": "stream",
     "text": [
      "┏━━━┳━━━┳━━━┳━━━┓  ┏━━━┳━━━┳━━━┳━━━┓  ┏━━━┳━━━┳━━━┳━━━┓  ...                     ┏━━━┳━━━┳━━━┳━━━┓  ┏━━━┳━━━┳━━━┳━━━┓  ┏━━━┳━━━┳━━━┳━━━┓\n",
      "┃ D ┃ 9 ┃ 4 ┃ 2 ┃  ┃ D ┃ 9 ┃ 4 ┃ 2 ┃  ┃ D ┃ 9 ┃ 4 ┃ 2 ┃  (batch : (1000000, 4))  ┃ B ┃ 7 ┃ 1 ┃ F ┃  ┃ B ┃ 7 ┃ 1 ┃ F ┃  ┃ B ┃ 7 ┃ 1 ┃ F ┃\n",
      "┣━━━╋━━━╋━━━╋━━━┫  ┣━━━╋━━━╋━━━╋━━━┫  ┣━━━╋━━━╋━━━╋━━━┫                          ┣━━━╋━━━╋━━━╋━━━┫  ┣━━━╋━━━╋━━━╋━━━┫  ┣━━━╋━━━╋━━━╋━━━┫\n",
      "┃ 8 ┃ 3 ┃   ┃ C ┃  ┃   ┃ 8 ┃ 3 ┃ C ┃  ┃ 8 ┃ B ┃ 3 ┃ C ┃                          ┃ 9 ┃ A ┃ C ┃ 4 ┃  ┃ 9 ┃ A ┃ C ┃ 4 ┃  ┃ 9 ┃ A ┃ C ┃ 4 ┃\n",
      "┣━━━╋━━━╋━━━╋━━━┫  ┣━━━╋━━━╋━━━╋━━━┫  ┣━━━╋━━━╋━━━╋━━━┫                          ┣━━━╋━━━╋━━━╋━━━┫  ┣━━━╋━━━╋━━━╋━━━┫  ┣━━━╋━━━╋━━━╋━━━┫\n",
      "┃ 5 ┃ B ┃ A ┃ 7 ┃  ┃ 5 ┃ B ┃ A ┃ 7 ┃  ┃ 5 ┃   ┃ A ┃ 7 ┃                          ┃ 6 ┃ 3 ┃ E ┃ 2 ┃  ┃ 6 ┃ 3 ┃ E ┃ 2 ┃  ┃ 6 ┃ 3 ┃   ┃ 2 ┃\n",
      "┣━━━╋━━━╋━━━╋━━━┫  ┣━━━╋━━━╋━━━╋━━━┫  ┣━━━╋━━━╋━━━╋━━━┫                          ┣━━━╋━━━╋━━━╋━━━┫  ┣━━━╋━━━╋━━━╋━━━┫  ┣━━━╋━━━╋━━━╋━━━┫\n",
      "┃ E ┃ 1 ┃ 6 ┃ F ┃  ┃ E ┃ 1 ┃ 6 ┃ F ┃  ┃ E ┃ 1 ┃ 6 ┃ F ┃                          ┃ 5 ┃   ┃ D ┃ 8 ┃  ┃ 5 ┃ D ┃   ┃ 8 ┃  ┃ 5 ┃ D ┃ E ┃ 8 ┃\n",
      "┗━━━┻━━━┻━━━┻━━━┛  ┗━━━┻━━━┻━━━┻━━━┛  ┗━━━┻━━━┻━━━┻━━━┛                          ┗━━━┻━━━┻━━━┻━━━┛  ┗━━━┻━━━┻━━━┻━━━┛  ┗━━━┻━━━┻━━━┻━━━┛\n",
      "shape(board=(4000000, 16))\n",
      "dtype(board=dtype('uint8'))\n",
      "(4000000,)\n"
     ]
    }
   ],
   "source": [
    "# check batch neighbours\n",
    "states = jax.vmap(puzzle.get_initial_state, in_axes=0)(key=jax.random.split(jax.random.PRNGKey(0),int(1e6))) # total 10 million states\n",
    "next_states, costs = jax.vmap(puzzle.get_neighbours, in_axes=0)(states)\n",
    "print(next_states)\n",
    "next_states = next_states.flatten()\n",
    "costs = costs.flatten()\n",
    "print(next_states.shape)\n",
    "print(next_states.dtype)\n",
    "print(costs.shape)"
   ]
  },
  {
   "cell_type": "code",
   "execution_count": 8,
   "metadata": {},
   "outputs": [],
   "source": [
    "puzzle_hash_fun: callable = hash_func_builder(puzzle.State)"
   ]
  },
  {
   "cell_type": "code",
   "execution_count": 9,
   "metadata": {},
   "outputs": [
    {
     "name": "stdout",
     "output_type": "stream",
     "text": [
      "(1000000,)\n",
      "uint32\n",
      "(999886,)\n",
      "(999999, 16)\n",
      "(4000000,)\n",
      "uint32\n",
      "(3748792,)\n",
      "(3750470, 16)\n"
     ]
    }
   ],
   "source": [
    "#check hashing\n",
    "hashes = jax.vmap(puzzle_hash_fun, in_axes=(0, None))(states, 1)\n",
    "#count hash collision\n",
    "print(hashes.shape)\n",
    "print(hashes.dtype)\n",
    "print(jnp.unique(hashes).shape) # Low collision\n",
    "print(jnp.unique(states.board, axis=0).shape) # Low collision\n",
    "\n",
    "hashes = jax.vmap(puzzle_hash_fun, in_axes=(0, None))(next_states, 1)\n",
    "#count hash collision\n",
    "print(hashes.shape)\n",
    "print(hashes.dtype)\n",
    "print(jnp.unique(hashes).shape) # High collision\n",
    "print(jnp.unique(next_states.board, axis=0).shape) # High collision"
   ]
  },
  {
   "cell_type": "code",
   "execution_count": 10,
   "metadata": {},
   "outputs": [
    {
     "name": "stdout",
     "output_type": "stream",
     "text": [
      "Heuristic\n",
      "[ 1.  1.  1. ... 44. 43. 42.]\n"
     ]
    }
   ],
   "source": [
    "#check heuristic\n",
    "print(\"Heuristic\")\n",
    "dist = jax.vmap(heuristic.distance, in_axes=(0, None))(next_states, states[0])\n",
    "print(dist)"
   ]
  }
 ],
 "metadata": {
  "kernelspec": {
   "display_name": "py311",
   "language": "python",
   "name": "python3"
  },
  "language_info": {
   "codemirror_mode": {
    "name": "ipython",
    "version": 3
   },
   "file_extension": ".py",
   "mimetype": "text/x-python",
   "name": "python",
   "nbconvert_exporter": "python",
   "pygments_lexer": "ipython3",
   "version": "3.11.9"
  }
 },
 "nbformat": 4,
 "nbformat_minor": 2
}
