{
 "cells": [
  {
   "cell_type": "code",
   "execution_count": 1,
   "metadata": {},
   "outputs": [
    {
     "name": "stdout",
     "output_type": "stream",
     "text": [
      "env: CUDA_VISIBLE_DEVICES=0\n"
     ]
    }
   ],
   "source": [
    "import sys\n",
    "import os\n",
    "\n",
    "# 프로젝트 루트 디렉토리 경로를 추가\n",
    "project_root = os.path.abspath(os.path.join(os.getcwd(), '..'))\n",
    "if project_root not in sys.path:\n",
    "    sys.path.append(project_root)\n",
    "%env CUDA_VISIBLE_DEVICES=0"
   ]
  },
  {
   "cell_type": "code",
   "execution_count": 2,
   "metadata": {},
   "outputs": [
    {
     "name": "stderr",
     "output_type": "stream",
     "text": [
      "2024-08-01 08:59:26.707637: W external/xla/xla/service/gpu/nvptx_compiler.cc:765] The NVIDIA driver's CUDA version is 12.2 which is older than the ptxas CUDA version (12.5.82). Because the driver is older than the ptxas version, XLA is disabling parallel compilation, which may slow down compilation. You should update your NVIDIA driver or use the NVIDIA-provided CUDA forward compatibility packages.\n"
     ]
    }
   ],
   "source": [
    "import jax\n",
    "import jax.numpy as jnp\n",
    "\n",
    "from JAxtar.hash import hash_func_builder, HashTable\n",
    "from JAxtar.bgpq import BGPQ, HashTableHeapValue\n",
    "from functools import partial\n",
    "from puzzle.slidepuzzle import SlidePuzzle\n",
    "from heuristic.slidepuzzle_heuristic import SlidePuzzleHeuristic"
   ]
  },
  {
   "cell_type": "code",
   "execution_count": 3,
   "metadata": {},
   "outputs": [],
   "source": [
    "puzzle = SlidePuzzle(4)\n",
    "heuristic = SlidePuzzleHeuristic(puzzle)"
   ]
  },
  {
   "cell_type": "code",
   "execution_count": 4,
   "metadata": {},
   "outputs": [
    {
     "name": "stdout",
     "output_type": "stream",
     "text": [
      "┏━━━┳━━━┳━━━┳━━━┓\n",
      "┃ 5 ┃   ┃ A ┃ E ┃\n",
      "┣━━━╋━━━╋━━━╋━━━┫\n",
      "┃ 8 ┃ 7 ┃ 2 ┃ D ┃\n",
      "┣━━━╋━━━╋━━━╋━━━┫\n",
      "┃ 1 ┃ 6 ┃ 9 ┃ 3 ┃\n",
      "┣━━━╋━━━╋━━━╋━━━┫\n",
      "┃ 4 ┃ F ┃ C ┃ B ┃\n",
      "┗━━━┻━━━┻━━━┻━━━┛\n"
     ]
    }
   ],
   "source": [
    "size = int(1e7)\n",
    "group_size = int(1024)\n",
    "#check batch generation\n",
    "states = jax.vmap(puzzle.get_initial_state, in_axes=0)(key=jax.random.split(jax.random.PRNGKey(123),1))\n",
    "print(states[0])\n",
    "hash_func = hash_func_builder(puzzle.State)\n",
    "table = HashTable.make_lookup_table(puzzle.State, 1, size)\n",
    "heap = BGPQ.make_heap(size, group_size, HashTableHeapValue)\n",
    "\n",
    "lookup = jax.jit(partial(HashTable.lookup, hash_func))\n",
    "parallel_insert = jax.jit(partial(HashTable.parallel_insert, hash_func))"
   ]
  },
  {
   "cell_type": "code",
   "execution_count": 5,
   "metadata": {},
   "outputs": [],
   "source": [
    "states, filled = HashTable.make_batched(puzzle.State, states, group_size)\n",
    "cost = jnp.full((group_size,), jnp.inf).at[0].set(0)\n",
    "table, inserted = parallel_insert(table, states, filled)\n",
    "idx, table_idx, found = jax.vmap(lookup, in_axes=(None, 0))(table, states)\n",
    "found = found & filled\n",
    "hash_idxs = HashTableHeapValue(index=jnp.expand_dims(idx,axis=-1), table_index=jnp.expand_dims(table_idx,axis=-1))\n",
    "heap = BGPQ.insert(heap, cost, hash_idxs)"
   ]
  },
  {
   "cell_type": "code",
   "execution_count": 6,
   "metadata": {},
   "outputs": [],
   "source": [
    "def visualize_state(state, filled):\n",
    "    for i in range(size):\n",
    "        if filled[i]:\n",
    "            print(state[i])"
   ]
  },
  {
   "cell_type": "code",
   "execution_count": 7,
   "metadata": {},
   "outputs": [
    {
     "name": "stdout",
     "output_type": "stream",
     "text": [
      "┏━━━┳━━━┳━━━┳━━━┓\n",
      "┃ 5 ┃   ┃ A ┃ E ┃\n",
      "┣━━━╋━━━╋━━━╋━━━┫\n",
      "┃ 8 ┃ 7 ┃ 2 ┃ D ┃\n",
      "┣━━━╋━━━╋━━━╋━━━┫\n",
      "┃ 1 ┃ 6 ┃ 9 ┃ 3 ┃\n",
      "┣━━━╋━━━╋━━━╋━━━┫\n",
      "┃ 4 ┃ F ┃ C ┃ B ┃\n",
      "┗━━━┻━━━┻━━━┻━━━┛\n",
      "1\n",
      "3\n",
      "6\n",
      "14\n",
      "32\n",
      "66\n",
      "136\n",
      "286\n",
      "609\n",
      "1277\n",
      "2391\n",
      "3412\n",
      "2388\n",
      "2997\n",
      "1973\n",
      "949\n",
      "1982\n",
      "3153\n",
      "4185\n",
      "3161\n",
      "2187\n",
      "1163\n",
      "139\n",
      "249\n",
      "599\n",
      "1351\n",
      "2541\n",
      "3573\n",
      "2549\n",
      "3352\n",
      "2328\n",
      "1304\n",
      "280\n",
      "439\n",
      "861\n",
      "1832\n",
      "3304\n",
      "4313\n",
      "3289\n",
      "2924\n",
      "1900\n",
      "876\n",
      "1987\n",
      "3000\n",
      "4007\n",
      "2983\n",
      "1959\n",
      "935\n",
      "1869\n",
      "3009\n",
      "3792\n",
      "2768\n",
      "2545\n",
      "1521\n",
      "497\n",
      "1031\n",
      "2170\n",
      "3138\n",
      "2114\n",
      "1406\n",
      "382\n",
      "778\n",
      "1649\n",
      "2764\n",
      "3672\n",
      "2648\n",
      "1676\n",
      "652\n",
      "1239\n",
      "2452\n",
      "3796\n",
      "2772\n",
      "3667\n",
      "2643\n",
      "1619\n",
      "595\n",
      "1146\n",
      "2007\n",
      "2928\n",
      "4350\n",
      "3531\n",
      "2507\n",
      "1483\n",
      "459\n",
      "1032\n",
      "2081\n",
      "3176\n",
      "2152\n",
      "1235\n",
      "211\n",
      "454\n",
      "983\n",
      "2201\n",
      "3502\n",
      "2478\n",
      "1711\n",
      "687\n",
      "1301\n",
      "2317\n",
      "3552\n",
      "2528\n",
      "3397\n",
      "2373\n",
      "1349\n",
      "325\n",
      "598\n",
      "1117\n",
      "2227\n",
      "3466\n",
      "2442\n",
      "2179\n",
      "1155\n",
      "131\n",
      "243\n",
      "374\n",
      "767\n",
      "1908\n",
      "2946\n",
      "4347\n",
      "3323\n",
      "2299\n",
      "1275\n",
      "251\n",
      "455\n",
      "958\n",
      "2243\n",
      "3720\n",
      "2696\n",
      "2966\n",
      "1942\n",
      "918\n",
      "2058\n",
      "3193\n",
      "2169\n",
      "1165\n",
      "141\n",
      "311\n",
      "579\n",
      "1149\n",
      "2443\n",
      "3409\n",
      "2385\n",
      "2724\n",
      "1700\n",
      "676\n",
      "1363\n",
      "2568\n",
      "3685\n",
      "2661\n",
      "3410\n",
      "2386\n",
      "1362\n",
      "338\n",
      "742\n",
      "1626\n",
      "2726\n",
      "3779\n",
      "2755\n",
      "2217\n",
      "1193\n",
      "169\n",
      "321\n",
      "535\n",
      "1087\n"
     ]
    },
    {
     "ename": "KeyboardInterrupt",
     "evalue": "",
     "output_type": "error",
     "traceback": [
      "\u001b[0;31m---------------------------------------------------------------------------\u001b[0m",
      "\u001b[0;31mKeyboardInterrupt\u001b[0m                         Traceback (most recent call last)",
      "Cell \u001b[0;32mIn[7], line 19\u001b[0m\n\u001b[1;32m     17\u001b[0m         idx, table_idx, found \u001b[38;5;241m=\u001b[39m jax\u001b[38;5;241m.\u001b[39mvmap(lookup, in_axes\u001b[38;5;241m=\u001b[39m(\u001b[38;5;28;01mNone\u001b[39;00m, \u001b[38;5;241m0\u001b[39m))(table, n_state)\n\u001b[1;32m     18\u001b[0m         hash_idxs \u001b[38;5;241m=\u001b[39m HashTableHeapValue(index\u001b[38;5;241m=\u001b[39mjnp\u001b[38;5;241m.\u001b[39mexpand_dims(idx,axis\u001b[38;5;241m=\u001b[39m\u001b[38;5;241m-\u001b[39m\u001b[38;5;241m1\u001b[39m), table_index\u001b[38;5;241m=\u001b[39mjnp\u001b[38;5;241m.\u001b[39mexpand_dims(table_idx,axis\u001b[38;5;241m=\u001b[39m\u001b[38;5;241m-\u001b[39m\u001b[38;5;241m1\u001b[39m))\n\u001b[0;32m---> 19\u001b[0m         heap \u001b[38;5;241m=\u001b[39m \u001b[43mBGPQ\u001b[49m\u001b[38;5;241;43m.\u001b[39;49m\u001b[43minsert\u001b[49m\u001b[43m(\u001b[49m\u001b[43mheap\u001b[49m\u001b[43m,\u001b[49m\u001b[43m \u001b[49m\u001b[43mn_cost\u001b[49m\u001b[43m,\u001b[49m\u001b[43m \u001b[49m\u001b[43mhash_idxs\u001b[49m\u001b[43m)\u001b[49m\n\u001b[1;32m     20\u001b[0m \u001b[38;5;28mprint\u001b[39m(states[\u001b[38;5;241m0\u001b[39m])\n",
      "File \u001b[0;32m~/miniconda3/envs/py311/lib/python3.11/site-packages/chex/_src/dataclass.py:297\u001b[0m, in \u001b[0;36mregister_dataclass_type_with_jax_tree_util.<locals>.<lambda>\u001b[0;34m(d)\u001b[0m\n\u001b[1;32m    283\u001b[0m \u001b[38;5;129m@functools\u001b[39m\u001b[38;5;241m.\u001b[39mcache\n\u001b[1;32m    284\u001b[0m \u001b[38;5;28;01mdef\u001b[39;00m \u001b[38;5;21mregister_dataclass_type_with_jax_tree_util\u001b[39m(data_class):\n\u001b[1;32m    285\u001b[0m \u001b[38;5;250m  \u001b[39m\u001b[38;5;124;03m\"\"\"Register an existing dataclass so JAX knows how to handle it.\u001b[39;00m\n\u001b[1;32m    286\u001b[0m \n\u001b[1;32m    287\u001b[0m \u001b[38;5;124;03m  This means that functions in jax.tree_util operate over the fields\u001b[39;00m\n\u001b[0;32m   (...)\u001b[0m\n\u001b[1;32m    295\u001b[0m \u001b[38;5;124;03m      in instance.__dict__.\u001b[39;00m\n\u001b[1;32m    296\u001b[0m \u001b[38;5;124;03m  \"\"\"\u001b[39;00m\n\u001b[0;32m--> 297\u001b[0m   flatten \u001b[38;5;241m=\u001b[39m \u001b[38;5;28;01mlambda\u001b[39;00m d: jax\u001b[38;5;241m.\u001b[39mutil\u001b[38;5;241m.\u001b[39munzip2(\u001b[38;5;28msorted\u001b[39m(d\u001b[38;5;241m.\u001b[39m\u001b[38;5;18m__dict__\u001b[39m\u001b[38;5;241m.\u001b[39mitems()))[::\u001b[38;5;241m-\u001b[39m\u001b[38;5;241m1\u001b[39m]\n\u001b[1;32m    298\u001b[0m   unflatten \u001b[38;5;241m=\u001b[39m functools\u001b[38;5;241m.\u001b[39mpartial(_dataclass_unflatten, data_class)\n\u001b[1;32m    299\u001b[0m   \u001b[38;5;28;01mtry\u001b[39;00m:\n",
      "\u001b[0;31mKeyboardInterrupt\u001b[0m: "
     ]
    }
   ],
   "source": [
    "print(states[0])\n",
    "while heap.size < size:\n",
    "    print(heap.size)\n",
    "    heap, min_key, min_val = BGPQ.delete_mins(heap)\n",
    "    cost = min_key\n",
    "    filled = jnp.isfinite(min_key)\n",
    "    states = table.table[min_val.index.squeeze(), min_val.table_index.squeeze()]\n",
    "    #print(states[0])\n",
    "\n",
    "    neighbours, ncost = jax.vmap(puzzle.get_neighbours, in_axes=(0,0))(states, filled)\n",
    "    _, _, nfound = jax.vmap(jax.vmap(lookup, in_axes=(None, 0)), in_axes=(None, 0))(table, neighbours)\n",
    "    for i in range(4):\n",
    "        n_state = neighbours[:,i]\n",
    "        n_cost = ncost[:,i] + cost + jnp.where(nfound[:,i], jnp.inf, 0)\n",
    "        filled = jnp.isfinite(n_cost)\n",
    "        table, inserted = parallel_insert(table, n_state, filled)\n",
    "        idx, table_idx, found = jax.vmap(lookup, in_axes=(None, 0))(table, n_state)\n",
    "        hash_idxs = HashTableHeapValue(index=jnp.expand_dims(idx,axis=-1), table_index=jnp.expand_dims(table_idx,axis=-1))\n",
    "        heap = BGPQ.insert(heap, n_cost, hash_idxs)\n",
    "print(states[0])"
   ]
  },
  {
   "cell_type": "code",
   "execution_count": null,
   "metadata": {},
   "outputs": [
    {
     "name": "stdout",
     "output_type": "stream",
     "text": [
      "[ True  True  True ... False  True False]\n"
     ]
    }
   ],
   "source": [
    "print(filled)"
   ]
  }
 ],
 "metadata": {
  "kernelspec": {
   "display_name": "py311",
   "language": "python",
   "name": "python3"
  },
  "language_info": {
   "codemirror_mode": {
    "name": "ipython",
    "version": 3
   },
   "file_extension": ".py",
   "mimetype": "text/x-python",
   "name": "python",
   "nbconvert_exporter": "python",
   "pygments_lexer": "ipython3",
   "version": "3.11.9"
  }
 },
 "nbformat": 4,
 "nbformat_minor": 2
}
