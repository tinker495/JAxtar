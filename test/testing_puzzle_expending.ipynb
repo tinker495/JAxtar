{
 "cells": [
  {
   "cell_type": "code",
   "execution_count": 1,
   "metadata": {},
   "outputs": [
    {
     "name": "stdout",
     "output_type": "stream",
     "text": [
      "env: CUDA_VISIBLE_DEVICES=0\n"
     ]
    }
   ],
   "source": [
    "import sys\n",
    "import os\n",
    "\n",
    "# 프로젝트 루트 디렉토리 경로를 추가\n",
    "project_root = os.path.abspath(os.path.join(os.getcwd(), '..'))\n",
    "if project_root not in sys.path:\n",
    "    sys.path.append(project_root)\n",
    "%env CUDA_VISIBLE_DEVICES=0"
   ]
  },
  {
   "cell_type": "code",
   "execution_count": 2,
   "metadata": {},
   "outputs": [],
   "source": [
    "import jax\n",
    "import jax.numpy as jnp\n",
    "\n",
    "from JAxtar.hash import hash_func_builder\n",
    "from puzzle.slidepuzzle import SlidePuzzle\n",
    "from heuristic.slidepuzzle_heuristic import SlidePuzzleHeuristic"
   ]
  },
  {
   "cell_type": "code",
   "execution_count": 3,
   "metadata": {},
   "outputs": [],
   "source": [
    "puzzle = SlidePuzzle(4)\n",
    "heuristic = SlidePuzzleHeuristic(puzzle)"
   ]
  },
  {
   "cell_type": "code",
   "execution_count": 4,
   "metadata": {},
   "outputs": [
    {
     "name": "stdout",
     "output_type": "stream",
     "text": [
      "┏━━━┳━━━┳━━━┳━━━┓\n",
      "┃ B ┃ 4 ┃ 6 ┃   ┃\n",
      "┣━━━╋━━━╋━━━╋━━━┫\n",
      "┃ 1 ┃ 5 ┃ 7 ┃ 3 ┃\n",
      "┣━━━╋━━━╋━━━╋━━━┫\n",
      "┃ F ┃ A ┃ 2 ┃ C ┃\n",
      "┣━━━╋━━━╋━━━╋━━━┫\n",
      "┃ E ┃ D ┃ 9 ┃ 8 ┃\n",
      "┗━━━┻━━━┻━━━┻━━━┛\n",
      "Solverable :  True\n"
     ]
    }
   ],
   "source": [
    "size = 20\n",
    "#check batch generation\n",
    "states = jax.vmap(puzzle.get_initial_state, in_axes=0)(key=jax.random.split(jax.random.PRNGKey(0),1))\n",
    "print(states[0])\n",
    "print(\"Solverable : \", puzzle._solverable(states[0]))"
   ]
  },
  {
   "cell_type": "code",
   "execution_count": 5,
   "metadata": {},
   "outputs": [
    {
     "name": "stderr",
     "output_type": "stream",
     "text": [
      "/home/tinker/anaconda3/envs/py311/lib/python3.11/site-packages/jax/_src/ops/scatter.py:96: FutureWarning: scatter inputs have incompatible types: cannot safely cast value from dtype=int32 to dtype=bool with jax_numpy_dtype_promotion='standard'. In future JAX releases this will result in an error.\n",
      "  warnings.warn(\n"
     ]
    }
   ],
   "source": [
    "dummy = jax.vmap(puzzle.State.default)(jnp.zeros(size - 1))\n",
    "states = jax.tree_util.tree_map(lambda x, y: jnp.concatenate([x, y]), states, dummy)\n",
    "filled = jnp.zeros(size, dtype=jnp.bool_).at[0].set(1)"
   ]
  },
  {
   "cell_type": "code",
   "execution_count": 6,
   "metadata": {},
   "outputs": [],
   "source": [
    "def visualize_state(state, filled):\n",
    "    for i in range(size):\n",
    "        if filled[i]:\n",
    "            print(state[i])"
   ]
  },
  {
   "cell_type": "code",
   "execution_count": 7,
   "metadata": {},
   "outputs": [
    {
     "name": "stdout",
     "output_type": "stream",
     "text": [
      "┏━━━┳━━━┳━━━┳━━━┓\n",
      "┃ B ┃ 4 ┃ 6 ┃   ┃\n",
      "┣━━━╋━━━╋━━━╋━━━┫\n",
      "┃ 1 ┃ 5 ┃ 7 ┃ 3 ┃\n",
      "┣━━━╋━━━╋━━━╋━━━┫\n",
      "┃ F ┃ A ┃ 2 ┃ C ┃\n",
      "┣━━━╋━━━╋━━━╋━━━┫\n",
      "┃ E ┃ D ┃ 9 ┃ 8 ┃\n",
      "┗━━━┻━━━┻━━━┻━━━┛\n"
     ]
    }
   ],
   "source": [
    "for i in range(3):\n",
    "    visualize_state(states, filled)\n",
    "    neighbours, cost = jax.vmap(puzzle.get_neighbours, in_axes=(0,0))(states, filled)\n",
    "    neighbours_filled = jnp.isfinite(cost)\n",
    "\n",
    "    first_flat = lambda x: jnp.reshape(x, (-1, *x.shape[2:]))\n",
    "    neighbours = jax.tree_util.tree_map(first_flat, neighbours)\n",
    "    neighbours_filled = first_flat(neighbours_filled)\n",
    "\n",
    "    filled_sort = jnp.argsort(neighbours_filled)[::-1]\n",
    "    neighbours = jax.tree_util.tree_map(lambda x: x[filled_sort], neighbours)\n",
    "    filled = neighbours_filled[filled_sort]\n",
    "\n",
    "    states = jax.tree_util.tree_map(lambda x: x[:size], neighbours)\n",
    "    filled = filled[:size]\n",
    "    print(filled)"
   ]
  },
  {
   "cell_type": "code",
   "execution_count": null,
   "metadata": {},
   "outputs": [
    {
     "name": "stdout",
     "output_type": "stream",
     "text": [
      "[ True  True  True  True  True  True False False False False False False\n",
      " False False False False False False False False]\n"
     ]
    }
   ],
   "source": [
    "print(filled)"
   ]
  }
 ],
 "metadata": {
  "kernelspec": {
   "display_name": "py311",
   "language": "python",
   "name": "python3"
  },
  "language_info": {
   "codemirror_mode": {
    "name": "ipython",
    "version": 3
   },
   "file_extension": ".py",
   "mimetype": "text/x-python",
   "name": "python",
   "nbconvert_exporter": "python",
   "pygments_lexer": "ipython3",
   "version": "3.11.9"
  }
 },
 "nbformat": 4,
 "nbformat_minor": 2
}
