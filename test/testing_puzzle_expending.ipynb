{
 "cells": [
  {
   "cell_type": "code",
   "execution_count": 1,
   "metadata": {},
   "outputs": [
    {
     "name": "stdout",
     "output_type": "stream",
     "text": [
      "env: CUDA_VISIBLE_DEVICES=0\n"
     ]
    }
   ],
   "source": [
    "import sys\n",
    "import os\n",
    "\n",
    "# 프로젝트 루트 디렉토리 경로를 추가\n",
    "project_root = os.path.abspath(os.path.join(os.getcwd(), '..'))\n",
    "if project_root not in sys.path:\n",
    "    sys.path.append(project_root)\n",
    "%env CUDA_VISIBLE_DEVICES=0"
   ]
  },
  {
   "cell_type": "code",
   "execution_count": 2,
   "metadata": {},
   "outputs": [
    {
     "name": "stderr",
     "output_type": "stream",
     "text": [
      "/tmp/ipykernel_3257500/423471531.py:6: TqdmWarning: IProgress not found. Please update jupyter and ipywidgets. See https://ipywidgets.readthedocs.io/en/stable/user_install.html\n",
      "  from tqdm.autonotebook import tqdm\n",
      "2024-08-02 01:09:06.815329: W external/xla/xla/service/gpu/nvptx_compiler.cc:765] The NVIDIA driver's CUDA version is 12.2 which is older than the ptxas CUDA version (12.5.82). Because the driver is older than the ptxas version, XLA is disabling parallel compilation, which may slow down compilation. You should update your NVIDIA driver or use the NVIDIA-provided CUDA forward compatibility packages.\n"
     ]
    }
   ],
   "source": [
    "import jax\n",
    "import jax.numpy as jnp\n",
    "import chex\n",
    "import numpy as np\n",
    "\n",
    "from tqdm.autonotebook import tqdm\n",
    "from JAxtar.hash import hash_func_builder, HashTable\n",
    "from JAxtar.bgpq import BGPQ, heapcalue_dataclass\n",
    "from functools import partial\n",
    "from puzzle.slidepuzzle import SlidePuzzle\n",
    "from heuristic.slidepuzzle_heuristic import SlidePuzzleHeuristic"
   ]
  },
  {
   "cell_type": "code",
   "execution_count": 3,
   "metadata": {},
   "outputs": [],
   "source": [
    "puzzle = SlidePuzzle(4)\n",
    "target = puzzle.State(board=jnp.array([1, 2, 3, 4, 5, 6, 7, 8, 9, 10, 11, 12, 13, 14, 15, 0], dtype=jnp.uint8))\n",
    "heuristic = SlidePuzzleHeuristic(puzzle)"
   ]
  },
  {
   "cell_type": "code",
   "execution_count": 4,
   "metadata": {},
   "outputs": [],
   "source": [
    "@heapcalue_dataclass\n",
    "class AstarTableHeapValue:\n",
    "    \"\"\"\n",
    "    This class is a dataclass that represents a hash table heap value.\n",
    "    It has two fields:\n",
    "    1. index: jnp.uint32 / hashtable index\n",
    "    2. table_index: jnp.uint8 / cuckoo table index\n",
    "    \"\"\"\n",
    "    index: chex.Array\n",
    "    table_index: chex.Array\n",
    "    cost: chex.Array\n",
    "    heuristic: chex.Array\n",
    "\n",
    "    @staticmethod\n",
    "    def default(_ = None) -> \"AstarTableHeapValue\":\n",
    "        return AstarTableHeapValue(index=jnp.zeros(1, dtype=jnp.uint32), table_index=jnp.zeros(1, dtype=jnp.uint8), cost=jnp.zeros(1, dtype=jnp.float32), heuristic=jnp.zeros(1, dtype=jnp.float32))"
   ]
  },
  {
   "cell_type": "code",
   "execution_count": 5,
   "metadata": {},
   "outputs": [],
   "source": [
    "def get_shuffled_puzzle():\n",
    "    state = puzzle.State(board=jnp.array([1, 2, 3, 4, 5, 6, 7, 8, 9, 10, 11, 12, 13, 14, 15, 0], dtype=jnp.uint8))\n",
    "    for _ in range(1000):\n",
    "        state, cost = puzzle.get_neighbours(state)\n",
    "        filled = jnp.isfinite(cost)\n",
    "        #random use np.random.choice\n",
    "        state = state[filled][np.random.choice(jnp.sum(filled))]\n",
    "    return state"
   ]
  },
  {
   "cell_type": "code",
   "execution_count": 6,
   "metadata": {},
   "outputs": [],
   "source": [
    "size = int(1e7)\n",
    "group_size = int(10000)\n",
    "#check batch generation\n",
    "#states = jax.vmap(puzzle.get_initial_state, in_axes=0)(key=jax.random.split(jax.random.PRNGKey(123),1))\n",
    "states = get_shuffled_puzzle()\n",
    "#states = puzzle.State(board=jnp.array([10, 2, 0, 8, 15, 12, 13, 14, 6, 7, 3, 9, 11, 1, 5, 4], dtype=jnp.uint8))\n",
    "print(states.shape)\n",
    "print(states)\n",
    "hash_func = hash_func_builder(puzzle.State)\n",
    "table = HashTable.make_lookup_table(puzzle.State, 1, size)\n",
    "heap = BGPQ.make_heap(size, group_size, AstarTableHeapValue)\n",
    "\n",
    "lookup = jax.jit(partial(HashTable.lookup, hash_func))\n",
    "parallel_insert = jax.jit(partial(HashTable.parallel_insert, hash_func))\n",
    "heuristic = jax.jit(jax.vmap(SlidePuzzleHeuristic(puzzle).distance, in_axes=(0, None)))\n",
    "solved_fn = jax.jit(partial(puzzle.is_solved, target=target))\n",
    "neighbours_fn = jax.jit(jax.vmap(puzzle.get_neighbours, in_axes=(0,0)))\n",
    "delete_fn = jax.jit(BGPQ.delete_mins)\n",
    "insert_fn = jax.jit(BGPQ.insert)"
   ]
  },
  {
   "cell_type": "code",
   "execution_count": null,
   "metadata": {},
   "outputs": [],
   "source": [
    "states, filled = HashTable.make_batched(puzzle.State, states[jnp.newaxis, :], group_size)\n",
    "cost = jnp.full((group_size,), jnp.inf).at[0].set(0)\n",
    "table, inserted = parallel_insert(table, states, filled)\n",
    "idx, table_idx, found = jax.vmap(lookup, in_axes=(None, 0))(table, states)\n",
    "found = found & filled\n",
    "heur = heuristic(states, target)\n",
    "hash_idxs = AstarTableHeapValue(index=idx[:, jnp.newaxis], table_index=table_idx[:, jnp.newaxis], cost=cost[:, jnp.newaxis], heuristic=heur[:, jnp.newaxis])\n",
    "key = cost + heur\n",
    "heap = BGPQ.insert(heap, key, hash_idxs)"
   ]
  },
  {
   "cell_type": "code",
   "execution_count": null,
   "metadata": {},
   "outputs": [],
   "source": [
    "def visualize_state(state, key):\n",
    "    filled = jnp.isfinite(key)\n",
    "    for i in range(group_size):\n",
    "        if filled[i]:\n",
    "            print(state[i])\n",
    "            print(f\" cost: {key[i]}\")"
   ]
  },
  {
   "cell_type": "code",
   "execution_count": null,
   "metadata": {},
   "outputs": [
    {
     "name": "stdout",
     "output_type": "stream",
     "text": [
      "┏━━━┳━━━┳━━━┳━━━┓\n",
      "┃ E ┃ 3 ┃   ┃ F ┃\n",
      "┣━━━╋━━━╋━━━╋━━━┫\n",
      "┃ 1 ┃ C ┃ 7 ┃ D ┃\n",
      "┣━━━╋━━━╋━━━╋━━━┫\n",
      "┃ 9 ┃ 4 ┃ 8 ┃ A ┃\n",
      "┣━━━╋━━━╋━━━╋━━━┫\n",
      "┃ B ┃ 5 ┃ 6 ┃ 2 ┃\n",
      "┗━━━┻━━━┻━━━┻━━━┛\n"
     ]
    },
    {
     "name": "stderr",
     "output_type": "stream",
     "text": [
      "heap_size:    24494, total_nodes:  1129893, cost: 47.86, +heuristic: 61.79:  11%|█▏        | 1129893/10000000 [00:10<01:22, 107449.39it/s]\n"
     ]
    },
    {
     "name": "stdout",
     "output_type": "stream",
     "text": [
      "solved\n",
      "┏━━━┳━━━┳━━━┳━━━┓\n",
      "┃ 1 ┃ 2 ┃ 3 ┃ 4 ┃\n",
      "┣━━━╋━━━╋━━━╋━━━┫\n",
      "┃ 5 ┃ 6 ┃ 7 ┃ 8 ┃\n",
      "┣━━━╋━━━╋━━━╋━━━┫\n",
      "┃ 9 ┃ A ┃ B ┃ C ┃\n",
      "┣━━━╋━━━╋━━━╋━━━┫\n",
      "┃ D ┃ E ┃ F ┃   ┃\n",
      "┗━━━┻━━━┻━━━┻━━━┛\n",
      "58.0\n"
     ]
    }
   ],
   "source": [
    "print(states[0])\n",
    "total_nodes = 1\n",
    "pbar = tqdm(total=size)\n",
    "pbar.update(1)\n",
    "while heap.size < size and not heap.size == 0 and total_nodes < size:\n",
    "    pbar_str = f\"heap_size: {heap.size:8d}, total_nodes: {total_nodes:8d}, \"\n",
    "    heap, min_key, min_val = delete_fn(heap)\n",
    "    cost = min_val.cost\n",
    "    heur = min_val.heuristic\n",
    "    pbar_str += f\"cost: {jnp.mean(cost):.2f}, +heuristic: {jnp.mean(cost + heur):.2f}\"\n",
    "    filled = jnp.isfinite(min_key)\n",
    "    states = table.table[min_val.index.squeeze(), min_val.table_index.squeeze()]\n",
    "    pbar.set_description_str(pbar_str)\n",
    "\n",
    "    neighbours, ncost = neighbours_fn(states, filled)\n",
    "    ncost_sum = ncost + cost\n",
    "    heuristic_cost = jax.vmap(heuristic, in_axes=(0, None))(neighbours, target)\n",
    "    solved = jax.vmap(jax.vmap(solved_fn))(neighbours)\n",
    "    if solved.any():\n",
    "        print(\"solved\")\n",
    "        break\n",
    "    for i in range(4):\n",
    "        n_state = neighbours[:,i]\n",
    "        n_cost = ncost_sum[:,i]\n",
    "        n_heuristic = heuristic_cost[:,i]\n",
    "        filled = jnp.isfinite(n_cost)\n",
    "        table, inserted = parallel_insert(table, n_state, filled)\n",
    "        idx, table_idx, found = jax.vmap(lookup, in_axes=(None, 0))(table, n_state)\n",
    "        vals = AstarTableHeapValue(index=idx[:,jnp.newaxis], table_index=table_idx[:,jnp.newaxis], cost=n_cost[:,jnp.newaxis], heuristic=n_heuristic[:,jnp.newaxis])\n",
    "        key = n_cost + jnp.where(inserted, 0, jnp.inf) + n_heuristic\n",
    "        added = int(jnp.sum(inserted))\n",
    "        total_nodes += added\n",
    "        pbar.update(added)\n",
    "        heap = insert_fn(heap, key, vals)\n",
    "pbar.close()\n",
    "solved_st = neighbours[solved][0]\n",
    "n_cost = ncost_sum[solved][0]\n",
    "print(solved_st)\n",
    "print(n_cost)"
   ]
  }
 ],
 "metadata": {
  "kernelspec": {
   "display_name": "py311",
   "language": "python",
   "name": "python3"
  },
  "language_info": {
   "codemirror_mode": {
    "name": "ipython",
    "version": 3
   },
   "file_extension": ".py",
   "mimetype": "text/x-python",
   "name": "python",
   "nbconvert_exporter": "python",
   "pygments_lexer": "ipython3",
   "version": "3.11.9"
  }
 },
 "nbformat": 4,
 "nbformat_minor": 2
}
