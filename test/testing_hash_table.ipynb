{
 "cells": [
  {
   "cell_type": "code",
   "execution_count": 1,
   "metadata": {},
   "outputs": [
    {
     "name": "stdout",
     "output_type": "stream",
     "text": [
      "env: CUDA_VISIBLE_DEVICES=0\n"
     ]
    }
   ],
   "source": [
    "import sys\n",
    "import os\n",
    "\n",
    "# 프로젝트 루트 디렉토리 경로를 추가\n",
    "project_root = os.path.abspath(os.path.join(os.getcwd(), '..'))\n",
    "if project_root not in sys.path:\n",
    "    sys.path.append(project_root)\n",
    "%env CUDA_VISIBLE_DEVICES=0"
   ]
  },
  {
   "cell_type": "code",
   "execution_count": 2,
   "metadata": {},
   "outputs": [
    {
     "name": "stderr",
     "output_type": "stream",
     "text": [
      "/tmp/ipykernel_321/2078866209.py:7: TqdmExperimentalWarning: Using `tqdm.autonotebook.tqdm` in notebook mode. Use `tqdm.tqdm` instead to force console mode (e.g. in jupyter console)\n",
      "  from tqdm.autonotebook import trange\n"
     ]
    }
   ],
   "source": [
    "import jax\n",
    "import jax.numpy as jnp\n",
    "import time\n",
    "#disable jax JIT\n",
    "#jax.config.update(\"jax_disable_jit\", True)\n",
    "\n",
    "from tqdm.autonotebook import trange\n",
    "from functools import partial\n",
    "from JAxtar.hash import hash_func_builder\n",
    "from puzzle.slidepuzzle import SlidePuzzle\n",
    "from heuristic.slidepuzzle_heuristic import SlidePuzzleHeuristic\n",
    "from JAxtar.hash import HashTable"
   ]
  },
  {
   "cell_type": "code",
   "execution_count": 3,
   "metadata": {},
   "outputs": [],
   "source": [
    "def _check_equal(state1, state2):\n",
    "                tree_equal = jax.tree.map(lambda x, y: jnp.all(x == y), state1, state2)\n",
    "                return jax.tree_util.tree_reduce(jnp.logical_and, tree_equal)"
   ]
  },
  {
   "cell_type": "code",
   "execution_count": 4,
   "metadata": {},
   "outputs": [
    {
     "name": "stdout",
     "output_type": "stream",
     "text": [
      "0.2036421298980713\n"
     ]
    }
   ],
   "source": [
    "count = 1000\n",
    "puzzle = SlidePuzzle(4)\n",
    "hash_func = hash_func_builder(puzzle.State)\n",
    "sample = jax.vmap(puzzle.get_initial_state)(key=jax.random.split(jax.random.PRNGKey(2),count))\n",
    "new_sample = jax.vmap(puzzle.get_initial_state)(key=jax.random.split(jax.random.PRNGKey(1),count))\n",
    "table = HashTable.build(puzzle.State, 1, int(1e4))\n",
    "\n",
    "lookup = jax.jit(partial(HashTable.lookup, hash_func))\n",
    "start = time.time()\n",
    "idx, table_idx, found = jax.vmap(lookup, in_axes=(None, 0))(table, sample)\n",
    "print(time.time()-start)"
   ]
  },
  {
   "cell_type": "code",
   "execution_count": 5,
   "metadata": {},
   "outputs": [
    {
     "name": "stdout",
     "output_type": "stream",
     "text": [
      "0.8791465759277344\n",
      "1.0 0.0 0.25\n",
      "0.8592770099639893\n",
      "1.0 0.0 0.25\n",
      "0.0010271072387695312\n",
      "1.0 0.0 0.25\n",
      "0.0008397102355957031\n",
      "1.0 0.0 0.25\n",
      "0.0012676715850830078\n",
      "1.0 0.0 0.25\n",
      "0.0013384819030761719\n",
      "1.0 0.0 0.25\n",
      "0.0022971630096435547\n",
      "1.0 0.0 0.25\n",
      "0.0028181076049804688\n",
      "1.0 0.0 0.25\n",
      "0.003722667694091797\n",
      "1.0 0.0 0.25\n",
      "0.004606008529663086\n",
      "1.0 0.0 0.25\n",
      "0.0071184635162353516\n",
      "1.0 0.0 0.25\n",
      "0.0081024169921875\n",
      "1.0 0.0 0.25\n",
      "0.007685184478759766\n",
      "1.0 0.0 0.25\n",
      "0.00791621208190918\n",
      "1.0 0.0 0.25\n",
      "0.016243457794189453\n",
      "1.0 0.0 0.25\n",
      "0.013371467590332031\n",
      "1.0 0.0 0.25\n",
      "0.020327329635620117\n",
      "1.0 0.0 0.25\n",
      "0.024045944213867188\n",
      "1.0 0.0 0.25\n"
     ]
    }
   ],
   "source": [
    "batch = 4000\n",
    "parallel_insert = jax.jit(partial(HashTable.parallel_insert, hash_func))\n",
    "for i in range(18):\n",
    "    sample = jax.vmap(puzzle.get_initial_state)(key=jax.random.split(jax.random.PRNGKey(i + 256),count))\n",
    "    fidx, ftable_idx, old_found = jax.vmap(lookup, in_axes=(None, 0))(table, sample)\n",
    "    batched_sample, filled = HashTable.make_batched(puzzle.State, sample, batch)\n",
    "    start = time.time()\n",
    "    table, inserted, _, _ = parallel_insert(table, batched_sample, filled)\n",
    "    print(time.time()-start)\n",
    "    idx, table_idx, found = jax.vmap(lookup, in_axes=(None, 0))(table, sample)\n",
    "    for i in range(count):\n",
    "        if found[i]:\n",
    "            continue\n",
    "        print(fidx[i], ftable_idx[i])\n",
    "        print(table.table[fidx[i], ftable_idx[i]])\n",
    "        print(idx[i], table_idx[i])\n",
    "        print(sample[i])\n",
    "        print(table.table[idx[i], table_idx[i]])\n",
    "        s = sample[i]\n",
    "        equal = jax.vmap(jax.vmap(_check_equal, in_axes=(0, None)), in_axes=(0, None))(table.table, s)\n",
    "        args = jnp.argwhere(equal)\n",
    "        arg_sample = args[0]\n",
    "        print(*arg_sample)\n",
    "        print(table.table[*arg_sample])\n",
    "        assert jnp.any(equal), f\"not found {s}\" \n",
    "    print(jnp.mean(found), jnp.mean(old_found), jnp.mean(inserted))"
   ]
  },
  {
   "cell_type": "code",
   "execution_count": 6,
   "metadata": {},
   "outputs": [
    {
     "data": {
      "text/plain": [
       "Array(2, dtype=uint8)"
      ]
     },
     "execution_count": 6,
     "metadata": {},
     "output_type": "execute_result"
    }
   ],
   "source": [
    "jnp.max(table.table_idx)"
   ]
  },
  {
   "cell_type": "code",
   "execution_count": 7,
   "metadata": {},
   "outputs": [
    {
     "name": "stdout",
     "output_type": "stream",
     "text": [
      "0.20387935638427734\n"
     ]
    }
   ],
   "source": [
    "count = int(1e6)\n",
    "puzzle = SlidePuzzle(4)\n",
    "hash_func = hash_func_builder(puzzle.State)\n",
    "sample = jax.vmap(puzzle.get_initial_state)(key=jax.random.split(jax.random.PRNGKey(2),count))\n",
    "new_sample = jax.vmap(puzzle.get_initial_state)(key=jax.random.split(jax.random.PRNGKey(1),count))\n",
    "table = HashTable.build(puzzle.State, 1, int(1e7))\n",
    "\n",
    "lookup = jax.jit(partial(HashTable.lookup, hash_func))\n",
    "start = time.time()\n",
    "idx, table_idx, found = jax.vmap(lookup, in_axes=(None, 0))(table, sample)\n",
    "print(time.time()-start)"
   ]
  },
  {
   "cell_type": "code",
   "execution_count": 8,
   "metadata": {},
   "outputs": [
    {
     "data": {
      "application/vnd.jupyter.widget-view+json": {
       "model_id": "5769cd274d8448eba7fed5c30156bb9a",
       "version_major": 2,
       "version_minor": 0
      },
      "text/plain": [
       "  0%|          | 0/10 [00:00<?, ?it/s]"
      ]
     },
     "metadata": {},
     "output_type": "display_data"
    },
    {
     "name": "stdout",
     "output_type": "stream",
     "text": [
      "1.0 0.0 1.0\n"
     ]
    },
    {
     "data": {
      "application/vnd.jupyter.widget-view+json": {
       "model_id": "ccee28aff0e64a9f98aeece50c2bd176",
       "version_major": 2,
       "version_minor": 0
      },
      "text/plain": [
       "  0%|          | 0/10 [00:00<?, ?it/s]"
      ]
     },
     "metadata": {},
     "output_type": "display_data"
    },
    {
     "name": "stdout",
     "output_type": "stream",
     "text": [
      "1.0 0.0 1.0\n"
     ]
    },
    {
     "data": {
      "application/vnd.jupyter.widget-view+json": {
       "model_id": "2fd4ae4e8ff848c8b06fad57275d6469",
       "version_major": 2,
       "version_minor": 0
      },
      "text/plain": [
       "  0%|          | 0/10 [00:00<?, ?it/s]"
      ]
     },
     "metadata": {},
     "output_type": "display_data"
    },
    {
     "name": "stdout",
     "output_type": "stream",
     "text": [
      "1.0 0.0 1.0\n"
     ]
    },
    {
     "data": {
      "application/vnd.jupyter.widget-view+json": {
       "model_id": "6a5feb1f8194498da0b4d917f0c0d44b",
       "version_major": 2,
       "version_minor": 0
      },
      "text/plain": [
       "  0%|          | 0/10 [00:00<?, ?it/s]"
      ]
     },
     "metadata": {},
     "output_type": "display_data"
    },
    {
     "name": "stdout",
     "output_type": "stream",
     "text": [
      "1.0 1e-06 0.999999\n"
     ]
    },
    {
     "data": {
      "application/vnd.jupyter.widget-view+json": {
       "model_id": "d64bb7c1d41f42da8d04455e9d74b959",
       "version_major": 2,
       "version_minor": 0
      },
      "text/plain": [
       "  0%|          | 0/10 [00:00<?, ?it/s]"
      ]
     },
     "metadata": {},
     "output_type": "display_data"
    },
    {
     "name": "stdout",
     "output_type": "stream",
     "text": [
      "1.0 0.0 1.0\n"
     ]
    },
    {
     "data": {
      "application/vnd.jupyter.widget-view+json": {
       "model_id": "d67bf8bdf0074715a0642307118e9aad",
       "version_major": 2,
       "version_minor": 0
      },
      "text/plain": [
       "  0%|          | 0/10 [00:00<?, ?it/s]"
      ]
     },
     "metadata": {},
     "output_type": "display_data"
    },
    {
     "name": "stdout",
     "output_type": "stream",
     "text": [
      "1.0 2e-06 0.999998\n"
     ]
    },
    {
     "data": {
      "application/vnd.jupyter.widget-view+json": {
       "model_id": "7175f424d2d14d40929e723bf223cea6",
       "version_major": 2,
       "version_minor": 0
      },
      "text/plain": [
       "  0%|          | 0/10 [00:00<?, ?it/s]"
      ]
     },
     "metadata": {},
     "output_type": "display_data"
    },
    {
     "name": "stdout",
     "output_type": "stream",
     "text": [
      "1.0 0.0 1.0\n"
     ]
    },
    {
     "data": {
      "application/vnd.jupyter.widget-view+json": {
       "model_id": "51b003f097434840869b0fb5d19f51f4",
       "version_major": 2,
       "version_minor": 0
      },
      "text/plain": [
       "  0%|          | 0/10 [00:00<?, ?it/s]"
      ]
     },
     "metadata": {},
     "output_type": "display_data"
    },
    {
     "name": "stdout",
     "output_type": "stream",
     "text": [
      "1.0 1e-06 0.999998\n"
     ]
    },
    {
     "data": {
      "application/vnd.jupyter.widget-view+json": {
       "model_id": "6364167acc924c73af35173b8f0a8022",
       "version_major": 2,
       "version_minor": 0
      },
      "text/plain": [
       "  0%|          | 0/10 [00:00<?, ?it/s]"
      ]
     },
     "metadata": {},
     "output_type": "display_data"
    },
    {
     "name": "stdout",
     "output_type": "stream",
     "text": [
      "1.0 1e-06 0.999999\n"
     ]
    },
    {
     "data": {
      "application/vnd.jupyter.widget-view+json": {
       "model_id": "63221ac21c9d4ed39b3b3d9ef573e8d5",
       "version_major": 2,
       "version_minor": 0
      },
      "text/plain": [
       "  0%|          | 0/10 [00:00<?, ?it/s]"
      ]
     },
     "metadata": {},
     "output_type": "display_data"
    },
    {
     "name": "stdout",
     "output_type": "stream",
     "text": [
      "1.0 0.0 1.0\n"
     ]
    },
    {
     "data": {
      "application/vnd.jupyter.widget-view+json": {
       "model_id": "cc085920b0f64fcabd41f3e09e307dba",
       "version_major": 2,
       "version_minor": 0
      },
      "text/plain": [
       "  0%|          | 0/10 [00:00<?, ?it/s]"
      ]
     },
     "metadata": {},
     "output_type": "display_data"
    },
    {
     "name": "stdout",
     "output_type": "stream",
     "text": [
      "1.0 0.0 0.999999\n"
     ]
    },
    {
     "data": {
      "application/vnd.jupyter.widget-view+json": {
       "model_id": "5eea3717d7034c5d9bea93a783e63a68",
       "version_major": 2,
       "version_minor": 0
      },
      "text/plain": [
       "  0%|          | 0/10 [00:00<?, ?it/s]"
      ]
     },
     "metadata": {},
     "output_type": "display_data"
    },
    {
     "name": "stdout",
     "output_type": "stream",
     "text": [
      "1.0 1e-06 0.999999\n"
     ]
    },
    {
     "data": {
      "application/vnd.jupyter.widget-view+json": {
       "model_id": "4606b9c3f5f149cc8bcb70f4fb406e75",
       "version_major": 2,
       "version_minor": 0
      },
      "text/plain": [
       "  0%|          | 0/10 [00:00<?, ?it/s]"
      ]
     },
     "metadata": {},
     "output_type": "display_data"
    },
    {
     "name": "stdout",
     "output_type": "stream",
     "text": [
      "1.0 2e-06 0.999998\n"
     ]
    },
    {
     "data": {
      "application/vnd.jupyter.widget-view+json": {
       "model_id": "3b5ac483fce34c24b2e04d704854501b",
       "version_major": 2,
       "version_minor": 0
      },
      "text/plain": [
       "  0%|          | 0/10 [00:00<?, ?it/s]"
      ]
     },
     "metadata": {},
     "output_type": "display_data"
    },
    {
     "name": "stdout",
     "output_type": "stream",
     "text": [
      "1.0 0.0 1.0\n"
     ]
    },
    {
     "data": {
      "application/vnd.jupyter.widget-view+json": {
       "model_id": "976eb138381e498b9c520b960ca62f23",
       "version_major": 2,
       "version_minor": 0
      },
      "text/plain": [
       "  0%|          | 0/10 [00:00<?, ?it/s]"
      ]
     },
     "metadata": {},
     "output_type": "display_data"
    },
    {
     "name": "stdout",
     "output_type": "stream",
     "text": [
      "1.0 0.0 1.0\n"
     ]
    },
    {
     "data": {
      "application/vnd.jupyter.widget-view+json": {
       "model_id": "93d62bca484745c398109df9cb8ee613",
       "version_major": 2,
       "version_minor": 0
      },
      "text/plain": [
       "  0%|          | 0/10 [00:00<?, ?it/s]"
      ]
     },
     "metadata": {},
     "output_type": "display_data"
    },
    {
     "name": "stdout",
     "output_type": "stream",
     "text": [
      "1.0 0.0 1.0\n"
     ]
    },
    {
     "data": {
      "application/vnd.jupyter.widget-view+json": {
       "model_id": "68f1549e196c4e3d8d5ffcd0dc3a7d0c",
       "version_major": 2,
       "version_minor": 0
      },
      "text/plain": [
       "  0%|          | 0/10 [00:00<?, ?it/s]"
      ]
     },
     "metadata": {},
     "output_type": "display_data"
    },
    {
     "name": "stdout",
     "output_type": "stream",
     "text": [
      "1.0 2e-06 0.999998\n"
     ]
    },
    {
     "data": {
      "application/vnd.jupyter.widget-view+json": {
       "model_id": "807cb7ed1e574011845380c440ad8fa2",
       "version_major": 2,
       "version_minor": 0
      },
      "text/plain": [
       "  0%|          | 0/10 [00:00<?, ?it/s]"
      ]
     },
     "metadata": {},
     "output_type": "display_data"
    },
    {
     "name": "stdout",
     "output_type": "stream",
     "text": [
      "1.0 0.0 1.0\n"
     ]
    }
   ],
   "source": [
    "batch = 100000\n",
    "parallel_insert = jax.jit(partial(HashTable.parallel_insert, hash_func))\n",
    "for i in range(18):\n",
    "    inserteds = []\n",
    "    sample = jax.vmap(puzzle.get_initial_state)(key=jax.random.split(jax.random.PRNGKey(i + 256),count))\n",
    "    idx, table_idx, found = jax.vmap(lookup, in_axes=(None, 0))(table, sample)\n",
    "    same_ratio = jnp.mean(found)\n",
    "    for j in trange(0, count, batch):\n",
    "        table, inserted, _, table_idx = parallel_insert(table, sample[j:j+batch], jnp.ones(batch, dtype=jnp.bool_))\n",
    "        inserteds.append(inserted)\n",
    "    inserteds = jnp.concatenate(inserteds)\n",
    "    idx, table_idx, found = jax.vmap(lookup, in_axes=(None, 0))(table, sample)\n",
    "    print(jnp.mean(found), same_ratio, jnp.mean(inserteds))"
   ]
  },
  {
   "cell_type": "code",
   "execution_count": 9,
   "metadata": {},
   "outputs": [
    {
     "data": {
      "text/plain": [
       "Array(2, dtype=uint8)"
      ]
     },
     "execution_count": 9,
     "metadata": {},
     "output_type": "execute_result"
    }
   ],
   "source": [
    "jnp.max(table.table_idx)"
   ]
  },
  {
   "cell_type": "code",
   "execution_count": 10,
   "metadata": {},
   "outputs": [
    {
     "name": "stdout",
     "output_type": "stream",
     "text": [
      "1e-06\n"
     ]
    }
   ],
   "source": [
    "another_sample = jax.vmap(puzzle.get_initial_state)(key=jax.random.split(jax.random.PRNGKey(123),count))\n",
    "idx, table_idx, found = jax.vmap(lookup, in_axes=(None, 0))(table, another_sample)\n",
    "print(jnp.sum(found) / count)"
   ]
  },
  {
   "cell_type": "code",
   "execution_count": 11,
   "metadata": {},
   "outputs": [
    {
     "data": {
      "application/vnd.jupyter.widget-view+json": {
       "model_id": "b1f80ce8b78847c7b186b0205cf00eb5",
       "version_major": 2,
       "version_minor": 0
      },
      "text/plain": [
       "  0%|          | 0/10 [00:00<?, ?it/s]"
      ]
     },
     "metadata": {},
     "output_type": "display_data"
    },
    {
     "name": "stdout",
     "output_type": "stream",
     "text": [
      "0.999999\n",
      "insert time: 0.3193032741546631\n",
      "check time: 0.06688785552978516\n",
      "1.0\n",
      "check time: 0.12557244300842285\n",
      "1e-06\n",
      "check time: 0.2550628185272217\n",
      "1.0\n"
     ]
    }
   ],
   "source": [
    "start = time.time()\n",
    "inserteds = []\n",
    "for i in trange(count // batch):\n",
    "    table, inserted, _, _ = parallel_insert(table, another_sample[i*batch:(i+1)*batch], jnp.ones(batch, dtype=jnp.bool_))\n",
    "    inserteds.append(inserted)\n",
    "print(jnp.sum(jnp.concatenate(inserteds)) / count)\n",
    "print(\"insert time:\", time.time()-start)\n",
    "start = time.time()\n",
    "idx, table_idx, found = jax.vmap(lookup, in_axes=(None, 0))(table, sample)\n",
    "print(\"check time:\", time.time()-start)\n",
    "print(jnp.sum(found) / count)\n",
    "start = time.time()\n",
    "idx, table_idx, found = jax.vmap(lookup, in_axes=(None, 0))(table, new_sample)\n",
    "print(\"check time:\", time.time()-start)\n",
    "print(jnp.sum(found) / count)\n",
    "idx, table_idx, found = jax.vmap(lookup, in_axes=(None, 0))(table, another_sample)\n",
    "print(\"check time:\", time.time()-start)\n",
    "print(jnp.sum(found) / count)"
   ]
  }
 ],
 "metadata": {
  "kernelspec": {
   "display_name": "py311",
   "language": "python",
   "name": "python3"
  },
  "language_info": {
   "codemirror_mode": {
    "name": "ipython",
    "version": 3
   },
   "file_extension": ".py",
   "mimetype": "text/x-python",
   "name": "python",
   "nbconvert_exporter": "python",
   "pygments_lexer": "ipython3",
   "version": "3.11.9"
  }
 },
 "nbformat": 4,
 "nbformat_minor": 2
}
