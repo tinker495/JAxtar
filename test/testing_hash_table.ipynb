{
 "cells": [
  {
   "cell_type": "code",
   "execution_count": 1,
   "metadata": {},
   "outputs": [
    {
     "name": "stdout",
     "output_type": "stream",
     "text": [
      "env: CUDA_VISIBLE_DEVICES=0\n"
     ]
    }
   ],
   "source": [
    "import sys\n",
    "import os\n",
    "\n",
    "# 프로젝트 루트 디렉토리 경로를 추가\n",
    "project_root = os.path.abspath(os.path.join(os.getcwd(), '..'))\n",
    "if project_root not in sys.path:\n",
    "    sys.path.append(project_root)\n",
    "%env CUDA_VISIBLE_DEVICES=0"
   ]
  },
  {
   "cell_type": "code",
   "execution_count": 2,
   "metadata": {},
   "outputs": [
    {
     "name": "stderr",
     "output_type": "stream",
     "text": [
      "/tmp/ipykernel_2000/2078866209.py:7: TqdmExperimentalWarning: Using `tqdm.autonotebook.tqdm` in notebook mode. Use `tqdm.tqdm` instead to force console mode (e.g. in jupyter console)\n",
      "  from tqdm.autonotebook import trange\n"
     ]
    }
   ],
   "source": [
    "import jax\n",
    "import jax.numpy as jnp\n",
    "import time\n",
    "#disable jax JIT\n",
    "#jax.config.update(\"jax_disable_jit\", True)\n",
    "\n",
    "from tqdm.autonotebook import trange\n",
    "from functools import partial\n",
    "from JAxtar.hash import hash_func_builder\n",
    "from puzzle.slidepuzzle import SlidePuzzle\n",
    "from heuristic.slidepuzzle_heuristic import SlidePuzzleHeuristic\n",
    "from JAxtar.hash import HashTable"
   ]
  },
  {
   "cell_type": "code",
   "execution_count": 3,
   "metadata": {},
   "outputs": [
    {
     "name": "stdout",
     "output_type": "stream",
     "text": [
      "0.2033390998840332\n"
     ]
    }
   ],
   "source": [
    "count = 1000\n",
    "puzzle = SlidePuzzle(4)\n",
    "hash_func = hash_func_builder(puzzle.State)\n",
    "sample = jax.vmap(puzzle.get_initial_state)(key=jax.random.split(jax.random.PRNGKey(2),count))\n",
    "new_sample = jax.vmap(puzzle.get_initial_state)(key=jax.random.split(jax.random.PRNGKey(1),count))\n",
    "table = HashTable.build(puzzle.State, 1, int(1e5))\n",
    "\n",
    "lookup = jax.jit(partial(HashTable.lookup, hash_func))\n",
    "start = time.time()\n",
    "idx, table_idx, found = jax.vmap(lookup, in_axes=(None, 0))(table, sample)\n",
    "print(time.time()-start)"
   ]
  },
  {
   "cell_type": "code",
   "execution_count": 4,
   "metadata": {},
   "outputs": [
    {
     "name": "stdout",
     "output_type": "stream",
     "text": [
      "0.6303932666778564\n",
      "1.0 0.0 0.25\n",
      "0.6132092475891113\n",
      "1.0 0.0 0.25\n",
      "0.0011491775512695312\n",
      "1.0 0.0 0.25\n",
      "0.0007624626159667969\n",
      "1.0 0.0 0.25\n",
      "0.0008213520050048828\n",
      "1.0 0.0 0.25\n",
      "0.0012867450714111328\n",
      "1.0 0.0 0.25\n",
      "0.0010974407196044922\n",
      "1.0 0.0 0.25\n",
      "0.0015513896942138672\n",
      "1.0 0.0 0.25\n",
      "0.0009179115295410156\n",
      "1.0 0.0 0.25\n",
      "0.0007774829864501953\n",
      "1.0 0.0 0.25\n",
      "0.0008804798126220703\n",
      "1.0 0.0 0.25\n",
      "0.0008065700531005859\n",
      "1.0 0.0 0.25\n",
      "0.0009064674377441406\n",
      "1.0 0.0 0.25\n",
      "0.0009393692016601562\n",
      "1.0 0.0 0.25\n",
      "0.0012881755828857422\n",
      "1.0 0.0 0.25\n",
      "0.0009214878082275391\n",
      "1.0 0.0 0.25\n",
      "0.0010004043579101562\n",
      "1.0 0.0 0.25\n",
      "0.0011475086212158203\n",
      "1.0 0.0 0.25\n"
     ]
    }
   ],
   "source": [
    "batch = 4000\n",
    "parallel_insert = jax.jit(partial(HashTable.parallel_insert, hash_func))\n",
    "for i in range(18):\n",
    "    sample = jax.vmap(puzzle.get_initial_state)(key=jax.random.split(jax.random.PRNGKey(i + 256),count))\n",
    "    idx, table_idx, old_found = jax.vmap(lookup, in_axes=(None, 0))(table, sample)\n",
    "    batched_sample, filled = HashTable.make_batched(puzzle.State, sample, batch)\n",
    "    start = time.time()\n",
    "    table, inserted, _, _ = parallel_insert(table, batched_sample, filled)\n",
    "    print(time.time()-start)\n",
    "    idx, table_idx, found = jax.vmap(lookup, in_axes=(None, 0))(table, sample)\n",
    "    print(jnp.mean(found), jnp.mean(old_found), jnp.mean(inserted))"
   ]
  },
  {
   "cell_type": "code",
   "execution_count": 5,
   "metadata": {},
   "outputs": [
    {
     "name": "stdout",
     "output_type": "stream",
     "text": [
      "0.2058570384979248\n"
     ]
    }
   ],
   "source": [
    "count = int(1e6)\n",
    "puzzle = SlidePuzzle(4)\n",
    "hash_func = hash_func_builder(puzzle.State)\n",
    "sample = jax.vmap(puzzle.get_initial_state)(key=jax.random.split(jax.random.PRNGKey(2),count))\n",
    "new_sample = jax.vmap(puzzle.get_initial_state)(key=jax.random.split(jax.random.PRNGKey(1),count))\n",
    "table = HashTable.build(puzzle.State, 1, int(1e7))\n",
    "\n",
    "lookup = jax.jit(partial(HashTable.lookup, hash_func))\n",
    "start = time.time()\n",
    "idx, table_idx, found = jax.vmap(lookup, in_axes=(None, 0))(table, sample)\n",
    "print(time.time()-start)\n",
    "#print(seeds, idx, table_idx, found)"
   ]
  },
  {
   "cell_type": "code",
   "execution_count": 6,
   "metadata": {},
   "outputs": [
    {
     "data": {
      "application/vnd.jupyter.widget-view+json": {
       "model_id": "9b30bd0c238642268c6c61e257a49403",
       "version_major": 2,
       "version_minor": 0
      },
      "text/plain": [
       "  0%|          | 0/250 [00:00<?, ?it/s]"
      ]
     },
     "metadata": {},
     "output_type": "display_data"
    },
    {
     "name": "stdout",
     "output_type": "stream",
     "text": [
      "1.0 0.0 1.0\n"
     ]
    },
    {
     "data": {
      "application/vnd.jupyter.widget-view+json": {
       "model_id": "766fba582c54452eb5970d8642f67b3f",
       "version_major": 2,
       "version_minor": 0
      },
      "text/plain": [
       "  0%|          | 0/250 [00:00<?, ?it/s]"
      ]
     },
     "metadata": {},
     "output_type": "display_data"
    },
    {
     "name": "stdout",
     "output_type": "stream",
     "text": [
      "1.0 0.0 1.0\n"
     ]
    },
    {
     "data": {
      "application/vnd.jupyter.widget-view+json": {
       "model_id": "f7bc33487bf049e8bd53751566c2500d",
       "version_major": 2,
       "version_minor": 0
      },
      "text/plain": [
       "  0%|          | 0/250 [00:00<?, ?it/s]"
      ]
     },
     "metadata": {},
     "output_type": "display_data"
    },
    {
     "name": "stdout",
     "output_type": "stream",
     "text": [
      "1.0 0.0 1.0\n"
     ]
    },
    {
     "data": {
      "application/vnd.jupyter.widget-view+json": {
       "model_id": "649361d7b4984ed4ae3389de1974ac95",
       "version_major": 2,
       "version_minor": 0
      },
      "text/plain": [
       "  0%|          | 0/250 [00:00<?, ?it/s]"
      ]
     },
     "metadata": {},
     "output_type": "display_data"
    },
    {
     "name": "stdout",
     "output_type": "stream",
     "text": [
      "1.0 1e-06 0.999999\n"
     ]
    },
    {
     "data": {
      "application/vnd.jupyter.widget-view+json": {
       "model_id": "5249919c053d44b188ce8dd168144060",
       "version_major": 2,
       "version_minor": 0
      },
      "text/plain": [
       "  0%|          | 0/250 [00:00<?, ?it/s]"
      ]
     },
     "metadata": {},
     "output_type": "display_data"
    },
    {
     "name": "stdout",
     "output_type": "stream",
     "text": [
      "1.0 0.0 1.0\n"
     ]
    },
    {
     "data": {
      "application/vnd.jupyter.widget-view+json": {
       "model_id": "79e314544a9d453c819fba392a78b1b3",
       "version_major": 2,
       "version_minor": 0
      },
      "text/plain": [
       "  0%|          | 0/250 [00:00<?, ?it/s]"
      ]
     },
     "metadata": {},
     "output_type": "display_data"
    },
    {
     "name": "stdout",
     "output_type": "stream",
     "text": [
      "1.0 2e-06 0.999998\n"
     ]
    },
    {
     "data": {
      "application/vnd.jupyter.widget-view+json": {
       "model_id": "408a7f87c0224b8dbad7035069a80f37",
       "version_major": 2,
       "version_minor": 0
      },
      "text/plain": [
       "  0%|          | 0/250 [00:00<?, ?it/s]"
      ]
     },
     "metadata": {},
     "output_type": "display_data"
    },
    {
     "name": "stdout",
     "output_type": "stream",
     "text": [
      "1.0 0.0 1.0\n"
     ]
    },
    {
     "data": {
      "application/vnd.jupyter.widget-view+json": {
       "model_id": "a0af343304d0485f91ee29533545b6f4",
       "version_major": 2,
       "version_minor": 0
      },
      "text/plain": [
       "  0%|          | 0/250 [00:00<?, ?it/s]"
      ]
     },
     "metadata": {},
     "output_type": "display_data"
    },
    {
     "name": "stdout",
     "output_type": "stream",
     "text": [
      "1.0 1e-06 0.999998\n"
     ]
    },
    {
     "data": {
      "application/vnd.jupyter.widget-view+json": {
       "model_id": "7db421758b934e9a8857cd852e1003a3",
       "version_major": 2,
       "version_minor": 0
      },
      "text/plain": [
       "  0%|          | 0/250 [00:00<?, ?it/s]"
      ]
     },
     "metadata": {},
     "output_type": "display_data"
    },
    {
     "name": "stdout",
     "output_type": "stream",
     "text": [
      "1.0 1e-06 0.999999\n"
     ]
    },
    {
     "data": {
      "application/vnd.jupyter.widget-view+json": {
       "model_id": "f3ccec6ce6ba43b2808003f3e0a7bf60",
       "version_major": 2,
       "version_minor": 0
      },
      "text/plain": [
       "  0%|          | 0/250 [00:00<?, ?it/s]"
      ]
     },
     "metadata": {},
     "output_type": "display_data"
    },
    {
     "name": "stdout",
     "output_type": "stream",
     "text": [
      "1.0 0.0 1.0\n"
     ]
    },
    {
     "data": {
      "application/vnd.jupyter.widget-view+json": {
       "model_id": "a68bcf7726ae47a499d624dab5b27e3c",
       "version_major": 2,
       "version_minor": 0
      },
      "text/plain": [
       "  0%|          | 0/250 [00:00<?, ?it/s]"
      ]
     },
     "metadata": {},
     "output_type": "display_data"
    },
    {
     "name": "stdout",
     "output_type": "stream",
     "text": [
      "1.0 0.0 0.999999\n"
     ]
    },
    {
     "data": {
      "application/vnd.jupyter.widget-view+json": {
       "model_id": "ccbce6a3c45d4eb6854e61f263248e05",
       "version_major": 2,
       "version_minor": 0
      },
      "text/plain": [
       "  0%|          | 0/250 [00:00<?, ?it/s]"
      ]
     },
     "metadata": {},
     "output_type": "display_data"
    },
    {
     "name": "stdout",
     "output_type": "stream",
     "text": [
      "1.0 1e-06 0.999999\n"
     ]
    },
    {
     "data": {
      "application/vnd.jupyter.widget-view+json": {
       "model_id": "2b3d6772d3634af3878ac970b9b8f87c",
       "version_major": 2,
       "version_minor": 0
      },
      "text/plain": [
       "  0%|          | 0/250 [00:00<?, ?it/s]"
      ]
     },
     "metadata": {},
     "output_type": "display_data"
    },
    {
     "ename": "KeyboardInterrupt",
     "evalue": "",
     "output_type": "error",
     "traceback": [
      "\u001b[0;31m---------------------------------------------------------------------------\u001b[0m",
      "\u001b[0;31mKeyboardInterrupt\u001b[0m                         Traceback (most recent call last)",
      "Cell \u001b[0;32mIn[6], line 9\u001b[0m\n\u001b[1;32m      7\u001b[0m same_ratio \u001b[38;5;241m=\u001b[39m jnp\u001b[38;5;241m.\u001b[39mmean(found)\n\u001b[1;32m      8\u001b[0m \u001b[38;5;28;01mfor\u001b[39;00m j \u001b[38;5;129;01min\u001b[39;00m trange(\u001b[38;5;241m0\u001b[39m, count, batch):\n\u001b[0;32m----> 9\u001b[0m     table, inserted, _, _ \u001b[38;5;241m=\u001b[39m \u001b[43mparallel_insert\u001b[49m\u001b[43m(\u001b[49m\u001b[43mtable\u001b[49m\u001b[43m,\u001b[49m\u001b[43m \u001b[49m\u001b[43msample\u001b[49m\u001b[43m[\u001b[49m\u001b[43mj\u001b[49m\u001b[43m:\u001b[49m\u001b[43mj\u001b[49m\u001b[38;5;241;43m+\u001b[39;49m\u001b[43mbatch\u001b[49m\u001b[43m]\u001b[49m\u001b[43m,\u001b[49m\u001b[43m \u001b[49m\u001b[43mjnp\u001b[49m\u001b[38;5;241;43m.\u001b[39;49m\u001b[43mones\u001b[49m\u001b[43m(\u001b[49m\u001b[43mbatch\u001b[49m\u001b[43m,\u001b[49m\u001b[43m \u001b[49m\u001b[43mdtype\u001b[49m\u001b[38;5;241;43m=\u001b[39;49m\u001b[43mjnp\u001b[49m\u001b[38;5;241;43m.\u001b[39;49m\u001b[43mbool_\u001b[49m\u001b[43m)\u001b[49m\u001b[43m)\u001b[49m\n\u001b[1;32m     10\u001b[0m     inserteds\u001b[38;5;241m.\u001b[39mappend(inserted)\n\u001b[1;32m     11\u001b[0m inserteds \u001b[38;5;241m=\u001b[39m jnp\u001b[38;5;241m.\u001b[39mconcatenate(inserteds)\n",
      "File \u001b[0;32m~/anaconda3/envs/py311/lib/python3.11/site-packages/chex/_src/dataclass.py:257\u001b[0m, in \u001b[0;36m_dataclass_unflatten\u001b[0;34m(dcls, keys, values)\u001b[0m\n\u001b[1;32m    252\u001b[0m     \u001b[38;5;28msetattr\u001b[39m(dcls, \u001b[38;5;124m\"\u001b[39m\u001b[38;5;124m__init__\u001b[39m\u001b[38;5;124m\"\u001b[39m, _init)\n\u001b[1;32m    254\u001b[0m     \u001b[38;5;28;01mreturn\u001b[39;00m dcls\n\u001b[0;32m--> 257\u001b[0m \u001b[38;5;28;01mdef\u001b[39;00m \u001b[38;5;21m_dataclass_unflatten\u001b[39m(dcls, keys, values):\n\u001b[1;32m    258\u001b[0m \u001b[38;5;250m  \u001b[39m\u001b[38;5;124;03m\"\"\"Creates a chex dataclass from a flatten jax.tree_util representation.\"\"\"\u001b[39;00m\n\u001b[1;32m    259\u001b[0m   dcls_object \u001b[38;5;241m=\u001b[39m dcls\u001b[38;5;241m.\u001b[39m\u001b[38;5;21m__new__\u001b[39m(dcls)\n",
      "\u001b[0;31mKeyboardInterrupt\u001b[0m: "
     ]
    }
   ],
   "source": [
    "batch = 4000\n",
    "parallel_insert = jax.jit(partial(HashTable.parallel_insert, hash_func))\n",
    "for i in range(18):\n",
    "    inserteds = []\n",
    "    sample = jax.vmap(puzzle.get_initial_state)(key=jax.random.split(jax.random.PRNGKey(i + 256),count))\n",
    "    idx, table_idx, found = jax.vmap(lookup, in_axes=(None, 0))(table, sample)\n",
    "    same_ratio = jnp.mean(found)\n",
    "    for j in trange(0, count, batch):\n",
    "        table, inserted, _, _ = parallel_insert(table, sample[j:j+batch], jnp.ones(batch, dtype=jnp.bool_))\n",
    "        inserteds.append(inserted)\n",
    "    inserteds = jnp.concatenate(inserteds)\n",
    "    idx, table_idx, found = jax.vmap(lookup, in_axes=(None, 0))(table, sample)\n",
    "    print(jnp.mean(found), same_ratio, jnp.mean(inserteds))"
   ]
  },
  {
   "cell_type": "code",
   "execution_count": null,
   "metadata": {},
   "outputs": [
    {
     "name": "stdout",
     "output_type": "stream",
     "text": [
      "1e-06\n"
     ]
    }
   ],
   "source": [
    "another_sample = jax.vmap(puzzle.get_initial_state)(key=jax.random.split(jax.random.PRNGKey(123),count))\n",
    "idx, table_idx, found = jax.vmap(lookup, in_axes=(None, 0))(table, another_sample)\n",
    "print(jnp.sum(found) / count)"
   ]
  },
  {
   "cell_type": "code",
   "execution_count": null,
   "metadata": {},
   "outputs": [
    {
     "data": {
      "application/vnd.jupyter.widget-view+json": {
       "model_id": "6a707f63e80b4f03ae790d1ee6edee01",
       "version_major": 2,
       "version_minor": 0
      },
      "text/plain": [
       "  0%|          | 0/250 [00:00<?, ?it/s]"
      ]
     },
     "metadata": {},
     "output_type": "display_data"
    },
    {
     "name": "stdout",
     "output_type": "stream",
     "text": [
      "0.999999\n",
      "insert time: 4.5235724449157715\n",
      "check time: 0.2607121467590332\n",
      "0.998143\n",
      "check time: 0.2489774227142334\n",
      "1e-06\n",
      "check time: 0.5532791614532471\n",
      "0.99668497\n"
     ]
    }
   ],
   "source": [
    "start = time.time()\n",
    "inserteds = []\n",
    "for i in trange(count // batch):\n",
    "    table, inserted, _, _ = parallel_insert(table, another_sample[i*batch:(i+1)*batch], jnp.ones(batch, dtype=jnp.bool_))\n",
    "    inserteds.append(inserted)\n",
    "print(jnp.sum(jnp.concatenate(inserteds)) / count)\n",
    "print(\"insert time:\", time.time()-start)\n",
    "start = time.time()\n",
    "idx, table_idx, found = jax.vmap(lookup, in_axes=(None, 0))(table, sample)\n",
    "print(\"check time:\", time.time()-start)\n",
    "print(jnp.sum(found) / count)\n",
    "start = time.time()\n",
    "idx, table_idx, found = jax.vmap(lookup, in_axes=(None, 0))(table, new_sample)\n",
    "print(\"check time:\", time.time()-start)\n",
    "print(jnp.sum(found) / count)\n",
    "idx, table_idx, found = jax.vmap(lookup, in_axes=(None, 0))(table, another_sample)\n",
    "print(\"check time:\", time.time()-start)\n",
    "print(jnp.sum(found) / count)"
   ]
  }
 ],
 "metadata": {
  "kernelspec": {
   "display_name": "py311",
   "language": "python",
   "name": "python3"
  },
  "language_info": {
   "codemirror_mode": {
    "name": "ipython",
    "version": 3
   },
   "file_extension": ".py",
   "mimetype": "text/x-python",
   "name": "python",
   "nbconvert_exporter": "python",
   "pygments_lexer": "ipython3",
   "version": "3.11.9"
  }
 },
 "nbformat": 4,
 "nbformat_minor": 2
}
