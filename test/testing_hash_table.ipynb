{
 "cells": [
  {
   "cell_type": "code",
   "execution_count": 1,
   "metadata": {},
   "outputs": [
    {
     "name": "stdout",
     "output_type": "stream",
     "text": [
      "env: CUDA_VISIBLE_DEVICES=0\n"
     ]
    }
   ],
   "source": [
    "import sys\n",
    "import os\n",
    "\n",
    "# 프로젝트 루트 디렉토리 경로를 추가\n",
    "project_root = os.path.abspath(os.path.join(os.getcwd(), '..'))\n",
    "if project_root not in sys.path:\n",
    "    sys.path.append(project_root)\n",
    "%env CUDA_VISIBLE_DEVICES=0"
   ]
  },
  {
   "cell_type": "code",
   "execution_count": 2,
   "metadata": {},
   "outputs": [
    {
     "name": "stderr",
     "output_type": "stream",
     "text": [
      "/tmp/ipykernel_3692962/2078866209.py:7: TqdmWarning: IProgress not found. Please update jupyter and ipywidgets. See https://ipywidgets.readthedocs.io/en/stable/user_install.html\n",
      "  from tqdm.autonotebook import trange\n",
      "2024-08-05 09:00:31.021593: W external/xla/xla/service/gpu/nvptx_compiler.cc:765] The NVIDIA driver's CUDA version is 12.2 which is older than the ptxas CUDA version (12.5.82). Because the driver is older than the ptxas version, XLA is disabling parallel compilation, which may slow down compilation. You should update your NVIDIA driver or use the NVIDIA-provided CUDA forward compatibility packages.\n"
     ]
    }
   ],
   "source": [
    "import jax\n",
    "import jax.numpy as jnp\n",
    "import time\n",
    "#disable jax JIT\n",
    "#jax.config.update(\"jax_disable_jit\", True)\n",
    "\n",
    "from tqdm.autonotebook import trange\n",
    "from functools import partial\n",
    "from JAxtar.hash import hash_func_builder\n",
    "from puzzle.slidepuzzle import SlidePuzzle\n",
    "from heuristic.slidepuzzle_heuristic import SlidePuzzleHeuristic\n",
    "from JAxtar.hash import HashTable"
   ]
  },
  {
   "cell_type": "code",
   "execution_count": 3,
   "metadata": {},
   "outputs": [
    {
     "name": "stdout",
     "output_type": "stream",
     "text": [
      "0.39784979820251465\n"
     ]
    }
   ],
   "source": [
    "count = 1000\n",
    "puzzle = SlidePuzzle(4)\n",
    "hash_func = hash_func_builder(puzzle.State)\n",
    "sample = jax.vmap(puzzle.get_initial_state)(key=jax.random.split(jax.random.PRNGKey(2),count))\n",
    "new_sample = jax.vmap(puzzle.get_initial_state)(key=jax.random.split(jax.random.PRNGKey(1),count))\n",
    "table = HashTable.build(puzzle.State, 1, int(1e5))\n",
    "\n",
    "lookup = jax.jit(partial(HashTable.lookup, hash_func))\n",
    "start = time.time()\n",
    "idx, table_idx, found = jax.vmap(lookup, in_axes=(None, 0))(table, sample)\n",
    "print(time.time()-start)"
   ]
  },
  {
   "cell_type": "code",
   "execution_count": 4,
   "metadata": {},
   "outputs": [
    {
     "name": "stdout",
     "output_type": "stream",
     "text": [
      "1.4837102890014648\n",
      "1.0 0.0 0.25\n",
      "1.433384656906128\n",
      "0.9990001 0.0 0.25\n",
      "0.000736236572265625\n",
      "1.0 0.0 0.25\n",
      "0.0006349086761474609\n",
      "1.0 0.0 0.25\n",
      "0.0006351470947265625\n",
      "1.0 0.0 0.25\n",
      "0.0005526542663574219\n",
      "1.0 0.0 0.25\n",
      "0.0005509853363037109\n",
      "0.9990001 0.0 0.25\n",
      "0.0005288124084472656\n",
      "1.0 0.0 0.25\n",
      "0.0005342960357666016\n",
      "0.9990001 0.0 0.25\n",
      "0.0004925727844238281\n",
      "1.0 0.0 0.25\n",
      "0.0004925727844238281\n",
      "0.9990001 0.0 0.25\n",
      "0.0004966259002685547\n",
      "1.0 0.0 0.25\n",
      "0.0004980564117431641\n",
      "0.9990001 0.0 0.25\n",
      "0.0004954338073730469\n",
      "1.0 0.0 0.25\n",
      "0.0005993843078613281\n",
      "0.9990001 0.0 0.25\n",
      "0.0004963874816894531\n",
      "1.0 0.0 0.25\n",
      "0.0005118846893310547\n",
      "1.0 0.0 0.25\n",
      "0.0004782676696777344\n",
      "1.0 0.0 0.25\n"
     ]
    }
   ],
   "source": [
    "batch = 4000\n",
    "parallel_insert = jax.jit(partial(HashTable.parallel_insert, hash_func))\n",
    "for i in range(18):\n",
    "    sample = jax.vmap(puzzle.get_initial_state)(key=jax.random.split(jax.random.PRNGKey(i + 256),count))\n",
    "    idx, table_idx, old_found = jax.vmap(lookup, in_axes=(None, 0))(table, sample)\n",
    "    batched_sample, filled = HashTable.make_batched(puzzle.State, sample, batch)\n",
    "    start = time.time()\n",
    "    table, inserted, _, _ = parallel_insert(table, batched_sample, filled)\n",
    "    print(time.time()-start)\n",
    "    idx, table_idx, found = jax.vmap(lookup, in_axes=(None, 0))(table, sample)\n",
    "    print(jnp.mean(found), jnp.mean(old_found), jnp.mean(inserted))"
   ]
  },
  {
   "cell_type": "code",
   "execution_count": 5,
   "metadata": {},
   "outputs": [
    {
     "data": {
      "text/plain": [
       "Array(2, dtype=uint8)"
      ]
     },
     "execution_count": 5,
     "metadata": {},
     "output_type": "execute_result"
    }
   ],
   "source": [
    "jnp.max(table.table_idx)"
   ]
  },
  {
   "cell_type": "code",
   "execution_count": 6,
   "metadata": {},
   "outputs": [
    {
     "name": "stdout",
     "output_type": "stream",
     "text": [
      "0.37995052337646484\n"
     ]
    }
   ],
   "source": [
    "count = int(1e6)\n",
    "puzzle = SlidePuzzle(4)\n",
    "hash_func = hash_func_builder(puzzle.State)\n",
    "sample = jax.vmap(puzzle.get_initial_state)(key=jax.random.split(jax.random.PRNGKey(2),count))\n",
    "new_sample = jax.vmap(puzzle.get_initial_state)(key=jax.random.split(jax.random.PRNGKey(1),count))\n",
    "table = HashTable.build(puzzle.State, 1, int(1e7))\n",
    "\n",
    "lookup = jax.jit(partial(HashTable.lookup, hash_func))\n",
    "start = time.time()\n",
    "idx, table_idx, found = jax.vmap(lookup, in_axes=(None, 0))(table, sample)\n",
    "print(time.time()-start)"
   ]
  },
  {
   "cell_type": "code",
   "execution_count": 7,
   "metadata": {},
   "outputs": [
    {
     "name": "stderr",
     "output_type": "stream",
     "text": [
      "100%|██████████| 100/100 [00:03<00:00, 28.22it/s]\n"
     ]
    },
    {
     "name": "stdout",
     "output_type": "stream",
     "text": [
      "0.999972 0.0 1.0\n"
     ]
    },
    {
     "name": "stderr",
     "output_type": "stream",
     "text": [
      "100%|██████████| 100/100 [00:00<00:00, 634.48it/s]\n"
     ]
    },
    {
     "name": "stdout",
     "output_type": "stream",
     "text": [
      "0.999923 0.0 1.0\n"
     ]
    },
    {
     "name": "stderr",
     "output_type": "stream",
     "text": [
      "100%|██████████| 100/100 [00:00<00:00, 630.93it/s]\n"
     ]
    },
    {
     "name": "stdout",
     "output_type": "stream",
     "text": [
      "0.9999 0.0 1.0\n"
     ]
    },
    {
     "name": "stderr",
     "output_type": "stream",
     "text": [
      "100%|██████████| 100/100 [00:00<00:00, 620.13it/s]\n"
     ]
    },
    {
     "name": "stdout",
     "output_type": "stream",
     "text": [
      "0.99987 1e-06 0.999999\n"
     ]
    },
    {
     "name": "stderr",
     "output_type": "stream",
     "text": [
      "100%|██████████| 100/100 [00:00<00:00, 578.38it/s]\n"
     ]
    },
    {
     "name": "stdout",
     "output_type": "stream",
     "text": [
      "0.999789 0.0 1.0\n"
     ]
    },
    {
     "name": "stderr",
     "output_type": "stream",
     "text": [
      "100%|██████████| 100/100 [00:00<00:00, 564.81it/s]\n"
     ]
    },
    {
     "name": "stdout",
     "output_type": "stream",
     "text": [
      "0.999758 2e-06 0.999998\n"
     ]
    },
    {
     "name": "stderr",
     "output_type": "stream",
     "text": [
      "100%|██████████| 100/100 [00:00<00:00, 553.09it/s]\n"
     ]
    },
    {
     "name": "stdout",
     "output_type": "stream",
     "text": [
      "0.999713 0.0 1.0\n"
     ]
    },
    {
     "name": "stderr",
     "output_type": "stream",
     "text": [
      "100%|██████████| 100/100 [00:00<00:00, 528.42it/s]\n"
     ]
    },
    {
     "name": "stdout",
     "output_type": "stream",
     "text": [
      "0.999638 1e-06 0.999998\n"
     ]
    },
    {
     "name": "stderr",
     "output_type": "stream",
     "text": [
      "100%|██████████| 100/100 [00:00<00:00, 486.67it/s]\n"
     ]
    },
    {
     "name": "stdout",
     "output_type": "stream",
     "text": [
      "0.999618 1e-06 0.999999\n"
     ]
    },
    {
     "name": "stderr",
     "output_type": "stream",
     "text": [
      "100%|██████████| 100/100 [00:00<00:00, 461.16it/s]\n"
     ]
    },
    {
     "name": "stdout",
     "output_type": "stream",
     "text": [
      "0.999511 0.0 1.0\n"
     ]
    },
    {
     "name": "stderr",
     "output_type": "stream",
     "text": [
      "100%|██████████| 100/100 [00:00<00:00, 429.93it/s]\n"
     ]
    },
    {
     "name": "stdout",
     "output_type": "stream",
     "text": [
      "0.999442 0.0 0.999999\n"
     ]
    },
    {
     "name": "stderr",
     "output_type": "stream",
     "text": [
      " 15%|█▌        | 15/100 [00:00<00:00, 354.15it/s]\n"
     ]
    },
    {
     "ename": "KeyboardInterrupt",
     "evalue": "",
     "output_type": "error",
     "traceback": [
      "\u001b[0;31m---------------------------------------------------------------------------\u001b[0m",
      "\u001b[0;31mKeyboardInterrupt\u001b[0m                         Traceback (most recent call last)",
      "Cell \u001b[0;32mIn[7], line 9\u001b[0m\n\u001b[1;32m      7\u001b[0m same_ratio \u001b[38;5;241m=\u001b[39m jnp\u001b[38;5;241m.\u001b[39mmean(found)\n\u001b[1;32m      8\u001b[0m \u001b[38;5;28;01mfor\u001b[39;00m j \u001b[38;5;129;01min\u001b[39;00m trange(\u001b[38;5;241m0\u001b[39m, count, batch):\n\u001b[0;32m----> 9\u001b[0m     table, inserted, _, _ \u001b[38;5;241m=\u001b[39m \u001b[43mparallel_insert\u001b[49m\u001b[43m(\u001b[49m\u001b[43mtable\u001b[49m\u001b[43m,\u001b[49m\u001b[43m \u001b[49m\u001b[43msample\u001b[49m\u001b[43m[\u001b[49m\u001b[43mj\u001b[49m\u001b[43m:\u001b[49m\u001b[43mj\u001b[49m\u001b[38;5;241;43m+\u001b[39;49m\u001b[43mbatch\u001b[49m\u001b[43m]\u001b[49m\u001b[43m,\u001b[49m\u001b[43m \u001b[49m\u001b[43mjnp\u001b[49m\u001b[38;5;241;43m.\u001b[39;49m\u001b[43mones\u001b[49m\u001b[43m(\u001b[49m\u001b[43mbatch\u001b[49m\u001b[43m,\u001b[49m\u001b[43m \u001b[49m\u001b[43mdtype\u001b[49m\u001b[38;5;241;43m=\u001b[39;49m\u001b[43mjnp\u001b[49m\u001b[38;5;241;43m.\u001b[39;49m\u001b[43mbool_\u001b[49m\u001b[43m)\u001b[49m\u001b[43m)\u001b[49m\n\u001b[1;32m     10\u001b[0m     inserteds\u001b[38;5;241m.\u001b[39mappend(inserted)\n\u001b[1;32m     11\u001b[0m inserteds \u001b[38;5;241m=\u001b[39m jnp\u001b[38;5;241m.\u001b[39mconcatenate(inserteds)\n",
      "File \u001b[0;32m~/miniconda3/envs/py311/lib/python3.11/site-packages/chex/_src/dataclass.py:257\u001b[0m, in \u001b[0;36m_dataclass_unflatten\u001b[0;34m(dcls, keys, values)\u001b[0m\n\u001b[1;32m    252\u001b[0m     \u001b[38;5;28msetattr\u001b[39m(dcls, \u001b[38;5;124m\"\u001b[39m\u001b[38;5;124m__init__\u001b[39m\u001b[38;5;124m\"\u001b[39m, _init)\n\u001b[1;32m    254\u001b[0m     \u001b[38;5;28;01mreturn\u001b[39;00m dcls\n\u001b[0;32m--> 257\u001b[0m \u001b[38;5;28;01mdef\u001b[39;00m \u001b[38;5;21m_dataclass_unflatten\u001b[39m(dcls, keys, values):\n\u001b[1;32m    258\u001b[0m \u001b[38;5;250m  \u001b[39m\u001b[38;5;124;03m\"\"\"Creates a chex dataclass from a flatten jax.tree_util representation.\"\"\"\u001b[39;00m\n\u001b[1;32m    259\u001b[0m   dcls_object \u001b[38;5;241m=\u001b[39m dcls\u001b[38;5;241m.\u001b[39m\u001b[38;5;21m__new__\u001b[39m(dcls)\n",
      "\u001b[0;31mKeyboardInterrupt\u001b[0m: "
     ]
    }
   ],
   "source": [
    "batch = 10000\n",
    "parallel_insert = jax.jit(partial(HashTable.parallel_insert, hash_func))\n",
    "for i in range(18):\n",
    "    inserteds = []\n",
    "    sample = jax.vmap(puzzle.get_initial_state)(key=jax.random.split(jax.random.PRNGKey(i + 256),count))\n",
    "    idx, table_idx, found = jax.vmap(lookup, in_axes=(None, 0))(table, sample)\n",
    "    same_ratio = jnp.mean(found)\n",
    "    for j in trange(0, count, batch):\n",
    "        table, inserted, _, _ = parallel_insert(table, sample[j:j+batch], jnp.ones(batch, dtype=jnp.bool_))\n",
    "        inserteds.append(inserted)\n",
    "    inserteds = jnp.concatenate(inserteds)\n",
    "    idx, table_idx, found = jax.vmap(lookup, in_axes=(None, 0))(table, sample)\n",
    "    print(jnp.mean(found), same_ratio, jnp.mean(inserteds))"
   ]
  },
  {
   "cell_type": "code",
   "execution_count": null,
   "metadata": {},
   "outputs": [
    {
     "data": {
      "text/plain": [
       "Array(2, dtype=uint8)"
      ]
     },
     "execution_count": 8,
     "metadata": {},
     "output_type": "execute_result"
    }
   ],
   "source": [
    "jnp.max(table.table_idx)"
   ]
  },
  {
   "cell_type": "code",
   "execution_count": null,
   "metadata": {},
   "outputs": [
    {
     "name": "stdout",
     "output_type": "stream",
     "text": [
      "1e-06\n"
     ]
    }
   ],
   "source": [
    "another_sample = jax.vmap(puzzle.get_initial_state)(key=jax.random.split(jax.random.PRNGKey(123),count))\n",
    "idx, table_idx, found = jax.vmap(lookup, in_axes=(None, 0))(table, another_sample)\n",
    "print(jnp.sum(found) / count)"
   ]
  },
  {
   "cell_type": "code",
   "execution_count": null,
   "metadata": {},
   "outputs": [
    {
     "name": "stderr",
     "output_type": "stream",
     "text": [
      "100%|██████████| 100/100 [00:01<00:00, 66.03it/s]\n"
     ]
    },
    {
     "name": "stdout",
     "output_type": "stream",
     "text": [
      "0.999999\n",
      "insert time: 1.5196442604064941\n",
      "check time: 0.13991403579711914\n",
      "0.996594\n",
      "check time: 0.15191936492919922\n",
      "1e-06\n",
      "check time: 0.3145577907562256\n",
      "0.993682\n"
     ]
    }
   ],
   "source": [
    "start = time.time()\n",
    "inserteds = []\n",
    "for i in trange(count // batch):\n",
    "    table, inserted, _, _ = parallel_insert(table, another_sample[i*batch:(i+1)*batch], jnp.ones(batch, dtype=jnp.bool_))\n",
    "    inserteds.append(inserted)\n",
    "print(jnp.sum(jnp.concatenate(inserteds)) / count)\n",
    "print(\"insert time:\", time.time()-start)\n",
    "start = time.time()\n",
    "idx, table_idx, found = jax.vmap(lookup, in_axes=(None, 0))(table, sample)\n",
    "print(\"check time:\", time.time()-start)\n",
    "print(jnp.sum(found) / count)\n",
    "start = time.time()\n",
    "idx, table_idx, found = jax.vmap(lookup, in_axes=(None, 0))(table, new_sample)\n",
    "print(\"check time:\", time.time()-start)\n",
    "print(jnp.sum(found) / count)\n",
    "idx, table_idx, found = jax.vmap(lookup, in_axes=(None, 0))(table, another_sample)\n",
    "print(\"check time:\", time.time()-start)\n",
    "print(jnp.sum(found) / count)"
   ]
  }
 ],
 "metadata": {
  "kernelspec": {
   "display_name": "py311",
   "language": "python",
   "name": "python3"
  },
  "language_info": {
   "codemirror_mode": {
    "name": "ipython",
    "version": 3
   },
   "file_extension": ".py",
   "mimetype": "text/x-python",
   "name": "python",
   "nbconvert_exporter": "python",
   "pygments_lexer": "ipython3",
   "version": "3.11.9"
  }
 },
 "nbformat": 4,
 "nbformat_minor": 2
}
