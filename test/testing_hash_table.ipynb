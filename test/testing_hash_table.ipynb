{
 "cells": [
  {
   "cell_type": "code",
   "execution_count": 1,
   "metadata": {},
   "outputs": [
    {
     "name": "stdout",
     "output_type": "stream",
     "text": [
      "env: CUDA_VISIBLE_DEVICES=0\n"
     ]
    }
   ],
   "source": [
    "import sys\n",
    "import os\n",
    "\n",
    "# 프로젝트 루트 디렉토리 경로를 추가\n",
    "project_root = os.path.abspath(os.path.join(os.getcwd(), '..'))\n",
    "if project_root not in sys.path:\n",
    "    sys.path.append(project_root)\n",
    "%env CUDA_VISIBLE_DEVICES=0"
   ]
  },
  {
   "cell_type": "code",
   "execution_count": 2,
   "metadata": {},
   "outputs": [
    {
     "name": "stderr",
     "output_type": "stream",
     "text": [
      "/tmp/ipykernel_25932/2078866209.py:7: TqdmExperimentalWarning: Using `tqdm.autonotebook.tqdm` in notebook mode. Use `tqdm.tqdm` instead to force console mode (e.g. in jupyter console)\n",
      "  from tqdm.autonotebook import trange\n"
     ]
    }
   ],
   "source": [
    "import jax\n",
    "import jax.numpy as jnp\n",
    "import time\n",
    "#disable jax JIT\n",
    "#jax.config.update(\"jax_disable_jit\", True)\n",
    "\n",
    "from tqdm.autonotebook import trange\n",
    "from functools import partial\n",
    "from JAxtar.hash import hash_func_builder\n",
    "from puzzle.slidepuzzle import SlidePuzzle\n",
    "from heuristic.slidepuzzle_heuristic import SlidePuzzleHeuristic\n",
    "from JAxtar.hash import HashTable"
   ]
  },
  {
   "cell_type": "code",
   "execution_count": 3,
   "metadata": {},
   "outputs": [
    {
     "name": "stdout",
     "output_type": "stream",
     "text": [
      "0.20058012008666992\n"
     ]
    }
   ],
   "source": [
    "count = 1000\n",
    "puzzle = SlidePuzzle(4)\n",
    "hash_func = hash_func_builder(puzzle.State)\n",
    "sample = jax.vmap(puzzle.get_initial_state)(key=jax.random.split(jax.random.PRNGKey(2),count))\n",
    "new_sample = jax.vmap(puzzle.get_initial_state)(key=jax.random.split(jax.random.PRNGKey(1),count))\n",
    "table = HashTable.build(puzzle.State, 1, int(1e5))\n",
    "\n",
    "lookup = jax.jit(partial(HashTable.lookup, hash_func))\n",
    "start = time.time()\n",
    "idx, table_idx, found = jax.vmap(lookup, in_axes=(None, 0))(table, sample)\n",
    "print(time.time()-start)"
   ]
  },
  {
   "cell_type": "code",
   "execution_count": 4,
   "metadata": {},
   "outputs": [
    {
     "name": "stdout",
     "output_type": "stream",
     "text": [
      "0.8646855354309082\n",
      "1.0 0.0 0.25\n",
      "0.8525784015655518\n",
      "1.0 0.0 0.25\n",
      "0.0007708072662353516\n",
      "1.0 0.0 0.25\n",
      "0.0005652904510498047\n",
      "1.0 0.0 0.25\n",
      "0.0005927085876464844\n",
      "1.0 0.0 0.25\n",
      "0.0006411075592041016\n",
      "1.0 0.0 0.25\n",
      "0.0006673336029052734\n",
      "1.0 0.0 0.25\n",
      "0.0006196498870849609\n",
      "1.0 0.0 0.25\n",
      "0.0007860660552978516\n",
      "1.0 0.0 0.25\n",
      "0.0009541511535644531\n",
      "1.0 0.0 0.25\n",
      "0.0005936622619628906\n",
      "1.0 0.0 0.25\n",
      "0.00063323974609375\n",
      "1.0 0.0 0.25\n",
      "0.0005793571472167969\n",
      "1.0 0.0 0.25\n",
      "0.0006735324859619141\n",
      "1.0 0.0 0.25\n",
      "0.0006277561187744141\n",
      "1.0 0.0 0.25\n",
      "0.0007169246673583984\n",
      "1.0 0.0 0.25\n",
      "0.0007035732269287109\n",
      "1.0 0.0 0.25\n",
      "0.0007371902465820312\n",
      "1.0 0.0 0.25\n"
     ]
    }
   ],
   "source": [
    "batch = 4000\n",
    "parallel_insert = jax.jit(partial(HashTable.parallel_insert, hash_func))\n",
    "for i in range(18):\n",
    "    sample = jax.vmap(puzzle.get_initial_state)(key=jax.random.split(jax.random.PRNGKey(i + 256),count))\n",
    "    idx, table_idx, old_found = jax.vmap(lookup, in_axes=(None, 0))(table, sample)\n",
    "    batched_sample, filled = HashTable.make_batched(puzzle.State, sample, batch)\n",
    "    start = time.time()\n",
    "    table, inserted, _, _ = parallel_insert(table, batched_sample, filled)\n",
    "    print(time.time()-start)\n",
    "    idx, table_idx, found = jax.vmap(lookup, in_axes=(None, 0))(table, sample)\n",
    "    print(jnp.mean(found), jnp.mean(old_found), jnp.mean(inserted))"
   ]
  },
  {
   "cell_type": "code",
   "execution_count": 5,
   "metadata": {},
   "outputs": [
    {
     "data": {
      "text/plain": [
       "Array(4, dtype=uint8)"
      ]
     },
     "execution_count": 5,
     "metadata": {},
     "output_type": "execute_result"
    }
   ],
   "source": [
    "jnp.max(table.table_idx)"
   ]
  },
  {
   "cell_type": "code",
   "execution_count": 6,
   "metadata": {},
   "outputs": [
    {
     "name": "stdout",
     "output_type": "stream",
     "text": [
      "0.20178890228271484\n"
     ]
    }
   ],
   "source": [
    "count = int(1e6)\n",
    "puzzle = SlidePuzzle(4)\n",
    "hash_func = hash_func_builder(puzzle.State)\n",
    "sample = jax.vmap(puzzle.get_initial_state)(key=jax.random.split(jax.random.PRNGKey(2),count))\n",
    "new_sample = jax.vmap(puzzle.get_initial_state)(key=jax.random.split(jax.random.PRNGKey(1),count))\n",
    "table = HashTable.build(puzzle.State, 1, int(1e7))\n",
    "\n",
    "lookup = jax.jit(partial(HashTable.lookup, hash_func))\n",
    "start = time.time()\n",
    "idx, table_idx, found = jax.vmap(lookup, in_axes=(None, 0))(table, sample)\n",
    "print(time.time()-start)"
   ]
  },
  {
   "cell_type": "code",
   "execution_count": 7,
   "metadata": {},
   "outputs": [
    {
     "data": {
      "application/vnd.jupyter.widget-view+json": {
       "model_id": "fb7e1524e4564ab8beb1e6acbbc91b05",
       "version_major": 2,
       "version_minor": 0
      },
      "text/plain": [
       "  0%|          | 0/10 [00:00<?, ?it/s]"
      ]
     },
     "metadata": {},
     "output_type": "display_data"
    },
    {
     "name": "stdout",
     "output_type": "stream",
     "text": [
      "1.0 0.0 1.0\n"
     ]
    },
    {
     "data": {
      "application/vnd.jupyter.widget-view+json": {
       "model_id": "69822ec8d4854529bad514b5e8ee0845",
       "version_major": 2,
       "version_minor": 0
      },
      "text/plain": [
       "  0%|          | 0/10 [00:00<?, ?it/s]"
      ]
     },
     "metadata": {},
     "output_type": "display_data"
    },
    {
     "name": "stdout",
     "output_type": "stream",
     "text": [
      "1.0 0.0 1.0\n"
     ]
    },
    {
     "data": {
      "application/vnd.jupyter.widget-view+json": {
       "model_id": "4230417177f1485692e4a210d641140b",
       "version_major": 2,
       "version_minor": 0
      },
      "text/plain": [
       "  0%|          | 0/10 [00:00<?, ?it/s]"
      ]
     },
     "metadata": {},
     "output_type": "display_data"
    },
    {
     "name": "stdout",
     "output_type": "stream",
     "text": [
      "1.0 0.0 1.0\n"
     ]
    },
    {
     "data": {
      "application/vnd.jupyter.widget-view+json": {
       "model_id": "2474a4104e7c4e8bbf461e7d261c2081",
       "version_major": 2,
       "version_minor": 0
      },
      "text/plain": [
       "  0%|          | 0/10 [00:00<?, ?it/s]"
      ]
     },
     "metadata": {},
     "output_type": "display_data"
    },
    {
     "name": "stdout",
     "output_type": "stream",
     "text": [
      "1.0 1e-06 0.999999\n"
     ]
    },
    {
     "data": {
      "application/vnd.jupyter.widget-view+json": {
       "model_id": "50716ada1ea141f1973fd532651076ca",
       "version_major": 2,
       "version_minor": 0
      },
      "text/plain": [
       "  0%|          | 0/10 [00:00<?, ?it/s]"
      ]
     },
     "metadata": {},
     "output_type": "display_data"
    },
    {
     "name": "stdout",
     "output_type": "stream",
     "text": [
      "1.0 0.0 1.0\n"
     ]
    },
    {
     "data": {
      "application/vnd.jupyter.widget-view+json": {
       "model_id": "bc54188499f74b75b82a1e04452eb1c3",
       "version_major": 2,
       "version_minor": 0
      },
      "text/plain": [
       "  0%|          | 0/10 [00:00<?, ?it/s]"
      ]
     },
     "metadata": {},
     "output_type": "display_data"
    },
    {
     "name": "stdout",
     "output_type": "stream",
     "text": [
      "1.0 2e-06 0.999998\n"
     ]
    },
    {
     "data": {
      "application/vnd.jupyter.widget-view+json": {
       "model_id": "d9a2c735a36f4e9d921d1fc4a67764e5",
       "version_major": 2,
       "version_minor": 0
      },
      "text/plain": [
       "  0%|          | 0/10 [00:00<?, ?it/s]"
      ]
     },
     "metadata": {},
     "output_type": "display_data"
    },
    {
     "name": "stdout",
     "output_type": "stream",
     "text": [
      "1.0 0.0 1.0\n"
     ]
    },
    {
     "data": {
      "application/vnd.jupyter.widget-view+json": {
       "model_id": "0ecde012efb2460e82eca6c5be8ce3a5",
       "version_major": 2,
       "version_minor": 0
      },
      "text/plain": [
       "  0%|          | 0/10 [00:00<?, ?it/s]"
      ]
     },
     "metadata": {},
     "output_type": "display_data"
    },
    {
     "name": "stdout",
     "output_type": "stream",
     "text": [
      "1.0 1e-06 0.999998\n"
     ]
    },
    {
     "data": {
      "application/vnd.jupyter.widget-view+json": {
       "model_id": "67c3259928d84ad68b19c7072de0be14",
       "version_major": 2,
       "version_minor": 0
      },
      "text/plain": [
       "  0%|          | 0/10 [00:00<?, ?it/s]"
      ]
     },
     "metadata": {},
     "output_type": "display_data"
    },
    {
     "name": "stdout",
     "output_type": "stream",
     "text": [
      "1.0 1e-06 0.999999\n"
     ]
    },
    {
     "data": {
      "application/vnd.jupyter.widget-view+json": {
       "model_id": "ee8d5208d90d4279b7a97d79d8bf4825",
       "version_major": 2,
       "version_minor": 0
      },
      "text/plain": [
       "  0%|          | 0/10 [00:00<?, ?it/s]"
      ]
     },
     "metadata": {},
     "output_type": "display_data"
    },
    {
     "name": "stdout",
     "output_type": "stream",
     "text": [
      "1.0 0.0 1.0\n"
     ]
    },
    {
     "data": {
      "application/vnd.jupyter.widget-view+json": {
       "model_id": "cc033d8cc2714f789c6b5606918ece8d",
       "version_major": 2,
       "version_minor": 0
      },
      "text/plain": [
       "  0%|          | 0/10 [00:00<?, ?it/s]"
      ]
     },
     "metadata": {},
     "output_type": "display_data"
    },
    {
     "name": "stdout",
     "output_type": "stream",
     "text": [
      "1.0 0.0 0.999999\n"
     ]
    },
    {
     "data": {
      "application/vnd.jupyter.widget-view+json": {
       "model_id": "811c5078d1fd4f2995f545521081c0de",
       "version_major": 2,
       "version_minor": 0
      },
      "text/plain": [
       "  0%|          | 0/10 [00:00<?, ?it/s]"
      ]
     },
     "metadata": {},
     "output_type": "display_data"
    },
    {
     "name": "stdout",
     "output_type": "stream",
     "text": [
      "1.0 1e-06 0.999999\n"
     ]
    },
    {
     "data": {
      "application/vnd.jupyter.widget-view+json": {
       "model_id": "eb50ff06b0374dc9855a24b869f12c38",
       "version_major": 2,
       "version_minor": 0
      },
      "text/plain": [
       "  0%|          | 0/10 [00:00<?, ?it/s]"
      ]
     },
     "metadata": {},
     "output_type": "display_data"
    },
    {
     "name": "stdout",
     "output_type": "stream",
     "text": [
      "1.0 2e-06 0.999998\n"
     ]
    },
    {
     "data": {
      "application/vnd.jupyter.widget-view+json": {
       "model_id": "1188855957e046f19e5619ab0990395b",
       "version_major": 2,
       "version_minor": 0
      },
      "text/plain": [
       "  0%|          | 0/10 [00:00<?, ?it/s]"
      ]
     },
     "metadata": {},
     "output_type": "display_data"
    },
    {
     "name": "stdout",
     "output_type": "stream",
     "text": [
      "1.0 0.0 1.0\n"
     ]
    },
    {
     "data": {
      "application/vnd.jupyter.widget-view+json": {
       "model_id": "67f328c62d1e451d94617eb729619557",
       "version_major": 2,
       "version_minor": 0
      },
      "text/plain": [
       "  0%|          | 0/10 [00:00<?, ?it/s]"
      ]
     },
     "metadata": {},
     "output_type": "display_data"
    },
    {
     "name": "stdout",
     "output_type": "stream",
     "text": [
      "1.0 0.0 1.0\n"
     ]
    },
    {
     "data": {
      "application/vnd.jupyter.widget-view+json": {
       "model_id": "a8da98e9da934ddcb50d89fee6a7d9b5",
       "version_major": 2,
       "version_minor": 0
      },
      "text/plain": [
       "  0%|          | 0/10 [00:00<?, ?it/s]"
      ]
     },
     "metadata": {},
     "output_type": "display_data"
    },
    {
     "name": "stdout",
     "output_type": "stream",
     "text": [
      "1.0 0.0 1.0\n"
     ]
    },
    {
     "data": {
      "application/vnd.jupyter.widget-view+json": {
       "model_id": "903e513313a94567bab88da454f79f20",
       "version_major": 2,
       "version_minor": 0
      },
      "text/plain": [
       "  0%|          | 0/10 [00:00<?, ?it/s]"
      ]
     },
     "metadata": {},
     "output_type": "display_data"
    },
    {
     "name": "stdout",
     "output_type": "stream",
     "text": [
      "1.0 2e-06 0.999998\n"
     ]
    },
    {
     "data": {
      "application/vnd.jupyter.widget-view+json": {
       "model_id": "5daf366d4d434c37b38ae554cd9e5c88",
       "version_major": 2,
       "version_minor": 0
      },
      "text/plain": [
       "  0%|          | 0/10 [00:00<?, ?it/s]"
      ]
     },
     "metadata": {},
     "output_type": "display_data"
    },
    {
     "name": "stdout",
     "output_type": "stream",
     "text": [
      "1.0 0.0 1.0\n"
     ]
    }
   ],
   "source": [
    "batch = 100000\n",
    "parallel_insert = jax.jit(partial(HashTable.parallel_insert, hash_func))\n",
    "for i in range(18):\n",
    "    inserteds = []\n",
    "    sample = jax.vmap(puzzle.get_initial_state)(key=jax.random.split(jax.random.PRNGKey(i + 256),count))\n",
    "    idx, table_idx, found = jax.vmap(lookup, in_axes=(None, 0))(table, sample)\n",
    "    same_ratio = jnp.mean(found)\n",
    "    for j in trange(0, count, batch):\n",
    "        table, inserted, _, _ = parallel_insert(table, sample[j:j+batch], jnp.ones(batch, dtype=jnp.bool_))\n",
    "        inserteds.append(inserted)\n",
    "    inserteds = jnp.concatenate(inserteds)\n",
    "    idx, table_idx, found = jax.vmap(lookup, in_axes=(None, 0))(table, sample)\n",
    "    print(jnp.mean(found), same_ratio, jnp.mean(inserteds))"
   ]
  },
  {
   "cell_type": "code",
   "execution_count": 8,
   "metadata": {},
   "outputs": [
    {
     "data": {
      "text/plain": [
       "Array(10, dtype=uint8)"
      ]
     },
     "execution_count": 8,
     "metadata": {},
     "output_type": "execute_result"
    }
   ],
   "source": [
    "jnp.max(table.table_idx)"
   ]
  },
  {
   "cell_type": "code",
   "execution_count": 9,
   "metadata": {},
   "outputs": [
    {
     "name": "stdout",
     "output_type": "stream",
     "text": [
      "1e-06\n"
     ]
    }
   ],
   "source": [
    "another_sample = jax.vmap(puzzle.get_initial_state)(key=jax.random.split(jax.random.PRNGKey(123),count))\n",
    "idx, table_idx, found = jax.vmap(lookup, in_axes=(None, 0))(table, another_sample)\n",
    "print(jnp.sum(found) / count)"
   ]
  },
  {
   "cell_type": "code",
   "execution_count": 10,
   "metadata": {},
   "outputs": [
    {
     "data": {
      "application/vnd.jupyter.widget-view+json": {
       "model_id": "85d3387519cd4da58c925ccb43f9df31",
       "version_major": 2,
       "version_minor": 0
      },
      "text/plain": [
       "  0%|          | 0/10 [00:00<?, ?it/s]"
      ]
     },
     "metadata": {},
     "output_type": "display_data"
    },
    {
     "name": "stdout",
     "output_type": "stream",
     "text": [
      "0.999999\n",
      "insert time: 0.08522224426269531\n",
      "check time: 0.011853456497192383\n",
      "1.0\n",
      "check time: 0.010859251022338867\n",
      "1e-06\n",
      "check time: 0.02329277992248535\n",
      "0.999999\n"
     ]
    }
   ],
   "source": [
    "start = time.time()\n",
    "inserteds = []\n",
    "for i in trange(count // batch):\n",
    "    table, inserted, _, _ = parallel_insert(table, another_sample[i*batch:(i+1)*batch], jnp.ones(batch, dtype=jnp.bool_))\n",
    "    inserteds.append(inserted)\n",
    "print(jnp.sum(jnp.concatenate(inserteds)) / count)\n",
    "print(\"insert time:\", time.time()-start)\n",
    "start = time.time()\n",
    "idx, table_idx, found = jax.vmap(lookup, in_axes=(None, 0))(table, sample)\n",
    "print(\"check time:\", time.time()-start)\n",
    "print(jnp.sum(found) / count)\n",
    "start = time.time()\n",
    "idx, table_idx, found = jax.vmap(lookup, in_axes=(None, 0))(table, new_sample)\n",
    "print(\"check time:\", time.time()-start)\n",
    "print(jnp.sum(found) / count)\n",
    "idx, table_idx, found = jax.vmap(lookup, in_axes=(None, 0))(table, another_sample)\n",
    "print(\"check time:\", time.time()-start)\n",
    "print(jnp.sum(found) / count)"
   ]
  }
 ],
 "metadata": {
  "kernelspec": {
   "display_name": "py311",
   "language": "python",
   "name": "python3"
  },
  "language_info": {
   "codemirror_mode": {
    "name": "ipython",
    "version": 3
   },
   "file_extension": ".py",
   "mimetype": "text/x-python",
   "name": "python",
   "nbconvert_exporter": "python",
   "pygments_lexer": "ipython3",
   "version": "3.11.9"
  }
 },
 "nbformat": 4,
 "nbformat_minor": 2
}
