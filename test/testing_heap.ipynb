{
 "cells": [
  {
   "cell_type": "code",
   "execution_count": 1,
   "metadata": {},
   "outputs": [
    {
     "name": "stdout",
     "output_type": "stream",
     "text": [
      "env: CUDA_VISIBLE_DEVICES=0\n"
     ]
    }
   ],
   "source": [
    "import sys\n",
    "import os\n",
    "\n",
    "# 프로젝트 루트 디렉토리 경로를 추가\n",
    "project_root = os.path.abspath(os.path.join(os.getcwd(), '..'))\n",
    "if project_root not in sys.path:\n",
    "    sys.path.append(project_root)\n",
    "%env CUDA_VISIBLE_DEVICES=0"
   ]
  },
  {
   "cell_type": "code",
   "execution_count": 2,
   "metadata": {},
   "outputs": [
    {
     "name": "stderr",
     "output_type": "stream",
     "text": [
      "/tmp/ipykernel_808417/3628738232.py:7: TqdmWarning: IProgress not found. Please update jupyter and ipywidgets. See https://ipywidgets.readthedocs.io/en/stable/user_install.html\n",
      "  from tqdm.autonotebook import trange\n"
     ]
    }
   ],
   "source": [
    "import jax\n",
    "import jax.numpy as jnp\n",
    "import time\n",
    "#disable jax JIT\n",
    "#jax.config.update(\"jax_disable_jit\", True)\n",
    "\n",
    "from tqdm.autonotebook import trange\n",
    "from functools import partial\n",
    "from JAxtar.bgpq import HashTableHeapValue, BGPQ"
   ]
  },
  {
   "cell_type": "code",
   "execution_count": 3,
   "metadata": {},
   "outputs": [],
   "source": [
    "max_size = 10\n",
    "group_size = 2"
   ]
  },
  {
   "cell_type": "code",
   "execution_count": 4,
   "metadata": {},
   "outputs": [
    {
     "name": "stderr",
     "output_type": "stream",
     "text": [
      "2024-07-29 09:31:12.841104: W external/xla/xla/service/gpu/nvptx_compiler.cc:765] The NVIDIA driver's CUDA version is 12.2 which is older than the ptxas CUDA version (12.5.82). Because the driver is older than the ptxas version, XLA is disabling parallel compilation, which may slow down compilation. You should update your NVIDIA driver or use the NVIDIA-provided CUDA forward compatibility packages.\n"
     ]
    }
   ],
   "source": [
    "heap = BGPQ.make_heap(max_size, group_size, HashTableHeapValue)\n",
    "insert = jax.jit(heap.insert)\n",
    "delete_mins = jax.jit(heap.delete_mins)"
   ]
  },
  {
   "cell_type": "code",
   "execution_count": 5,
   "metadata": {},
   "outputs": [],
   "source": [
    "heap_key = jax.random.uniform(jax.random.PRNGKey(0), shape=(3,), minval=0, maxval=10)\n",
    "value = jax.vmap(HashTableHeapValue.default)(jnp.arange(3))\n",
    "make_batch = BGPQ.make_batched(heap_key, value, group_size)"
   ]
  },
  {
   "cell_type": "code",
   "execution_count": 6,
   "metadata": {},
   "outputs": [
    {
     "name": "stdout",
     "output_type": "stream",
     "text": [
      "Traced<ShapedArray(int32[5])>with<DynamicJaxprTrace(level=2/0)>\n",
      "[4.1845703       inf]\n",
      "[inf inf]\n",
      "[inf inf]\n",
      "[inf inf]\n",
      "[inf inf]\n",
      "[inf inf]\n",
      "[inf inf]\n",
      "[inf inf]\n",
      "[inf inf]\n",
      "[inf inf]\n",
      "[0]\n",
      "False\n",
      "[1.1815023 4.1845703]\n",
      "[inf inf]\n",
      "[inf inf]\n",
      "[inf inf]\n",
      "[inf inf]\n",
      "[inf inf]\n",
      "[inf inf]\n",
      "[inf inf]\n",
      "[inf inf]\n",
      "[inf inf]\n",
      "[0]\n",
      "False\n",
      "[1.1815023 4.1845703]\n",
      "[inf inf]\n",
      "[inf inf]\n",
      "[inf inf]\n",
      "[inf inf]\n",
      "[inf inf]\n",
      "[inf inf]\n",
      "[inf inf]\n",
      "[inf inf]\n",
      "[inf inf]\n",
      "[0]\n",
      "False\n",
      "[1.1815023 4.1845703]\n",
      "[4.2402163 8.653928 ]\n",
      "[inf inf]\n",
      "[inf inf]\n",
      "[inf inf]\n",
      "[inf inf]\n",
      "[inf inf]\n",
      "[inf inf]\n",
      "[inf inf]\n",
      "[inf inf]\n",
      "[1]\n",
      "True\n",
      "[1.1815023 1.6215026]\n",
      "[4.2402163 8.653928 ]\n",
      "[inf inf]\n",
      "[inf inf]\n",
      "[inf inf]\n",
      "[inf inf]\n",
      "[inf inf]\n",
      "[inf inf]\n",
      "[inf inf]\n",
      "[inf inf]\n",
      "[1]\n",
      "False\n",
      "[1.1815023 1.6215026]\n",
      "[4.1845703 4.2402163]\n",
      "[6.3434052 8.653928 ]\n",
      "[inf inf]\n",
      "[inf inf]\n",
      "[inf inf]\n",
      "[inf inf]\n",
      "[inf inf]\n",
      "[inf inf]\n",
      "[inf inf]\n",
      "[2]\n",
      "True\n",
      "[1.1815023 1.6215026]\n",
      "[4.1845703 4.2402163]\n",
      "[6.3434052 8.653928 ]\n",
      "[inf inf]\n",
      "[inf inf]\n",
      "[inf inf]\n",
      "[inf inf]\n",
      "[inf inf]\n",
      "[inf inf]\n",
      "[inf inf]\n",
      "[2]\n",
      "False\n",
      "[1.1815023 1.6215026]\n",
      "[4.1845703 4.2402163]\n",
      "[6.3434052 8.653928 ]\n",
      "[5.1601324 8.441069 ]\n",
      "[inf inf]\n",
      "[inf inf]\n",
      "[inf inf]\n",
      "[inf inf]\n",
      "[inf inf]\n",
      "[inf inf]\n",
      "[3]\n",
      "True\n",
      "[1.1815023 1.6215026]\n",
      "[4.1845703 4.2402163]\n",
      "[6.3434052 8.653928 ]\n",
      "[5.1601324 8.441069 ]\n",
      "[inf inf]\n",
      "[inf inf]\n",
      "[inf inf]\n",
      "[inf inf]\n",
      "[inf inf]\n",
      "[inf inf]\n",
      "[3]\n",
      "False\n",
      "[1.1815023 1.6215026]\n",
      "[4.1845703 4.2402163]\n",
      "[6.3434052 8.653928 ]\n",
      "[5.1601324 6.5711427]\n",
      "[8.441069 9.119096]\n",
      "[inf inf]\n",
      "[inf inf]\n",
      "[inf inf]\n",
      "[inf inf]\n",
      "[inf inf]\n",
      "[4]\n",
      "True\n"
     ]
    }
   ],
   "source": [
    "for i in range(10):\n",
    "    heap_key = jax.random.uniform(jax.random.PRNGKey(i), shape=(1,), minval=0, maxval=10)\n",
    "    value = jax.vmap(HashTableHeapValue.default)(jnp.arange(1))\n",
    "    block_key, block_val = BGPQ.make_batched(heap_key, value, group_size)\n",
    "    heap, buffer_oveflow = insert(heap, block_key[0], block_val[0])\n",
    "    for i in range(10):\n",
    "        print(heap.key_store[i])\n",
    "    print(heap.size)\n",
    "    print(buffer_oveflow)"
   ]
  },
  {
   "cell_type": "code",
   "execution_count": 7,
   "metadata": {},
   "outputs": [
    {
     "name": "stdout",
     "output_type": "stream",
     "text": [
      "----------------\n",
      "[1.1815023 1.6215026]\n",
      "----------------\n",
      "[5.1601324 6.5711427]\n",
      "[4.1845703 4.2402163]\n",
      "[4.1845703 4.2402163]\n",
      "[inf inf]\n",
      "[5.1601324 6.5711427]\n",
      "[inf inf]\n",
      "[inf inf]\n",
      "[inf inf]\n",
      "[inf inf]\n",
      "[inf inf]\n",
      "[3]\n",
      "----------------\n",
      "[5.1601324 6.5711427]\n",
      "----------------\n",
      "[5.1601324 6.5711427]\n",
      "[5.1601324 6.5711427]\n",
      "[inf inf]\n",
      "[inf inf]\n",
      "[5.1601324 6.5711427]\n",
      "[inf inf]\n",
      "[inf inf]\n",
      "[inf inf]\n",
      "[inf inf]\n",
      "[inf inf]\n",
      "[2]\n",
      "----------------\n",
      "[5.1601324 6.5711427]\n",
      "----------------\n",
      "[5.1601324 6.5711427]\n",
      "[inf inf]\n",
      "[6.5711427 6.5711427]\n",
      "[6.5711427 6.5711427]\n",
      "[6.5711427 6.5711427]\n",
      "[inf inf]\n",
      "[inf inf]\n",
      "[inf inf]\n",
      "[inf inf]\n",
      "[inf inf]\n",
      "[1]\n",
      "----------------\n",
      "[5.1601324 6.5711427]\n",
      "----------------\n",
      "[inf inf]\n",
      "[inf inf]\n",
      "[6.5711427 6.5711427]\n",
      "[6.5711427 6.5711427]\n",
      "[6.5711427 6.5711427]\n",
      "[inf inf]\n",
      "[inf inf]\n",
      "[inf inf]\n",
      "[inf inf]\n",
      "[inf inf]\n",
      "[0]\n",
      "----------------\n",
      "[inf inf]\n",
      "----------------\n",
      "[inf inf]\n",
      "[inf inf]\n",
      "[6.5711427 6.5711427]\n",
      "[6.5711427 6.5711427]\n",
      "[6.5711427 6.5711427]\n",
      "[inf inf]\n",
      "[inf inf]\n",
      "[inf inf]\n",
      "[inf inf]\n",
      "[inf inf]\n",
      "[4294967295]\n"
     ]
    }
   ],
   "source": [
    "size = int(heap.size[0]+1)\n",
    "for i in range(size):\n",
    "    heap, min_key, min_val = delete_mins(heap)\n",
    "\n",
    "    print(\"----------------\")\n",
    "    print(min_key)\n",
    "    print(\"----------------\")\n",
    "    for i in range(10):\n",
    "        print(heap.key_store[i])\n",
    "    print(heap.size)"
   ]
  }
 ],
 "metadata": {
  "kernelspec": {
   "display_name": "py311",
   "language": "python",
   "name": "python3"
  },
  "language_info": {
   "codemirror_mode": {
    "name": "ipython",
    "version": 3
   },
   "file_extension": ".py",
   "mimetype": "text/x-python",
   "name": "python",
   "nbconvert_exporter": "python",
   "pygments_lexer": "ipython3",
   "version": "3.11.9"
  }
 },
 "nbformat": 4,
 "nbformat_minor": 2
}
