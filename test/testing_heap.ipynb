{
 "cells": [
  {
   "cell_type": "code",
   "execution_count": 1,
   "metadata": {},
   "outputs": [
    {
     "name": "stdout",
     "output_type": "stream",
     "text": [
      "env: CUDA_VISIBLE_DEVICES=0\n"
     ]
    }
   ],
   "source": [
    "import sys\n",
    "import os\n",
    "\n",
    "# 프로젝트 루트 디렉토리 경로를 추가\n",
    "project_root = os.path.abspath(os.path.join(os.getcwd(), '..'))\n",
    "if project_root not in sys.path:\n",
    "    sys.path.append(project_root)\n",
    "%env CUDA_VISIBLE_DEVICES=0"
   ]
  },
  {
   "cell_type": "code",
   "execution_count": 2,
   "metadata": {},
   "outputs": [
    {
     "name": "stderr",
     "output_type": "stream",
     "text": [
      "/tmp/ipykernel_25202/3628738232.py:7: TqdmWarning: IProgress not found. Please update jupyter and ipywidgets. See https://ipywidgets.readthedocs.io/en/stable/user_install.html\n",
      "  from tqdm.autonotebook import trange\n"
     ]
    }
   ],
   "source": [
    "import jax\n",
    "import jax.numpy as jnp\n",
    "import time\n",
    "#disable jax JIT\n",
    "#jax.config.update(\"jax_disable_jit\", True)\n",
    "\n",
    "from tqdm.autonotebook import trange\n",
    "from functools import partial\n",
    "from JAxtar.bgpq import HashTableHeapValue, BGPQ"
   ]
  },
  {
   "cell_type": "code",
   "execution_count": 3,
   "metadata": {},
   "outputs": [],
   "source": [
    "heap = BGPQ.make_heap(100, 10, HashTableHeapValue)\n",
    "insert = jax.jit(heap.insert)"
   ]
  },
  {
   "cell_type": "code",
   "execution_count": 4,
   "metadata": {},
   "outputs": [],
   "source": [
    "heap_key = jax.random.uniform(jax.random.PRNGKey(0), shape=(3,), minval=0, maxval=10)\n",
    "value = jax.vmap(HashTableHeapValue.default)(jnp.arange(3))\n",
    "make_batch = BGPQ.make_batched(heap_key, value, 10)"
   ]
  },
  {
   "cell_type": "code",
   "execution_count": 5,
   "metadata": {},
   "outputs": [
    {
     "name": "stdout",
     "output_type": "stream",
     "text": [
      "[3.1468165 6.3302994 9.653214        inf       inf       inf       inf\n",
      "       inf       inf       inf]\n",
      "[inf inf inf inf inf inf inf inf inf]\n",
      "False\n",
      "[2.586038  3.1468165 5.685525  6.3302994 8.893297  9.653214        inf\n",
      "       inf       inf       inf]\n",
      "[inf inf inf inf inf inf inf inf inf]\n",
      "False\n",
      "[2.586038  3.1468165 5.64795   5.685525  6.3302994 6.6586185 8.594385\n",
      " 8.893297  9.653214        inf]\n",
      "[inf inf inf inf inf inf inf inf inf]\n",
      "False\n",
      "[0.21006942 2.3853767  2.586038   3.1468165  5.64795    5.685525\n",
      " 6.0624323  6.3302994  6.6586185  8.594385  ]\n",
      "[8.893297 9.653214      inf      inf      inf      inf      inf      inf\n",
      "      inf]\n",
      "False\n",
      "[0.21006942 2.3853767  2.586038   3.1468165  5.64795    5.685525\n",
      " 6.0624323  6.0761747  6.3302994  6.6586185 ]\n",
      "[7.2005796 8.594385  8.893297  9.653214  9.861052        inf       inf\n",
      "       inf       inf]\n",
      "False\n",
      "[0.21006942 2.3853767  2.586038   2.630899   3.1468165  4.1553726\n",
      " 5.64795    5.685525   6.0624323  6.0761747 ]\n",
      "[6.3302994 6.6586185 7.2005796 8.368936  8.594385  8.893297  9.653214\n",
      " 9.861052        inf]\n",
      "False\n",
      "[0.21006942 1.2787735  1.6915429  2.3853767  2.586038   2.630899\n",
      " 3.1468165  4.1553726  5.64795    5.685525  ]\n",
      "[9.861052      inf      inf      inf      inf      inf      inf      inf\n",
      "      inf]\n",
      "True\n",
      "[0.21006942 1.2787735  1.6915429  2.2498453  2.3853767  2.586038\n",
      " 2.630899   3.1468165  4.1553726  4.2616034 ]\n",
      "[4.5360937 5.64795   5.685525  9.861052        inf       inf       inf\n",
      "       inf       inf]\n",
      "False\n",
      "[0.21006942 1.2787735  1.6915429  2.2498453  2.3853767  2.586038\n",
      " 2.630899   3.1468165  4.1553726  4.2616034 ]\n",
      "[4.479495  4.5360937 5.5303135 5.64795   5.685525  8.492059  9.861052\n",
      "       inf       inf]\n",
      "False\n",
      "[0.21006942 1.2787735  1.6915429  2.2498453  2.3853767  2.586038\n",
      " 2.630899   3.1468165  3.2249594  4.1553726 ]\n",
      "[inf inf inf inf inf inf inf inf inf]\n",
      "True\n"
     ]
    }
   ],
   "source": [
    "for i in range(10):\n",
    "    heap_key = jax.random.uniform(jax.random.PRNGKey(i), shape=(3,), minval=0, maxval=10)\n",
    "    value = jax.vmap(HashTableHeapValue.default)(jnp.arange(3))\n",
    "    block_key, block_val = BGPQ.make_batched(heap_key, value, 10)\n",
    "    heap, buffer_oveflow = insert(heap, block_key[0], block_val[0])\n",
    "    print(heap.key_store[0])\n",
    "    print(heap.key_buffer)\n",
    "    print(buffer_oveflow)"
   ]
  }
 ],
 "metadata": {
  "kernelspec": {
   "display_name": "py311",
   "language": "python",
   "name": "python3"
  },
  "language_info": {
   "codemirror_mode": {
    "name": "ipython",
    "version": 3
   },
   "file_extension": ".py",
   "mimetype": "text/x-python",
   "name": "python",
   "nbconvert_exporter": "python",
   "pygments_lexer": "ipython3",
   "version": "3.11.9"
  }
 },
 "nbformat": 4,
 "nbformat_minor": 2
}
