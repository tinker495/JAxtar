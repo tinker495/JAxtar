{
 "cells": [
  {
   "cell_type": "code",
   "execution_count": 1,
   "metadata": {},
   "outputs": [
    {
     "name": "stdout",
     "output_type": "stream",
     "text": [
      "env: CUDA_VISIBLE_DEVICES=0\n"
     ]
    }
   ],
   "source": [
    "import sys\n",
    "import os\n",
    "\n",
    "# 프로젝트 루트 디렉토리 경로를 추가\n",
    "project_root = os.path.abspath(os.path.join(os.getcwd(), '..'))\n",
    "if project_root not in sys.path:\n",
    "    sys.path.append(project_root)\n",
    "%env CUDA_VISIBLE_DEVICES=0"
   ]
  },
  {
   "cell_type": "code",
   "execution_count": 2,
   "metadata": {},
   "outputs": [
    {
     "name": "stderr",
     "output_type": "stream",
     "text": [
      "/tmp/ipykernel_9309/3397891388.py:8: TqdmExperimentalWarning: Using `tqdm.autonotebook.tqdm` in notebook mode. Use `tqdm.tqdm` instead to force console mode (e.g. in jupyter console)\n",
      "  from tqdm.autonotebook import trange, tqdm\n"
     ]
    }
   ],
   "source": [
    "import jax\n",
    "import jax.numpy as jnp\n",
    "import chex\n",
    "import time\n",
    "#disable jax JIT\n",
    "#jax.config.update(\"jax_disable_jit\", True)\n",
    "\n",
    "from tqdm.autonotebook import trange, tqdm\n",
    "from functools import partial\n",
    "from JAxtar.bgpq import HashTableIdx_HeapValue, BGPQ"
   ]
  },
  {
   "cell_type": "code",
   "execution_count": 3,
   "metadata": {},
   "outputs": [],
   "source": [
    "max_size = int(1e7)\n",
    "batch_size = 1024\n",
    "filled_sample = 1024"
   ]
  },
  {
   "cell_type": "code",
   "execution_count": 4,
   "metadata": {},
   "outputs": [
    {
     "data": {
      "application/vnd.jupyter.widget-view+json": {
       "model_id": "a1387d8c43e647e9863bb3e860b9951c",
       "version_major": 2,
       "version_minor": 0
      },
      "text/plain": [
       "  0%|          | 0/10000000 [00:00<?, ?it/s]"
      ]
     },
     "metadata": {},
     "output_type": "display_data"
    },
    {
     "data": {
      "application/vnd.jupyter.widget-view+json": {
       "model_id": "8e9f45b043534585ba11a7dabc138c5e",
       "version_major": 2,
       "version_minor": 0
      },
      "text/plain": [
       "  0%|          | 0/10000000 [00:00<?, ?it/s]"
      ]
     },
     "metadata": {},
     "output_type": "display_data"
    }
   ],
   "source": [
    "#cpu heap test\n",
    "import heapq as hq\n",
    "import numpy as np\n",
    "heap = []\n",
    "for i in trange(max_size):\n",
    "    hq.heappush(heap, np.random.rand())\n",
    "\n",
    "for i in trange(max_size):\n",
    "    out = hq.heappop(heap)"
   ]
  },
  {
   "cell_type": "code",
   "execution_count": 5,
   "metadata": {},
   "outputs": [
    {
     "name": "stdout",
     "output_type": "stream",
     "text": [
      "10000384\n"
     ]
    }
   ],
   "source": [
    "heap = BGPQ.build(int(1e7), batch_size, HashTableIdx_HeapValue)\n",
    "max_size = heap.max_size\n",
    "print(max_size)"
   ]
  },
  {
   "cell_type": "code",
   "execution_count": 6,
   "metadata": {},
   "outputs": [],
   "source": [
    "heap_key = jax.random.uniform(jax.random.PRNGKey(0), shape=(filled_sample,), minval=0, maxval=10)\n",
    "value = jax.vmap(HashTableIdx_HeapValue.default)(jnp.arange(filled_sample))\n",
    "make_batch = BGPQ.make_batched(heap_key, value, batch_size)"
   ]
  },
  {
   "cell_type": "code",
   "execution_count": 7,
   "metadata": {},
   "outputs": [
    {
     "data": {
      "application/vnd.jupyter.widget-view+json": {
       "model_id": "8981d3dc304c4d21b2508c291e7ff7a9",
       "version_major": 2,
       "version_minor": 0
      },
      "text/plain": [
       "  0%|          | 0/10000384 [00:00<?, ?it/s]"
      ]
     },
     "metadata": {},
     "output_type": "display_data"
    }
   ],
   "source": [
    "pbar = tqdm(total=int(max_size))\n",
    "heap_key = jax.random.uniform(jax.random.PRNGKey(0), shape=(max_size,), minval=0, maxval=10)\n",
    "value = jax.vmap(HashTableIdx_HeapValue.default)(jnp.arange(max_size))\n",
    "for i in range(0, max_size, filled_sample):\n",
    "    heap = BGPQ.insert(heap, heap_key[i:i+filled_sample], value[i:i+filled_sample])\n",
    "    pbar.update(filled_sample)\n",
    "pbar.close()"
   ]
  },
  {
   "cell_type": "code",
   "execution_count": 8,
   "metadata": {},
   "outputs": [
    {
     "data": {
      "application/vnd.jupyter.widget-view+json": {
       "model_id": "487a4ccc156042ac88ee2f25634f02dc",
       "version_major": 2,
       "version_minor": 0
      },
      "text/plain": [
       "  0%|          | 0/10000384 [00:00<?, ?it/s]"
      ]
     },
     "metadata": {},
     "output_type": "display_data"
    },
    {
     "name": "stdout",
     "output_type": "stream",
     "text": [
      "heap.size: 10000384\n"
     ]
    }
   ],
   "source": [
    "pbar = tqdm(total=int(heap.size))\n",
    "last_min = jnp.inf\n",
    "last_max = -jnp.inf\n",
    "print(f\"heap.size: {heap.size}\")\n",
    "while heap.size > 0:\n",
    "    heap, min_key, min_val = BGPQ.delete_mins(heap)\n",
    "    pbar.update(batch_size)\n",
    "    minimum = jnp.min(min_key)\n",
    "    maximum = jnp.max(min_key)\n",
    "    if minimum < last_max:\n",
    "        print(\"Error last_max\", last_max, \"minimum\", minimum)\n",
    "        print(\"Not sorted\")\n",
    "        break\n",
    "    last_min = minimum\n",
    "    last_max = maximum\n",
    "    pbar.set_description_str(f\"heap.size: {heap.size}, min_key: {minimum:.2f}, max_key: {maximum:.2f}\")\n",
    "pbar.close()"
   ]
  },
  {
   "cell_type": "code",
   "execution_count": 9,
   "metadata": {},
   "outputs": [
    {
     "name": "stdout",
     "output_type": "stream",
     "text": [
      "[inf inf inf ... inf inf inf]\n"
     ]
    }
   ],
   "source": [
    "print(heap.key_buffer)"
   ]
  }
 ],
 "metadata": {
  "kernelspec": {
   "display_name": "py311",
   "language": "python",
   "name": "python3"
  },
  "language_info": {
   "codemirror_mode": {
    "name": "ipython",
    "version": 3
   },
   "file_extension": ".py",
   "mimetype": "text/x-python",
   "name": "python",
   "nbconvert_exporter": "python",
   "pygments_lexer": "ipython3",
   "version": "3.11.9"
  }
 },
 "nbformat": 4,
 "nbformat_minor": 2
}
