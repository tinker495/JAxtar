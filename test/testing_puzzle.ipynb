{
 "cells": [
  {
   "cell_type": "code",
   "execution_count": 1,
   "metadata": {},
   "outputs": [
    {
     "name": "stdout",
     "output_type": "stream",
     "text": [
      "env: CUDA_VISIBLE_DEVICES=0\n"
     ]
    }
   ],
   "source": [
    "import sys\n",
    "import os\n",
    "\n",
    "# 프로젝트 루트 디렉토리 경로를 추가\n",
    "project_root = os.path.abspath(os.path.join(os.getcwd(), '..'))\n",
    "if project_root not in sys.path:\n",
    "    sys.path.append(project_root)\n",
    "%env CUDA_VISIBLE_DEVICES=0"
   ]
  },
  {
   "cell_type": "code",
   "execution_count": 2,
   "metadata": {},
   "outputs": [],
   "source": [
    "import jax\n",
    "import jax.numpy as jnp\n",
    "\n",
    "from JAxtar.hash import hash_func_builder\n",
    "from puzzle.slidepuzzle import SlidePuzzle\n",
    "from heuristic.slidepuzzle_heuristic import SlidePuzzleHeuristic"
   ]
  },
  {
   "cell_type": "code",
   "execution_count": 3,
   "metadata": {},
   "outputs": [],
   "source": [
    "puzzle = SlidePuzzle(4)\n",
    "heuristic = SlidePuzzleHeuristic(puzzle)"
   ]
  },
  {
   "cell_type": "code",
   "execution_count": 4,
   "metadata": {},
   "outputs": [
    {
     "name": "stdout",
     "output_type": "stream",
     "text": [
      "┏━━━┳━━━┳━━━┳━━━┓\n",
      "┃   ┃   ┃   ┃   ┃\n",
      "┣━━━╋━━━╋━━━╋━━━┫\n",
      "┃   ┃   ┃   ┃   ┃\n",
      "┣━━━╋━━━╋━━━╋━━━┫\n",
      "┃   ┃   ┃   ┃   ┃\n",
      "┣━━━╋━━━╋━━━╋━━━┫\n",
      "┃   ┃   ┃   ┃   ┃\n",
      "┗━━━┻━━━┻━━━┻━━━┛\n",
      "┏━━━┳━━━┳━━━┳━━━┓\n",
      "┃ 4 ┃ 2 ┃ C ┃ B ┃\n",
      "┣━━━╋━━━╋━━━╋━━━┫\n",
      "┃ F ┃   ┃ 8 ┃ 3 ┃\n",
      "┣━━━╋━━━╋━━━╋━━━┫\n",
      "┃ A ┃ 9 ┃ 1 ┃ 7 ┃\n",
      "┣━━━╋━━━╋━━━╋━━━┫\n",
      "┃ E ┃ 5 ┃ D ┃ 6 ┃\n",
      "┗━━━┻━━━┻━━━┻━━━┛\n",
      "Solverable :  True\n"
     ]
    }
   ],
   "source": [
    "#check batch generation\n",
    "defualt_state = jax.vmap(puzzle.State.default)(jnp.zeros(10000))\n",
    "print(defualt_state[0])\n",
    "states = jax.vmap(puzzle.get_initial_state, in_axes=0)(key=jax.random.split(jax.random.PRNGKey(0),10))\n",
    "print(states[0])\n",
    "print(\"Solverable : \", puzzle._solverable(states[0]))"
   ]
  },
  {
   "cell_type": "code",
   "execution_count": 5,
   "metadata": {},
   "outputs": [
    {
     "name": "stdout",
     "output_type": "stream",
     "text": [
      "┏━━━┳━━━┳━━━┳━━━┓\n",
      "┃ 1 ┃ 2 ┃ 3 ┃ 4 ┃\n",
      "┣━━━╋━━━╋━━━╋━━━┫\n",
      "┃ 5 ┃ 6 ┃ 7 ┃ 8 ┃\n",
      "┣━━━╋━━━╋━━━╋━━━┫\n",
      "┃ 9 ┃ A ┃ B ┃ C ┃\n",
      "┣━━━╋━━━╋━━━╋━━━┫\n",
      "┃ D ┃ E ┃ F ┃   ┃\n",
      "┗━━━┻━━━┻━━━┻━━━┛\n",
      "Solverable :  True\n",
      "┏━━━┳━━━┳━━━┳━━━┓\n",
      "┃ 1 ┃ 2 ┃ 3 ┃ 4 ┃\n",
      "┣━━━╋━━━╋━━━╋━━━┫\n",
      "┃ 5 ┃ 6 ┃ 7 ┃ 8 ┃\n",
      "┣━━━╋━━━╋━━━╋━━━┫\n",
      "┃ 9 ┃ A ┃ B ┃ C ┃\n",
      "┣━━━╋━━━╋━━━╋━━━┫\n",
      "┃ D ┃ F ┃ E ┃   ┃\n",
      "┗━━━┻━━━┻━━━┻━━━┛\n",
      "Solverable :  False\n"
     ]
    }
   ],
   "source": [
    "#check solverable is working\n",
    "states = puzzle.State(board=jnp.array([1,2,3,4,5,6,7,8,9,10,11,12,13,14,15,0]))\n",
    "print(states)\n",
    "print(\"Solverable : \", puzzle._solverable(states))\n",
    "states = puzzle.State(board=jnp.array([1,2,3,4,5,6,7,8,9,10,11,12,13,15,14,0]))\n",
    "print(states)\n",
    "print(\"Solverable : \", puzzle._solverable(states))"
   ]
  },
  {
   "cell_type": "code",
   "execution_count": 6,
   "metadata": {},
   "outputs": [
    {
     "name": "stdout",
     "output_type": "stream",
     "text": [
      "┏━━━┳━━━┳━━━┳━━━┓\n",
      "┃ 1 ┃ 2 ┃ 3 ┃ 4 ┃\n",
      "┣━━━╋━━━╋━━━╋━━━┫\n",
      "┃ 5 ┃ 6 ┃ 7 ┃ 8 ┃\n",
      "┣━━━╋━━━╋━━━╋━━━┫\n",
      "┃ 9 ┃ A ┃ B ┃ C ┃\n",
      "┣━━━╋━━━╋━━━╋━━━┫\n",
      "┃ D ┃ E ┃ F ┃   ┃\n",
      "┗━━━┻━━━┻━━━┻━━━┛\n",
      "┏━━━┳━━━┳━━━┳━━━┓\n",
      "┃ 1 ┃ 2 ┃ 3 ┃ 4 ┃\n",
      "┣━━━╋━━━╋━━━╋━━━┫\n",
      "┃ 5 ┃ 6 ┃ 7 ┃ 8 ┃\n",
      "┣━━━╋━━━╋━━━╋━━━┫\n",
      "┃ 9 ┃ A ┃ B ┃ C ┃\n",
      "┣━━━╋━━━╋━━━╋━━━┫\n",
      "┃ D ┃ E ┃ F ┃   ┃\n",
      "┗━━━┻━━━┻━━━┻━━━┛\n",
      "inf\n",
      "┏━━━┳━━━┳━━━┳━━━┓\n",
      "┃ 1 ┃ 2 ┃ 3 ┃ 4 ┃\n",
      "┣━━━╋━━━╋━━━╋━━━┫\n",
      "┃ 5 ┃ 6 ┃ 7 ┃ 8 ┃\n",
      "┣━━━╋━━━╋━━━╋━━━┫\n",
      "┃ 9 ┃ A ┃ B ┃ C ┃\n",
      "┣━━━╋━━━╋━━━╋━━━┫\n",
      "┃ D ┃ E ┃   ┃ F ┃\n",
      "┗━━━┻━━━┻━━━┻━━━┛\n",
      "1.0\n",
      "┏━━━┳━━━┳━━━┳━━━┓\n",
      "┃ 1 ┃ 2 ┃ 3 ┃ 4 ┃\n",
      "┣━━━╋━━━╋━━━╋━━━┫\n",
      "┃ 5 ┃ 6 ┃ 7 ┃ 8 ┃\n",
      "┣━━━╋━━━╋━━━╋━━━┫\n",
      "┃ 9 ┃ A ┃ B ┃ C ┃\n",
      "┣━━━╋━━━╋━━━╋━━━┫\n",
      "┃ D ┃ E ┃ F ┃   ┃\n",
      "┗━━━┻━━━┻━━━┻━━━┛\n",
      "inf\n",
      "┏━━━┳━━━┳━━━┳━━━┓\n",
      "┃ 1 ┃ 2 ┃ 3 ┃ 4 ┃\n",
      "┣━━━╋━━━╋━━━╋━━━┫\n",
      "┃ 5 ┃ 6 ┃ 7 ┃ 8 ┃\n",
      "┣━━━╋━━━╋━━━╋━━━┫\n",
      "┃ 9 ┃ A ┃ B ┃   ┃\n",
      "┣━━━╋━━━╋━━━╋━━━┫\n",
      "┃ D ┃ E ┃ F ┃ C ┃\n",
      "┗━━━┻━━━┻━━━┻━━━┛\n",
      "1.0\n"
     ]
    }
   ],
   "source": [
    "#check neighbours\n",
    "states = puzzle.State(board=jnp.array([1,2,3,4,5,6,7,8,9,10,11,12,13,14,15,0]))\n",
    "print(states)\n",
    "next_states, costs = puzzle.get_neighbours(states)\n",
    "for i in range(4):\n",
    "    print(next_states[i])\n",
    "    print(costs[i])"
   ]
  },
  {
   "cell_type": "code",
   "execution_count": 7,
   "metadata": {},
   "outputs": [
    {
     "name": "stdout",
     "output_type": "stream",
     "text": [
      "shape(board=(40000000, 16))\n",
      "dtype(board=dtype('uint8'))\n",
      "(40000000,)\n"
     ]
    }
   ],
   "source": [
    "# check batch neighbours\n",
    "states = jax.vmap(puzzle.get_initial_state, in_axes=0)(key=jax.random.split(jax.random.PRNGKey(0),int(1e7))) # total 10 million states\n",
    "next_states, costs = jax.vmap(puzzle.get_neighbours, in_axes=0)(states)\n",
    "first_flat = lambda x: jnp.reshape(x, (-1, *x.shape[2:]))\n",
    "next_states = jax.tree_util.tree_map(first_flat, next_states)\n",
    "costs = first_flat(costs)\n",
    "print(next_states.shape)\n",
    "print(next_states.dtype)\n",
    "print(costs.shape)"
   ]
  },
  {
   "cell_type": "code",
   "execution_count": 8,
   "metadata": {},
   "outputs": [],
   "source": [
    "puzzle_hash_fun: callable = hash_func_builder(puzzle.State)"
   ]
  },
  {
   "cell_type": "code",
   "execution_count": 9,
   "metadata": {},
   "outputs": [
    {
     "name": "stdout",
     "output_type": "stream",
     "text": [
      "States Hashing, this should be not collision\n",
      "(10000000,)\n",
      "uint32\n",
      "(7952747,)\n",
      "(9999997, 16)\n",
      "Next states Hashing, this should be collision\n",
      "(40000000,)\n",
      "uint32\n",
      "(17933809,)\n",
      "(37620490, 16)\n"
     ]
    }
   ],
   "source": [
    "#check hashing\n",
    "print(\"States Hashing, this should be not collision\")\n",
    "hashes = jax.vmap(puzzle_hash_fun, in_axes=(0, None))(states, 1)\n",
    "#count hash collision\n",
    "print(hashes.shape)\n",
    "print(hashes.dtype)\n",
    "print(jnp.unique(hashes).shape) # No collision\n",
    "print(jnp.unique(states.board, axis=0).shape) # No collision\n",
    "\n",
    "print(\"Next states Hashing, this should be collision\")\n",
    "hashes = jax.vmap(puzzle_hash_fun, in_axes=(0, None))(next_states, 1)\n",
    "#count hash collision\n",
    "print(hashes.shape)\n",
    "print(hashes.dtype)\n",
    "print(jnp.unique(hashes).shape) # Collision\n",
    "print(jnp.unique(next_states.board, axis=0).shape) # No collision"
   ]
  },
  {
   "cell_type": "code",
   "execution_count": 10,
   "metadata": {},
   "outputs": [
    {
     "name": "stdout",
     "output_type": "stream",
     "text": [
      "Heuristic\n"
     ]
    },
    {
     "name": "stderr",
     "output_type": "stream",
     "text": [
      "2024-07-20 22:10:33.088680: W external/xla/xla/tsl/framework/bfc_allocator.cc:482] Allocator (GPU_0_bfc) ran out of memory trying to allocate 305.18MiB (rounded to 320000000)requested by op \n",
      "2024-07-20 22:10:33.088762: W external/xla/xla/tsl/framework/bfc_allocator.cc:494] *_*************************************************************************************************_\n",
      "E0720 22:10:33.088780    2937 pjrt_stream_executor_client.cc:2985] Execution of replica 0 failed: RESOURCE_EXHAUSTED: Out of memory while trying to allocate 320000000 bytes.\n"
     ]
    },
    {
     "ename": "ValueError",
     "evalue": "RESOURCE_EXHAUSTED: Out of memory while trying to allocate 320000000 bytes.",
     "output_type": "error",
     "traceback": [
      "\u001b[0;31m---------------------------------------------------------------------------\u001b[0m",
      "\u001b[0;31mValueError\u001b[0m                                Traceback (most recent call last)",
      "Cell \u001b[0;32mIn[10], line 3\u001b[0m\n\u001b[1;32m      1\u001b[0m \u001b[38;5;66;03m#check heuristic\u001b[39;00m\n\u001b[1;32m      2\u001b[0m \u001b[38;5;28mprint\u001b[39m(\u001b[38;5;124m\"\u001b[39m\u001b[38;5;124mHeuristic\u001b[39m\u001b[38;5;124m\"\u001b[39m)\n\u001b[0;32m----> 3\u001b[0m dist \u001b[38;5;241m=\u001b[39m \u001b[43mjax\u001b[49m\u001b[38;5;241;43m.\u001b[39;49m\u001b[43mvmap\u001b[49m\u001b[43m(\u001b[49m\u001b[43mheuristic\u001b[49m\u001b[38;5;241;43m.\u001b[39;49m\u001b[43mdistance\u001b[49m\u001b[43m,\u001b[49m\u001b[43m \u001b[49m\u001b[43min_axes\u001b[49m\u001b[38;5;241;43m=\u001b[39;49m\u001b[43m(\u001b[49m\u001b[38;5;241;43m0\u001b[39;49m\u001b[43m,\u001b[49m\u001b[43m \u001b[49m\u001b[38;5;28;43;01mNone\u001b[39;49;00m\u001b[43m)\u001b[49m\u001b[43m)\u001b[49m\u001b[43m(\u001b[49m\u001b[43mnext_states\u001b[49m\u001b[43m,\u001b[49m\u001b[43m \u001b[49m\u001b[43mstates\u001b[49m\u001b[43m[\u001b[49m\u001b[38;5;241;43m0\u001b[39;49m\u001b[43m]\u001b[49m\u001b[43m)\u001b[49m\n\u001b[1;32m      4\u001b[0m \u001b[38;5;28mprint\u001b[39m(dist)\n",
      "    \u001b[0;31m[... skipping hidden 3 frame]\u001b[0m\n",
      "File \u001b[0;32m~/JAxtar/heuristic/slidepuzzle_heuristic.py:19\u001b[0m, in \u001b[0;36mSlidePuzzleHeuristic.distance\u001b[0;34m(self, current, target)\u001b[0m\n\u001b[1;32m     15\u001b[0m \u001b[38;5;28;01mdef\u001b[39;00m \u001b[38;5;21mdistance\u001b[39m(\u001b[38;5;28mself\u001b[39m, current: SlidePuzzle\u001b[38;5;241m.\u001b[39mState, target: SlidePuzzle\u001b[38;5;241m.\u001b[39mState) \u001b[38;5;241m-\u001b[39m\u001b[38;5;241m>\u001b[39m \u001b[38;5;28mint\u001b[39m:\n\u001b[1;32m     16\u001b[0m \u001b[38;5;250m    \u001b[39m\u001b[38;5;124;03m\"\"\"\u001b[39;00m\n\u001b[1;32m     17\u001b[0m \u001b[38;5;124;03m    This function should return the distance between the state and the target.\u001b[39;00m\n\u001b[1;32m     18\u001b[0m \u001b[38;5;124;03m    \"\"\"\u001b[39;00m\n\u001b[0;32m---> 19\u001b[0m     diff, tpos \u001b[38;5;241m=\u001b[39m \u001b[38;5;28;43mself\u001b[39;49m\u001b[38;5;241;43m.\u001b[39;49m\u001b[43m_diff_pos\u001b[49m\u001b[43m(\u001b[49m\u001b[43mcurrent\u001b[49m\u001b[43m,\u001b[49m\u001b[43m \u001b[49m\u001b[43mtarget\u001b[49m\u001b[43m)\u001b[49m\n\u001b[1;32m     20\u001b[0m     not_empty \u001b[38;5;241m=\u001b[39m (current\u001b[38;5;241m.\u001b[39mboard \u001b[38;5;241m!=\u001b[39m \u001b[38;5;241m0\u001b[39m)\n\u001b[1;32m     21\u001b[0m     \u001b[38;5;28;01mreturn\u001b[39;00m \u001b[38;5;28mself\u001b[39m\u001b[38;5;241m.\u001b[39m_manhattan_distance(not_empty, diff) \u001b[38;5;241m+\u001b[39m \u001b[38;5;28mself\u001b[39m\u001b[38;5;241m.\u001b[39m_linear_conflict(tpos, not_empty, diff)\n",
      "File \u001b[0;32m~/JAxtar/heuristic/slidepuzzle_heuristic.py:34\u001b[0m, in \u001b[0;36mSlidePuzzleHeuristic._diff_pos\u001b[0;34m(self, current, target)\u001b[0m\n\u001b[1;32m     31\u001b[0m \u001b[38;5;28;01mdef\u001b[39;00m \u001b[38;5;21mpos\u001b[39m(num, board):\n\u001b[1;32m     32\u001b[0m     \u001b[38;5;28;01mreturn\u001b[39;00m to_xy(jnp\u001b[38;5;241m.\u001b[39margmax(board \u001b[38;5;241m==\u001b[39m num))\n\u001b[0;32m---> 34\u001b[0m current_pos \u001b[38;5;241m=\u001b[39m \u001b[43mjnp\u001b[49m\u001b[38;5;241;43m.\u001b[39;49m\u001b[43marray\u001b[49m\u001b[43m(\u001b[49m\u001b[43m[\u001b[49m\u001b[43mpos\u001b[49m\u001b[43m(\u001b[49m\u001b[43mi\u001b[49m\u001b[43m,\u001b[49m\u001b[43m \u001b[49m\u001b[43mcurrent\u001b[49m\u001b[38;5;241;43m.\u001b[39;49m\u001b[43mboard\u001b[49m\u001b[43m)\u001b[49m\u001b[43m \u001b[49m\u001b[38;5;28;43;01mfor\u001b[39;49;00m\u001b[43m \u001b[49m\u001b[43mi\u001b[49m\u001b[43m \u001b[49m\u001b[38;5;129;43;01min\u001b[39;49;00m\u001b[43m \u001b[49m\u001b[38;5;28;43mrange\u001b[39;49m\u001b[43m(\u001b[49m\u001b[38;5;241;43m0\u001b[39;49m\u001b[43m,\u001b[49m\u001b[43m \u001b[49m\u001b[38;5;28;43mself\u001b[39;49m\u001b[38;5;241;43m.\u001b[39;49m\u001b[43mpuzzle\u001b[49m\u001b[38;5;241;43m.\u001b[39;49m\u001b[43msize\u001b[49m\u001b[43m \u001b[49m\u001b[38;5;241;43m*\u001b[39;49m\u001b[38;5;241;43m*\u001b[39;49m\u001b[43m \u001b[49m\u001b[38;5;241;43m2\u001b[39;49m\u001b[43m)\u001b[49m\u001b[43m]\u001b[49m\u001b[43m)\u001b[49m\n\u001b[1;32m     35\u001b[0m target_pos \u001b[38;5;241m=\u001b[39m jnp\u001b[38;5;241m.\u001b[39marray([pos(i, target\u001b[38;5;241m.\u001b[39mboard) \u001b[38;5;28;01mfor\u001b[39;00m i \u001b[38;5;129;01min\u001b[39;00m \u001b[38;5;28mrange\u001b[39m(\u001b[38;5;241m0\u001b[39m, \u001b[38;5;28mself\u001b[39m\u001b[38;5;241m.\u001b[39mpuzzle\u001b[38;5;241m.\u001b[39msize \u001b[38;5;241m*\u001b[39m\u001b[38;5;241m*\u001b[39m \u001b[38;5;241m2\u001b[39m)])\n\u001b[1;32m     36\u001b[0m tpos \u001b[38;5;241m=\u001b[39m jnp\u001b[38;5;241m.\u001b[39marray([pos(i, target\u001b[38;5;241m.\u001b[39mboard) \u001b[38;5;28;01mfor\u001b[39;00m i \u001b[38;5;129;01min\u001b[39;00m current\u001b[38;5;241m.\u001b[39mboard], dtype\u001b[38;5;241m=\u001b[39mjnp\u001b[38;5;241m.\u001b[39mint8)\n",
      "File \u001b[0;32m~/anaconda3/envs/py311/lib/python3.11/site-packages/jax/_src/numpy/lax_numpy.py:3204\u001b[0m, in \u001b[0;36marray\u001b[0;34m(object, dtype, copy, order, ndmin)\u001b[0m\n\u001b[1;32m   3202\u001b[0m \u001b[38;5;28;01melif\u001b[39;00m \u001b[38;5;28misinstance\u001b[39m(\u001b[38;5;28mobject\u001b[39m, (\u001b[38;5;28mlist\u001b[39m, \u001b[38;5;28mtuple\u001b[39m)):\n\u001b[1;32m   3203\u001b[0m   \u001b[38;5;28;01mif\u001b[39;00m \u001b[38;5;28mobject\u001b[39m:\n\u001b[0;32m-> 3204\u001b[0m     out \u001b[38;5;241m=\u001b[39m \u001b[43mstack\u001b[49m\u001b[43m(\u001b[49m\u001b[43m[\u001b[49m\u001b[43masarray\u001b[49m\u001b[43m(\u001b[49m\u001b[43melt\u001b[49m\u001b[43m,\u001b[49m\u001b[43m \u001b[49m\u001b[43mdtype\u001b[49m\u001b[38;5;241;43m=\u001b[39;49m\u001b[43mdtype\u001b[49m\u001b[43m)\u001b[49m\u001b[43m \u001b[49m\u001b[38;5;28;43;01mfor\u001b[39;49;00m\u001b[43m \u001b[49m\u001b[43melt\u001b[49m\u001b[43m \u001b[49m\u001b[38;5;129;43;01min\u001b[39;49;00m\u001b[43m \u001b[49m\u001b[38;5;28;43mobject\u001b[39;49m\u001b[43m]\u001b[49m\u001b[43m)\u001b[49m\n\u001b[1;32m   3205\u001b[0m   \u001b[38;5;28;01melse\u001b[39;00m:\n\u001b[1;32m   3206\u001b[0m     out \u001b[38;5;241m=\u001b[39m np\u001b[38;5;241m.\u001b[39marray([], dtype\u001b[38;5;241m=\u001b[39mdtype)\n",
      "File \u001b[0;32m~/anaconda3/envs/py311/lib/python3.11/site-packages/jax/_src/numpy/lax_numpy.py:2842\u001b[0m, in \u001b[0;36mstack\u001b[0;34m(arrays, axis, out, dtype)\u001b[0m\n\u001b[1;32m   2840\u001b[0m   \u001b[38;5;28;01mif\u001b[39;00m shape(a) \u001b[38;5;241m!=\u001b[39m shape0:\n\u001b[1;32m   2841\u001b[0m     \u001b[38;5;28;01mraise\u001b[39;00m \u001b[38;5;167;01mValueError\u001b[39;00m(\u001b[38;5;124m\"\u001b[39m\u001b[38;5;124mAll input arrays must have the same shape.\u001b[39m\u001b[38;5;124m\"\u001b[39m)\n\u001b[0;32m-> 2842\u001b[0m   new_arrays\u001b[38;5;241m.\u001b[39mappend(\u001b[43mexpand_dims\u001b[49m\u001b[43m(\u001b[49m\u001b[43ma\u001b[49m\u001b[43m,\u001b[49m\u001b[43m \u001b[49m\u001b[43maxis\u001b[49m\u001b[43m)\u001b[49m)\n\u001b[1;32m   2843\u001b[0m \u001b[38;5;28;01mreturn\u001b[39;00m concatenate(new_arrays, axis\u001b[38;5;241m=\u001b[39maxis, dtype\u001b[38;5;241m=\u001b[39mdtype)\n",
      "File \u001b[0;32m~/anaconda3/envs/py311/lib/python3.11/site-packages/jax/_src/numpy/lax_numpy.py:1626\u001b[0m, in \u001b[0;36mexpand_dims\u001b[0;34m(a, axis)\u001b[0m\n\u001b[1;32m   1624\u001b[0m util\u001b[38;5;241m.\u001b[39mcheck_arraylike(\u001b[38;5;124m\"\u001b[39m\u001b[38;5;124mexpand_dims\u001b[39m\u001b[38;5;124m\"\u001b[39m, a)\n\u001b[1;32m   1625\u001b[0m axis \u001b[38;5;241m=\u001b[39m _ensure_index_tuple(axis)\n\u001b[0;32m-> 1626\u001b[0m \u001b[38;5;28;01mreturn\u001b[39;00m \u001b[43mlax\u001b[49m\u001b[38;5;241;43m.\u001b[39;49m\u001b[43mexpand_dims\u001b[49m\u001b[43m(\u001b[49m\u001b[43ma\u001b[49m\u001b[43m,\u001b[49m\u001b[43m \u001b[49m\u001b[43maxis\u001b[49m\u001b[43m)\u001b[49m\n",
      "    \u001b[0;31m[... skipping hidden 10 frame]\u001b[0m\n",
      "File \u001b[0;32m~/anaconda3/envs/py311/lib/python3.11/site-packages/jax/_src/dispatch.py:87\u001b[0m, in \u001b[0;36mapply_primitive\u001b[0;34m(prim, *args, **params)\u001b[0m\n\u001b[1;32m     85\u001b[0m prev \u001b[38;5;241m=\u001b[39m lib\u001b[38;5;241m.\u001b[39mjax_jit\u001b[38;5;241m.\u001b[39mswap_thread_local_state_disable_jit(\u001b[38;5;28;01mFalse\u001b[39;00m)\n\u001b[1;32m     86\u001b[0m \u001b[38;5;28;01mtry\u001b[39;00m:\n\u001b[0;32m---> 87\u001b[0m   outs \u001b[38;5;241m=\u001b[39m \u001b[43mfun\u001b[49m\u001b[43m(\u001b[49m\u001b[38;5;241;43m*\u001b[39;49m\u001b[43margs\u001b[49m\u001b[43m)\u001b[49m\n\u001b[1;32m     88\u001b[0m \u001b[38;5;28;01mfinally\u001b[39;00m:\n\u001b[1;32m     89\u001b[0m   lib\u001b[38;5;241m.\u001b[39mjax_jit\u001b[38;5;241m.\u001b[39mswap_thread_local_state_disable_jit(prev)\n",
      "\u001b[0;31mValueError\u001b[0m: RESOURCE_EXHAUSTED: Out of memory while trying to allocate 320000000 bytes."
     ]
    }
   ],
   "source": [
    "#check heuristic\n",
    "print(\"Heuristic\")\n",
    "dist = jax.vmap(heuristic.distance, in_axes=(0, None))(next_states, states[0])\n",
    "print(dist)"
   ]
  }
 ],
 "metadata": {
  "kernelspec": {
   "display_name": "py311",
   "language": "python",
   "name": "python3"
  },
  "language_info": {
   "codemirror_mode": {
    "name": "ipython",
    "version": 3
   },
   "file_extension": ".py",
   "mimetype": "text/x-python",
   "name": "python",
   "nbconvert_exporter": "python",
   "pygments_lexer": "ipython3",
   "version": "3.11.9"
  }
 },
 "nbformat": 4,
 "nbformat_minor": 2
}
