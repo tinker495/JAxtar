{
 "cells": [
  {
   "cell_type": "code",
   "execution_count": 1,
   "metadata": {},
   "outputs": [
    {
     "name": "stdout",
     "output_type": "stream",
     "text": [
      "env: CUDA_VISIBLE_DEVICES=0\n"
     ]
    }
   ],
   "source": [
    "import sys\n",
    "import os\n",
    "\n",
    "# 프로젝트 루트 디렉토리 경로를 추가\n",
    "project_root = os.path.abspath(os.path.join(os.getcwd(), '..'))\n",
    "if project_root not in sys.path:\n",
    "    sys.path.append(project_root)\n",
    "%env CUDA_VISIBLE_DEVICES=0"
   ]
  },
  {
   "cell_type": "code",
   "execution_count": 2,
   "metadata": {},
   "outputs": [],
   "source": [
    "import jax\n",
    "import jax.numpy as jnp\n",
    "from functools import partial\n",
    "\n",
    "from JAxtar.hash import hash_func_builder\n",
    "from puzzle.rubikscube import RubiksCube\n",
    "from heuristic.rubikscube_heuristic import RubiksCubeHeuristic"
   ]
  },
  {
   "cell_type": "code",
   "execution_count": 3,
   "metadata": {},
   "outputs": [],
   "source": [
    "puzzle = RubiksCube(3)\n",
    "heuristic = RubiksCubeHeuristic(puzzle)"
   ]
  },
  {
   "cell_type": "code",
   "execution_count": 4,
   "metadata": {},
   "outputs": [
    {
     "name": "stdout",
     "output_type": "stream",
     "text": [
      "up    :\u001b[97m■\u001b[0m   ┏━━━up━━┓\n",
      "down  :\u001b[33m■\u001b[0m   ┃ \u001b[97m■\u001b[0m \u001b[97m■\u001b[0m \u001b[97m■\u001b[0m ┃\n",
      "left  :\u001b[31m■\u001b[0m   ┃ \u001b[97m■\u001b[0m \u001b[97m■\u001b[0m \u001b[97m■\u001b[0m ┃\n",
      "right :\u001b[35m■\u001b[0m   ┃ \u001b[97m■\u001b[0m \u001b[97m■\u001b[0m \u001b[97m■\u001b[0m ┃\n",
      "front :\u001b[32m■\u001b[0m   ┗━━━━━━━┛\n",
      "back  :\u001b[34m■\u001b[0m\n",
      "┏━━left━┓  ┏━front━┓  ┏━right━┓  ┏━━back━┓\n",
      "┃ \u001b[31m■\u001b[0m \u001b[31m■\u001b[0m \u001b[31m■\u001b[0m ┃  ┃ \u001b[32m■\u001b[0m \u001b[32m■\u001b[0m \u001b[32m■\u001b[0m ┃  ┃ \u001b[35m■\u001b[0m \u001b[35m■\u001b[0m \u001b[35m■\u001b[0m ┃  ┃ \u001b[34m■\u001b[0m \u001b[34m■\u001b[0m \u001b[34m■\u001b[0m ┃\n",
      "┃ \u001b[31m■\u001b[0m \u001b[31m■\u001b[0m \u001b[31m■\u001b[0m ┃  ┃ \u001b[32m■\u001b[0m \u001b[32m■\u001b[0m \u001b[32m■\u001b[0m ┃  ┃ \u001b[35m■\u001b[0m \u001b[35m■\u001b[0m \u001b[35m■\u001b[0m ┃  ┃ \u001b[34m■\u001b[0m \u001b[34m■\u001b[0m \u001b[34m■\u001b[0m ┃\n",
      "┃ \u001b[31m■\u001b[0m \u001b[31m■\u001b[0m \u001b[31m■\u001b[0m ┃  ┃ \u001b[32m■\u001b[0m \u001b[32m■\u001b[0m \u001b[32m■\u001b[0m ┃  ┃ \u001b[35m■\u001b[0m \u001b[35m■\u001b[0m \u001b[35m■\u001b[0m ┃  ┃ \u001b[34m■\u001b[0m \u001b[34m■\u001b[0m \u001b[34m■\u001b[0m ┃\n",
      "┗━━━━━━━┛  ┗━━━━━━━┛  ┗━━━━━━━┛  ┗━━━━━━━┛\n",
      "           ┏━━down━┓\n",
      "           ┃ \u001b[33m■\u001b[0m \u001b[33m■\u001b[0m \u001b[33m■\u001b[0m ┃\n",
      "           ┃ \u001b[33m■\u001b[0m \u001b[33m■\u001b[0m \u001b[33m■\u001b[0m ┃\n",
      "           ┃ \u001b[33m■\u001b[0m \u001b[33m■\u001b[0m \u001b[33m■\u001b[0m ┃\n",
      "           ┗━━━━━━━┛\n",
      "up    :\u001b[97m■\u001b[0m   ┏━━━up━━┓                        up    :\u001b[97m■\u001b[0m   ┏━━━up━━┓                        up    :\u001b[97m■\u001b[0m   ┏━━━up━━┓                        up    :\u001b[97m■\u001b[0m   ┏━━━up━━┓                        up    :\u001b[97m■\u001b[0m   ┏━━━up━━┓                        up    :\u001b[97m■\u001b[0m   ┏━━━up━━┓                        up    :\u001b[97m■\u001b[0m   ┏━━━up━━┓                        up    :\u001b[97m■\u001b[0m   ┏━━━up━━┓                        up    :\u001b[97m■\u001b[0m   ┏━━━up━━┓                        up    :\u001b[97m■\u001b[0m   ┏━━━up━━┓                        up    :\u001b[97m■\u001b[0m   ┏━━━up━━┓                        up    :\u001b[97m■\u001b[0m   ┏━━━up━━┓                        batch : (12,)\n",
      "down  :\u001b[33m■\u001b[0m   ┃ \u001b[32m■\u001b[0m \u001b[97m■\u001b[0m \u001b[97m■\u001b[0m ┃                        down  :\u001b[33m■\u001b[0m   ┃ \u001b[34m■\u001b[0m \u001b[97m■\u001b[0m \u001b[97m■\u001b[0m ┃                        down  :\u001b[33m■\u001b[0m   ┃ \u001b[97m■\u001b[0m \u001b[97m■\u001b[0m \u001b[97m■\u001b[0m ┃                        down  :\u001b[33m■\u001b[0m   ┃ \u001b[97m■\u001b[0m \u001b[97m■\u001b[0m \u001b[97m■\u001b[0m ┃                        down  :\u001b[33m■\u001b[0m   ┃ \u001b[97m■\u001b[0m \u001b[97m■\u001b[0m \u001b[97m■\u001b[0m ┃                        down  :\u001b[33m■\u001b[0m   ┃ \u001b[97m■\u001b[0m \u001b[97m■\u001b[0m \u001b[97m■\u001b[0m ┃                        down  :\u001b[33m■\u001b[0m   ┃ \u001b[97m■\u001b[0m \u001b[97m■\u001b[0m \u001b[32m■\u001b[0m ┃                        down  :\u001b[33m■\u001b[0m   ┃ \u001b[97m■\u001b[0m \u001b[97m■\u001b[0m \u001b[34m■\u001b[0m ┃                        down  :\u001b[33m■\u001b[0m   ┃ \u001b[97m■\u001b[0m \u001b[97m■\u001b[0m \u001b[97m■\u001b[0m ┃                        down  :\u001b[33m■\u001b[0m   ┃ \u001b[97m■\u001b[0m \u001b[97m■\u001b[0m \u001b[97m■\u001b[0m ┃                        down  :\u001b[33m■\u001b[0m   ┃ \u001b[31m■\u001b[0m \u001b[31m■\u001b[0m \u001b[31m■\u001b[0m ┃                        down  :\u001b[33m■\u001b[0m   ┃ \u001b[35m■\u001b[0m \u001b[35m■\u001b[0m \u001b[35m■\u001b[0m ┃\n",
      "left  :\u001b[31m■\u001b[0m   ┃ \u001b[32m■\u001b[0m \u001b[97m■\u001b[0m \u001b[97m■\u001b[0m ┃                        left  :\u001b[31m■\u001b[0m   ┃ \u001b[34m■\u001b[0m \u001b[97m■\u001b[0m \u001b[97m■\u001b[0m ┃                        left  :\u001b[31m■\u001b[0m   ┃ \u001b[97m■\u001b[0m \u001b[97m■\u001b[0m \u001b[97m■\u001b[0m ┃                        left  :\u001b[31m■\u001b[0m   ┃ \u001b[97m■\u001b[0m \u001b[97m■\u001b[0m \u001b[97m■\u001b[0m ┃                        left  :\u001b[31m■\u001b[0m   ┃ \u001b[97m■\u001b[0m \u001b[97m■\u001b[0m \u001b[97m■\u001b[0m ┃                        left  :\u001b[31m■\u001b[0m   ┃ \u001b[97m■\u001b[0m \u001b[97m■\u001b[0m \u001b[97m■\u001b[0m ┃                        left  :\u001b[31m■\u001b[0m   ┃ \u001b[97m■\u001b[0m \u001b[97m■\u001b[0m \u001b[32m■\u001b[0m ┃                        left  :\u001b[31m■\u001b[0m   ┃ \u001b[97m■\u001b[0m \u001b[97m■\u001b[0m \u001b[34m■\u001b[0m ┃                        left  :\u001b[31m■\u001b[0m   ┃ \u001b[97m■\u001b[0m \u001b[97m■\u001b[0m \u001b[97m■\u001b[0m ┃                        left  :\u001b[31m■\u001b[0m   ┃ \u001b[97m■\u001b[0m \u001b[97m■\u001b[0m \u001b[97m■\u001b[0m ┃                        left  :\u001b[31m■\u001b[0m   ┃ \u001b[97m■\u001b[0m \u001b[97m■\u001b[0m \u001b[97m■\u001b[0m ┃                        left  :\u001b[31m■\u001b[0m   ┃ \u001b[97m■\u001b[0m \u001b[97m■\u001b[0m \u001b[97m■\u001b[0m ┃\n",
      "right :\u001b[35m■\u001b[0m   ┃ \u001b[32m■\u001b[0m \u001b[97m■\u001b[0m \u001b[97m■\u001b[0m ┃                        right :\u001b[35m■\u001b[0m   ┃ \u001b[34m■\u001b[0m \u001b[97m■\u001b[0m \u001b[97m■\u001b[0m ┃                        right :\u001b[35m■\u001b[0m   ┃ \u001b[97m■\u001b[0m \u001b[97m■\u001b[0m \u001b[97m■\u001b[0m ┃                        right :\u001b[35m■\u001b[0m   ┃ \u001b[97m■\u001b[0m \u001b[97m■\u001b[0m \u001b[97m■\u001b[0m ┃                        right :\u001b[35m■\u001b[0m   ┃ \u001b[31m■\u001b[0m \u001b[31m■\u001b[0m \u001b[31m■\u001b[0m ┃                        right :\u001b[35m■\u001b[0m   ┃ \u001b[35m■\u001b[0m \u001b[35m■\u001b[0m \u001b[35m■\u001b[0m ┃                        right :\u001b[35m■\u001b[0m   ┃ \u001b[97m■\u001b[0m \u001b[97m■\u001b[0m \u001b[32m■\u001b[0m ┃                        right :\u001b[35m■\u001b[0m   ┃ \u001b[97m■\u001b[0m \u001b[97m■\u001b[0m \u001b[34m■\u001b[0m ┃                        right :\u001b[35m■\u001b[0m   ┃ \u001b[97m■\u001b[0m \u001b[97m■\u001b[0m \u001b[97m■\u001b[0m ┃                        right :\u001b[35m■\u001b[0m   ┃ \u001b[97m■\u001b[0m \u001b[97m■\u001b[0m \u001b[97m■\u001b[0m ┃                        right :\u001b[35m■\u001b[0m   ┃ \u001b[97m■\u001b[0m \u001b[97m■\u001b[0m \u001b[97m■\u001b[0m ┃                        right :\u001b[35m■\u001b[0m   ┃ \u001b[97m■\u001b[0m \u001b[97m■\u001b[0m \u001b[97m■\u001b[0m ┃\n",
      "front :\u001b[32m■\u001b[0m   ┗━━━━━━━┛                        front :\u001b[32m■\u001b[0m   ┗━━━━━━━┛                        front :\u001b[32m■\u001b[0m   ┗━━━━━━━┛                        front :\u001b[32m■\u001b[0m   ┗━━━━━━━┛                        front :\u001b[32m■\u001b[0m   ┗━━━━━━━┛                        front :\u001b[32m■\u001b[0m   ┗━━━━━━━┛                        front :\u001b[32m■\u001b[0m   ┗━━━━━━━┛                        front :\u001b[32m■\u001b[0m   ┗━━━━━━━┛                        front :\u001b[32m■\u001b[0m   ┗━━━━━━━┛                        front :\u001b[32m■\u001b[0m   ┗━━━━━━━┛                        front :\u001b[32m■\u001b[0m   ┗━━━━━━━┛                        front :\u001b[32m■\u001b[0m   ┗━━━━━━━┛\n",
      "back  :\u001b[34m■\u001b[0m                                    back  :\u001b[34m■\u001b[0m                                    back  :\u001b[34m■\u001b[0m                                    back  :\u001b[34m■\u001b[0m                                    back  :\u001b[34m■\u001b[0m                                    back  :\u001b[34m■\u001b[0m                                    back  :\u001b[34m■\u001b[0m                                    back  :\u001b[34m■\u001b[0m                                    back  :\u001b[34m■\u001b[0m                                    back  :\u001b[34m■\u001b[0m                                    back  :\u001b[34m■\u001b[0m                                    back  :\u001b[34m■\u001b[0m\n",
      "┏━━left━┓  ┏━front━┓  ┏━right━┓  ┏━━back━┓  ┏━━left━┓  ┏━front━┓  ┏━right━┓  ┏━━back━┓  ┏━━left━┓  ┏━front━┓  ┏━right━┓  ┏━━back━┓  ┏━━left━┓  ┏━front━┓  ┏━right━┓  ┏━━back━┓  ┏━━left━┓  ┏━front━┓  ┏━right━┓  ┏━━back━┓  ┏━━left━┓  ┏━front━┓  ┏━right━┓  ┏━━back━┓  ┏━━left━┓  ┏━front━┓  ┏━right━┓  ┏━━back━┓  ┏━━left━┓  ┏━front━┓  ┏━right━┓  ┏━━back━┓  ┏━━left━┓  ┏━front━┓  ┏━right━┓  ┏━━back━┓  ┏━━left━┓  ┏━front━┓  ┏━right━┓  ┏━━back━┓  ┏━━left━┓  ┏━front━┓  ┏━right━┓  ┏━━back━┓  ┏━━left━┓  ┏━front━┓  ┏━right━┓  ┏━━back━┓\n",
      "┃ \u001b[31m■\u001b[0m \u001b[31m■\u001b[0m \u001b[31m■\u001b[0m ┃  ┃ \u001b[33m■\u001b[0m \u001b[32m■\u001b[0m \u001b[32m■\u001b[0m ┃  ┃ \u001b[35m■\u001b[0m \u001b[35m■\u001b[0m \u001b[35m■\u001b[0m ┃  ┃ \u001b[34m■\u001b[0m \u001b[34m■\u001b[0m \u001b[97m■\u001b[0m ┃  ┃ \u001b[31m■\u001b[0m \u001b[31m■\u001b[0m \u001b[31m■\u001b[0m ┃  ┃ \u001b[97m■\u001b[0m \u001b[32m■\u001b[0m \u001b[32m■\u001b[0m ┃  ┃ \u001b[35m■\u001b[0m \u001b[35m■\u001b[0m \u001b[35m■\u001b[0m ┃  ┃ \u001b[34m■\u001b[0m \u001b[34m■\u001b[0m \u001b[33m■\u001b[0m ┃  ┃ \u001b[31m■\u001b[0m \u001b[31m■\u001b[0m \u001b[31m■\u001b[0m ┃  ┃ \u001b[32m■\u001b[0m \u001b[32m■\u001b[0m \u001b[32m■\u001b[0m ┃  ┃ \u001b[35m■\u001b[0m \u001b[35m■\u001b[0m \u001b[35m■\u001b[0m ┃  ┃ \u001b[34m■\u001b[0m \u001b[34m■\u001b[0m \u001b[34m■\u001b[0m ┃  ┃ \u001b[31m■\u001b[0m \u001b[31m■\u001b[0m \u001b[31m■\u001b[0m ┃  ┃ \u001b[32m■\u001b[0m \u001b[32m■\u001b[0m \u001b[32m■\u001b[0m ┃  ┃ \u001b[35m■\u001b[0m \u001b[35m■\u001b[0m \u001b[35m■\u001b[0m ┃  ┃ \u001b[34m■\u001b[0m \u001b[34m■\u001b[0m \u001b[34m■\u001b[0m ┃  ┃ \u001b[31m■\u001b[0m \u001b[31m■\u001b[0m \u001b[33m■\u001b[0m ┃  ┃ \u001b[32m■\u001b[0m \u001b[32m■\u001b[0m \u001b[32m■\u001b[0m ┃  ┃ \u001b[97m■\u001b[0m \u001b[35m■\u001b[0m \u001b[35m■\u001b[0m ┃  ┃ \u001b[34m■\u001b[0m \u001b[34m■\u001b[0m \u001b[34m■\u001b[0m ┃  ┃ \u001b[31m■\u001b[0m \u001b[31m■\u001b[0m \u001b[97m■\u001b[0m ┃  ┃ \u001b[32m■\u001b[0m \u001b[32m■\u001b[0m \u001b[32m■\u001b[0m ┃  ┃ \u001b[33m■\u001b[0m \u001b[35m■\u001b[0m \u001b[35m■\u001b[0m ┃  ┃ \u001b[34m■\u001b[0m \u001b[34m■\u001b[0m \u001b[34m■\u001b[0m ┃  ┃ \u001b[31m■\u001b[0m \u001b[31m■\u001b[0m \u001b[31m■\u001b[0m ┃  ┃ \u001b[32m■\u001b[0m \u001b[32m■\u001b[0m \u001b[33m■\u001b[0m ┃  ┃ \u001b[35m■\u001b[0m \u001b[35m■\u001b[0m \u001b[35m■\u001b[0m ┃  ┃ \u001b[97m■\u001b[0m \u001b[34m■\u001b[0m \u001b[34m■\u001b[0m ┃  ┃ \u001b[31m■\u001b[0m \u001b[31m■\u001b[0m \u001b[31m■\u001b[0m ┃  ┃ \u001b[32m■\u001b[0m \u001b[32m■\u001b[0m \u001b[97m■\u001b[0m ┃  ┃ \u001b[35m■\u001b[0m \u001b[35m■\u001b[0m \u001b[35m■\u001b[0m ┃  ┃ \u001b[33m■\u001b[0m \u001b[34m■\u001b[0m \u001b[34m■\u001b[0m ┃  ┃ \u001b[32m■\u001b[0m \u001b[32m■\u001b[0m \u001b[32m■\u001b[0m ┃  ┃ \u001b[35m■\u001b[0m \u001b[35m■\u001b[0m \u001b[35m■\u001b[0m ┃  ┃ \u001b[34m■\u001b[0m \u001b[34m■\u001b[0m \u001b[34m■\u001b[0m ┃  ┃ \u001b[31m■\u001b[0m \u001b[31m■\u001b[0m \u001b[31m■\u001b[0m ┃  ┃ \u001b[34m■\u001b[0m \u001b[34m■\u001b[0m \u001b[34m■\u001b[0m ┃  ┃ \u001b[31m■\u001b[0m \u001b[31m■\u001b[0m \u001b[31m■\u001b[0m ┃  ┃ \u001b[32m■\u001b[0m \u001b[32m■\u001b[0m \u001b[32m■\u001b[0m ┃  ┃ \u001b[35m■\u001b[0m \u001b[35m■\u001b[0m \u001b[35m■\u001b[0m ┃  ┃ \u001b[33m■\u001b[0m \u001b[31m■\u001b[0m \u001b[31m■\u001b[0m ┃  ┃ \u001b[32m■\u001b[0m \u001b[32m■\u001b[0m \u001b[32m■\u001b[0m ┃  ┃ \u001b[35m■\u001b[0m \u001b[35m■\u001b[0m \u001b[97m■\u001b[0m ┃  ┃ \u001b[34m■\u001b[0m \u001b[34m■\u001b[0m \u001b[34m■\u001b[0m ┃  ┃ \u001b[97m■\u001b[0m \u001b[31m■\u001b[0m \u001b[31m■\u001b[0m ┃  ┃ \u001b[32m■\u001b[0m \u001b[32m■\u001b[0m \u001b[32m■\u001b[0m ┃  ┃ \u001b[35m■\u001b[0m \u001b[35m■\u001b[0m \u001b[33m■\u001b[0m ┃  ┃ \u001b[34m■\u001b[0m \u001b[34m■\u001b[0m \u001b[34m■\u001b[0m ┃\n",
      "┃ \u001b[31m■\u001b[0m \u001b[31m■\u001b[0m \u001b[31m■\u001b[0m ┃  ┃ \u001b[33m■\u001b[0m \u001b[32m■\u001b[0m \u001b[32m■\u001b[0m ┃  ┃ \u001b[35m■\u001b[0m \u001b[35m■\u001b[0m \u001b[35m■\u001b[0m ┃  ┃ \u001b[34m■\u001b[0m \u001b[34m■\u001b[0m \u001b[97m■\u001b[0m ┃  ┃ \u001b[31m■\u001b[0m \u001b[31m■\u001b[0m \u001b[31m■\u001b[0m ┃  ┃ \u001b[97m■\u001b[0m \u001b[32m■\u001b[0m \u001b[32m■\u001b[0m ┃  ┃ \u001b[35m■\u001b[0m \u001b[35m■\u001b[0m \u001b[35m■\u001b[0m ┃  ┃ \u001b[34m■\u001b[0m \u001b[34m■\u001b[0m \u001b[33m■\u001b[0m ┃  ┃ \u001b[31m■\u001b[0m \u001b[31m■\u001b[0m \u001b[31m■\u001b[0m ┃  ┃ \u001b[32m■\u001b[0m \u001b[32m■\u001b[0m \u001b[32m■\u001b[0m ┃  ┃ \u001b[35m■\u001b[0m \u001b[35m■\u001b[0m \u001b[35m■\u001b[0m ┃  ┃ \u001b[34m■\u001b[0m \u001b[34m■\u001b[0m \u001b[34m■\u001b[0m ┃  ┃ \u001b[31m■\u001b[0m \u001b[31m■\u001b[0m \u001b[31m■\u001b[0m ┃  ┃ \u001b[32m■\u001b[0m \u001b[32m■\u001b[0m \u001b[32m■\u001b[0m ┃  ┃ \u001b[35m■\u001b[0m \u001b[35m■\u001b[0m \u001b[35m■\u001b[0m ┃  ┃ \u001b[34m■\u001b[0m \u001b[34m■\u001b[0m \u001b[34m■\u001b[0m ┃  ┃ \u001b[31m■\u001b[0m \u001b[31m■\u001b[0m \u001b[33m■\u001b[0m ┃  ┃ \u001b[32m■\u001b[0m \u001b[32m■\u001b[0m \u001b[32m■\u001b[0m ┃  ┃ \u001b[97m■\u001b[0m \u001b[35m■\u001b[0m \u001b[35m■\u001b[0m ┃  ┃ \u001b[34m■\u001b[0m \u001b[34m■\u001b[0m \u001b[34m■\u001b[0m ┃  ┃ \u001b[31m■\u001b[0m \u001b[31m■\u001b[0m \u001b[97m■\u001b[0m ┃  ┃ \u001b[32m■\u001b[0m \u001b[32m■\u001b[0m \u001b[32m■\u001b[0m ┃  ┃ \u001b[33m■\u001b[0m \u001b[35m■\u001b[0m \u001b[35m■\u001b[0m ┃  ┃ \u001b[34m■\u001b[0m \u001b[34m■\u001b[0m \u001b[34m■\u001b[0m ┃  ┃ \u001b[31m■\u001b[0m \u001b[31m■\u001b[0m \u001b[31m■\u001b[0m ┃  ┃ \u001b[32m■\u001b[0m \u001b[32m■\u001b[0m \u001b[33m■\u001b[0m ┃  ┃ \u001b[35m■\u001b[0m \u001b[35m■\u001b[0m \u001b[35m■\u001b[0m ┃  ┃ \u001b[97m■\u001b[0m \u001b[34m■\u001b[0m \u001b[34m■\u001b[0m ┃  ┃ \u001b[31m■\u001b[0m \u001b[31m■\u001b[0m \u001b[31m■\u001b[0m ┃  ┃ \u001b[32m■\u001b[0m \u001b[32m■\u001b[0m \u001b[97m■\u001b[0m ┃  ┃ \u001b[35m■\u001b[0m \u001b[35m■\u001b[0m \u001b[35m■\u001b[0m ┃  ┃ \u001b[33m■\u001b[0m \u001b[34m■\u001b[0m \u001b[34m■\u001b[0m ┃  ┃ \u001b[31m■\u001b[0m \u001b[31m■\u001b[0m \u001b[31m■\u001b[0m ┃  ┃ \u001b[32m■\u001b[0m \u001b[32m■\u001b[0m \u001b[32m■\u001b[0m ┃  ┃ \u001b[35m■\u001b[0m \u001b[35m■\u001b[0m \u001b[35m■\u001b[0m ┃  ┃ \u001b[34m■\u001b[0m \u001b[34m■\u001b[0m \u001b[34m■\u001b[0m ┃  ┃ \u001b[31m■\u001b[0m \u001b[31m■\u001b[0m \u001b[31m■\u001b[0m ┃  ┃ \u001b[32m■\u001b[0m \u001b[32m■\u001b[0m \u001b[32m■\u001b[0m ┃  ┃ \u001b[35m■\u001b[0m \u001b[35m■\u001b[0m \u001b[35m■\u001b[0m ┃  ┃ \u001b[34m■\u001b[0m \u001b[34m■\u001b[0m \u001b[34m■\u001b[0m ┃  ┃ \u001b[33m■\u001b[0m \u001b[31m■\u001b[0m \u001b[31m■\u001b[0m ┃  ┃ \u001b[32m■\u001b[0m \u001b[32m■\u001b[0m \u001b[32m■\u001b[0m ┃  ┃ \u001b[35m■\u001b[0m \u001b[35m■\u001b[0m \u001b[97m■\u001b[0m ┃  ┃ \u001b[34m■\u001b[0m \u001b[34m■\u001b[0m \u001b[34m■\u001b[0m ┃  ┃ \u001b[97m■\u001b[0m \u001b[31m■\u001b[0m \u001b[31m■\u001b[0m ┃  ┃ \u001b[32m■\u001b[0m \u001b[32m■\u001b[0m \u001b[32m■\u001b[0m ┃  ┃ \u001b[35m■\u001b[0m \u001b[35m■\u001b[0m \u001b[33m■\u001b[0m ┃  ┃ \u001b[34m■\u001b[0m \u001b[34m■\u001b[0m \u001b[34m■\u001b[0m ┃\n",
      "┃ \u001b[31m■\u001b[0m \u001b[31m■\u001b[0m \u001b[31m■\u001b[0m ┃  ┃ \u001b[33m■\u001b[0m \u001b[32m■\u001b[0m \u001b[32m■\u001b[0m ┃  ┃ \u001b[35m■\u001b[0m \u001b[35m■\u001b[0m \u001b[35m■\u001b[0m ┃  ┃ \u001b[34m■\u001b[0m \u001b[34m■\u001b[0m \u001b[97m■\u001b[0m ┃  ┃ \u001b[31m■\u001b[0m \u001b[31m■\u001b[0m \u001b[31m■\u001b[0m ┃  ┃ \u001b[97m■\u001b[0m \u001b[32m■\u001b[0m \u001b[32m■\u001b[0m ┃  ┃ \u001b[35m■\u001b[0m \u001b[35m■\u001b[0m \u001b[35m■\u001b[0m ┃  ┃ \u001b[34m■\u001b[0m \u001b[34m■\u001b[0m \u001b[33m■\u001b[0m ┃  ┃ \u001b[32m■\u001b[0m \u001b[32m■\u001b[0m \u001b[32m■\u001b[0m ┃  ┃ \u001b[35m■\u001b[0m \u001b[35m■\u001b[0m \u001b[35m■\u001b[0m ┃  ┃ \u001b[34m■\u001b[0m \u001b[34m■\u001b[0m \u001b[34m■\u001b[0m ┃  ┃ \u001b[31m■\u001b[0m \u001b[31m■\u001b[0m \u001b[31m■\u001b[0m ┃  ┃ \u001b[34m■\u001b[0m \u001b[34m■\u001b[0m \u001b[34m■\u001b[0m ┃  ┃ \u001b[31m■\u001b[0m \u001b[31m■\u001b[0m \u001b[31m■\u001b[0m ┃  ┃ \u001b[32m■\u001b[0m \u001b[32m■\u001b[0m \u001b[32m■\u001b[0m ┃  ┃ \u001b[35m■\u001b[0m \u001b[35m■\u001b[0m \u001b[35m■\u001b[0m ┃  ┃ \u001b[31m■\u001b[0m \u001b[31m■\u001b[0m \u001b[33m■\u001b[0m ┃  ┃ \u001b[32m■\u001b[0m \u001b[32m■\u001b[0m \u001b[32m■\u001b[0m ┃  ┃ \u001b[97m■\u001b[0m \u001b[35m■\u001b[0m \u001b[35m■\u001b[0m ┃  ┃ \u001b[34m■\u001b[0m \u001b[34m■\u001b[0m \u001b[34m■\u001b[0m ┃  ┃ \u001b[31m■\u001b[0m \u001b[31m■\u001b[0m \u001b[97m■\u001b[0m ┃  ┃ \u001b[32m■\u001b[0m \u001b[32m■\u001b[0m \u001b[32m■\u001b[0m ┃  ┃ \u001b[33m■\u001b[0m \u001b[35m■\u001b[0m \u001b[35m■\u001b[0m ┃  ┃ \u001b[34m■\u001b[0m \u001b[34m■\u001b[0m \u001b[34m■\u001b[0m ┃  ┃ \u001b[31m■\u001b[0m \u001b[31m■\u001b[0m \u001b[31m■\u001b[0m ┃  ┃ \u001b[32m■\u001b[0m \u001b[32m■\u001b[0m \u001b[33m■\u001b[0m ┃  ┃ \u001b[35m■\u001b[0m \u001b[35m■\u001b[0m \u001b[35m■\u001b[0m ┃  ┃ \u001b[97m■\u001b[0m \u001b[34m■\u001b[0m \u001b[34m■\u001b[0m ┃  ┃ \u001b[31m■\u001b[0m \u001b[31m■\u001b[0m \u001b[31m■\u001b[0m ┃  ┃ \u001b[32m■\u001b[0m \u001b[32m■\u001b[0m \u001b[97m■\u001b[0m ┃  ┃ \u001b[35m■\u001b[0m \u001b[35m■\u001b[0m \u001b[35m■\u001b[0m ┃  ┃ \u001b[33m■\u001b[0m \u001b[34m■\u001b[0m \u001b[34m■\u001b[0m ┃  ┃ \u001b[31m■\u001b[0m \u001b[31m■\u001b[0m \u001b[31m■\u001b[0m ┃  ┃ \u001b[32m■\u001b[0m \u001b[32m■\u001b[0m \u001b[32m■\u001b[0m ┃  ┃ \u001b[35m■\u001b[0m \u001b[35m■\u001b[0m \u001b[35m■\u001b[0m ┃  ┃ \u001b[34m■\u001b[0m \u001b[34m■\u001b[0m \u001b[34m■\u001b[0m ┃  ┃ \u001b[31m■\u001b[0m \u001b[31m■\u001b[0m \u001b[31m■\u001b[0m ┃  ┃ \u001b[32m■\u001b[0m \u001b[32m■\u001b[0m \u001b[32m■\u001b[0m ┃  ┃ \u001b[35m■\u001b[0m \u001b[35m■\u001b[0m \u001b[35m■\u001b[0m ┃  ┃ \u001b[34m■\u001b[0m \u001b[34m■\u001b[0m \u001b[34m■\u001b[0m ┃  ┃ \u001b[33m■\u001b[0m \u001b[31m■\u001b[0m \u001b[31m■\u001b[0m ┃  ┃ \u001b[32m■\u001b[0m \u001b[32m■\u001b[0m \u001b[32m■\u001b[0m ┃  ┃ \u001b[35m■\u001b[0m \u001b[35m■\u001b[0m \u001b[97m■\u001b[0m ┃  ┃ \u001b[34m■\u001b[0m \u001b[34m■\u001b[0m \u001b[34m■\u001b[0m ┃  ┃ \u001b[97m■\u001b[0m \u001b[31m■\u001b[0m \u001b[31m■\u001b[0m ┃  ┃ \u001b[32m■\u001b[0m \u001b[32m■\u001b[0m \u001b[32m■\u001b[0m ┃  ┃ \u001b[35m■\u001b[0m \u001b[35m■\u001b[0m \u001b[33m■\u001b[0m ┃  ┃ \u001b[34m■\u001b[0m \u001b[34m■\u001b[0m \u001b[34m■\u001b[0m ┃\n",
      "┗━━━━━━━┛  ┗━━━━━━━┛  ┗━━━━━━━┛  ┗━━━━━━━┛  ┗━━━━━━━┛  ┗━━━━━━━┛  ┗━━━━━━━┛  ┗━━━━━━━┛  ┗━━━━━━━┛  ┗━━━━━━━┛  ┗━━━━━━━┛  ┗━━━━━━━┛  ┗━━━━━━━┛  ┗━━━━━━━┛  ┗━━━━━━━┛  ┗━━━━━━━┛  ┗━━━━━━━┛  ┗━━━━━━━┛  ┗━━━━━━━┛  ┗━━━━━━━┛  ┗━━━━━━━┛  ┗━━━━━━━┛  ┗━━━━━━━┛  ┗━━━━━━━┛  ┗━━━━━━━┛  ┗━━━━━━━┛  ┗━━━━━━━┛  ┗━━━━━━━┛  ┗━━━━━━━┛  ┗━━━━━━━┛  ┗━━━━━━━┛  ┗━━━━━━━┛  ┗━━━━━━━┛  ┗━━━━━━━┛  ┗━━━━━━━┛  ┗━━━━━━━┛  ┗━━━━━━━┛  ┗━━━━━━━┛  ┗━━━━━━━┛  ┗━━━━━━━┛  ┗━━━━━━━┛  ┗━━━━━━━┛  ┗━━━━━━━┛  ┗━━━━━━━┛  ┗━━━━━━━┛  ┗━━━━━━━┛  ┗━━━━━━━┛  ┗━━━━━━━┛\n",
      "           ┏━━down━┓                                   ┏━━down━┓                                   ┏━━down━┓                                   ┏━━down━┓                                   ┏━━down━┓                                   ┏━━down━┓                                   ┏━━down━┓                                   ┏━━down━┓                                   ┏━━down━┓                                   ┏━━down━┓                                   ┏━━down━┓                                   ┏━━down━┓\n",
      "           ┃ \u001b[34m■\u001b[0m \u001b[33m■\u001b[0m \u001b[33m■\u001b[0m ┃                                   ┃ \u001b[32m■\u001b[0m \u001b[33m■\u001b[0m \u001b[33m■\u001b[0m ┃                                   ┃ \u001b[33m■\u001b[0m \u001b[33m■\u001b[0m \u001b[33m■\u001b[0m ┃                                   ┃ \u001b[33m■\u001b[0m \u001b[33m■\u001b[0m \u001b[33m■\u001b[0m ┃                                   ┃ \u001b[35m■\u001b[0m \u001b[35m■\u001b[0m \u001b[35m■\u001b[0m ┃                                   ┃ \u001b[31m■\u001b[0m \u001b[31m■\u001b[0m \u001b[31m■\u001b[0m ┃                                   ┃ \u001b[33m■\u001b[0m \u001b[33m■\u001b[0m \u001b[34m■\u001b[0m ┃                                   ┃ \u001b[33m■\u001b[0m \u001b[33m■\u001b[0m \u001b[32m■\u001b[0m ┃                                   ┃ \u001b[33m■\u001b[0m \u001b[33m■\u001b[0m \u001b[33m■\u001b[0m ┃                                   ┃ \u001b[33m■\u001b[0m \u001b[33m■\u001b[0m \u001b[33m■\u001b[0m ┃                                   ┃ \u001b[33m■\u001b[0m \u001b[33m■\u001b[0m \u001b[33m■\u001b[0m ┃                                   ┃ \u001b[33m■\u001b[0m \u001b[33m■\u001b[0m \u001b[33m■\u001b[0m ┃\n",
      "           ┃ \u001b[34m■\u001b[0m \u001b[33m■\u001b[0m \u001b[33m■\u001b[0m ┃                                   ┃ \u001b[32m■\u001b[0m \u001b[33m■\u001b[0m \u001b[33m■\u001b[0m ┃                                   ┃ \u001b[33m■\u001b[0m \u001b[33m■\u001b[0m \u001b[33m■\u001b[0m ┃                                   ┃ \u001b[33m■\u001b[0m \u001b[33m■\u001b[0m \u001b[33m■\u001b[0m ┃                                   ┃ \u001b[33m■\u001b[0m \u001b[33m■\u001b[0m \u001b[33m■\u001b[0m ┃                                   ┃ \u001b[33m■\u001b[0m \u001b[33m■\u001b[0m \u001b[33m■\u001b[0m ┃                                   ┃ \u001b[33m■\u001b[0m \u001b[33m■\u001b[0m \u001b[34m■\u001b[0m ┃                                   ┃ \u001b[33m■\u001b[0m \u001b[33m■\u001b[0m \u001b[32m■\u001b[0m ┃                                   ┃ \u001b[33m■\u001b[0m \u001b[33m■\u001b[0m \u001b[33m■\u001b[0m ┃                                   ┃ \u001b[33m■\u001b[0m \u001b[33m■\u001b[0m \u001b[33m■\u001b[0m ┃                                   ┃ \u001b[33m■\u001b[0m \u001b[33m■\u001b[0m \u001b[33m■\u001b[0m ┃                                   ┃ \u001b[33m■\u001b[0m \u001b[33m■\u001b[0m \u001b[33m■\u001b[0m ┃\n",
      "           ┃ \u001b[34m■\u001b[0m \u001b[33m■\u001b[0m \u001b[33m■\u001b[0m ┃                                   ┃ \u001b[32m■\u001b[0m \u001b[33m■\u001b[0m \u001b[33m■\u001b[0m ┃                                   ┃ \u001b[33m■\u001b[0m \u001b[33m■\u001b[0m \u001b[33m■\u001b[0m ┃                                   ┃ \u001b[33m■\u001b[0m \u001b[33m■\u001b[0m \u001b[33m■\u001b[0m ┃                                   ┃ \u001b[33m■\u001b[0m \u001b[33m■\u001b[0m \u001b[33m■\u001b[0m ┃                                   ┃ \u001b[33m■\u001b[0m \u001b[33m■\u001b[0m \u001b[33m■\u001b[0m ┃                                   ┃ \u001b[33m■\u001b[0m \u001b[33m■\u001b[0m \u001b[34m■\u001b[0m ┃                                   ┃ \u001b[33m■\u001b[0m \u001b[33m■\u001b[0m \u001b[32m■\u001b[0m ┃                                   ┃ \u001b[33m■\u001b[0m \u001b[33m■\u001b[0m \u001b[33m■\u001b[0m ┃                                   ┃ \u001b[33m■\u001b[0m \u001b[33m■\u001b[0m \u001b[33m■\u001b[0m ┃                                   ┃ \u001b[35m■\u001b[0m \u001b[35m■\u001b[0m \u001b[35m■\u001b[0m ┃                                   ┃ \u001b[31m■\u001b[0m \u001b[31m■\u001b[0m \u001b[31m■\u001b[0m ┃\n",
      "           ┗━━━━━━━┛                                   ┗━━━━━━━┛                                   ┗━━━━━━━┛                                   ┗━━━━━━━┛                                   ┗━━━━━━━┛                                   ┗━━━━━━━┛                                   ┗━━━━━━━┛                                   ┗━━━━━━━┛                                   ┗━━━━━━━┛                                   ┗━━━━━━━┛                                   ┗━━━━━━━┛                                   ┗━━━━━━━┛\n",
      "[1. 1. 1. 1. 1. 1. 1. 1. 1. 1. 1. 1.]\n"
     ]
    }
   ],
   "source": [
    "#check batch generation\n",
    "states = puzzle.get_target_state()\n",
    "print(states)\n",
    "next_states, costs = puzzle.get_neighbours(states)\n",
    "print(next_states)\n",
    "print(costs)"
   ]
  },
  {
   "cell_type": "code",
   "execution_count": 5,
   "metadata": {},
   "outputs": [
    {
     "name": "stdout",
     "output_type": "stream",
     "text": [
      "True\n",
      "False\n"
     ]
    }
   ],
   "source": [
    "print(puzzle.is_solved(states, states))\n",
    "print(puzzle.is_solved(states, next_states[0]))"
   ]
  },
  {
   "cell_type": "code",
   "execution_count": 6,
   "metadata": {},
   "outputs": [
    {
     "name": "stdout",
     "output_type": "stream",
     "text": [
      "up    :\u001b[97m■\u001b[0m   ┏━━━up━━┓                        up    :\u001b[97m■\u001b[0m   ┏━━━up━━┓                        up    :\u001b[97m■\u001b[0m   ┏━━━up━━┓                        ...                   up    :\u001b[97m■\u001b[0m   ┏━━━up━━┓                        up    :\u001b[97m■\u001b[0m   ┏━━━up━━┓                        up    :\u001b[97m■\u001b[0m   ┏━━━up━━┓\n",
      "down  :\u001b[33m■\u001b[0m   ┃ \u001b[32m■\u001b[0m \u001b[97m■\u001b[0m \u001b[32m■\u001b[0m ┃                        down  :\u001b[33m■\u001b[0m   ┃ \u001b[35m■\u001b[0m \u001b[97m■\u001b[0m \u001b[32m■\u001b[0m ┃                        down  :\u001b[33m■\u001b[0m   ┃ \u001b[97m■\u001b[0m \u001b[97m■\u001b[0m \u001b[32m■\u001b[0m ┃                        (batch : (1000, 12))  down  :\u001b[33m■\u001b[0m   ┃ \u001b[97m■\u001b[0m \u001b[34m■\u001b[0m \u001b[31m■\u001b[0m ┃                        down  :\u001b[33m■\u001b[0m   ┃ \u001b[35m■\u001b[0m \u001b[35m■\u001b[0m \u001b[33m■\u001b[0m ┃                        down  :\u001b[33m■\u001b[0m   ┃ \u001b[31m■\u001b[0m \u001b[97m■\u001b[0m \u001b[33m■\u001b[0m ┃\n",
      "left  :\u001b[31m■\u001b[0m   ┃ \u001b[32m■\u001b[0m \u001b[97m■\u001b[0m \u001b[34m■\u001b[0m ┃                        left  :\u001b[31m■\u001b[0m   ┃ \u001b[34m■\u001b[0m \u001b[97m■\u001b[0m \u001b[34m■\u001b[0m ┃                        left  :\u001b[31m■\u001b[0m   ┃ \u001b[97m■\u001b[0m \u001b[97m■\u001b[0m \u001b[34m■\u001b[0m ┃                                              left  :\u001b[31m■\u001b[0m   ┃ \u001b[33m■\u001b[0m \u001b[97m■\u001b[0m \u001b[34m■\u001b[0m ┃                        left  :\u001b[31m■\u001b[0m   ┃ \u001b[31m■\u001b[0m \u001b[97m■\u001b[0m \u001b[34m■\u001b[0m ┃                        left  :\u001b[31m■\u001b[0m   ┃ \u001b[31m■\u001b[0m \u001b[97m■\u001b[0m \u001b[34m■\u001b[0m ┃\n",
      "right :\u001b[35m■\u001b[0m   ┃ \u001b[35m■\u001b[0m \u001b[97m■\u001b[0m \u001b[34m■\u001b[0m ┃                        right :\u001b[35m■\u001b[0m   ┃ \u001b[34m■\u001b[0m \u001b[97m■\u001b[0m \u001b[34m■\u001b[0m ┃                        right :\u001b[35m■\u001b[0m   ┃ \u001b[97m■\u001b[0m \u001b[97m■\u001b[0m \u001b[34m■\u001b[0m ┃                                              right :\u001b[35m■\u001b[0m   ┃ \u001b[31m■\u001b[0m \u001b[31m■\u001b[0m \u001b[97m■\u001b[0m ┃                        right :\u001b[35m■\u001b[0m   ┃ \u001b[97m■\u001b[0m \u001b[34m■\u001b[0m \u001b[31m■\u001b[0m ┃                        right :\u001b[35m■\u001b[0m   ┃ \u001b[97m■\u001b[0m \u001b[34m■\u001b[0m \u001b[31m■\u001b[0m ┃\n",
      "front :\u001b[32m■\u001b[0m   ┗━━━━━━━┛                        front :\u001b[32m■\u001b[0m   ┗━━━━━━━┛                        front :\u001b[32m■\u001b[0m   ┗━━━━━━━┛                                              front :\u001b[32m■\u001b[0m   ┗━━━━━━━┛                        front :\u001b[32m■\u001b[0m   ┗━━━━━━━┛                        front :\u001b[32m■\u001b[0m   ┗━━━━━━━┛\n",
      "back  :\u001b[34m■\u001b[0m                                    back  :\u001b[34m■\u001b[0m                                    back  :\u001b[34m■\u001b[0m                                                          back  :\u001b[34m■\u001b[0m                                    back  :\u001b[34m■\u001b[0m                                    back  :\u001b[34m■\u001b[0m\n",
      "┏━━left━┓  ┏━front━┓  ┏━right━┓  ┏━━back━┓  ┏━━left━┓  ┏━front━┓  ┏━right━┓  ┏━━back━┓  ┏━━left━┓  ┏━front━┓  ┏━right━┓  ┏━━back━┓                        ┏━━left━┓  ┏━front━┓  ┏━right━┓  ┏━━back━┓  ┏━━left━┓  ┏━front━┓  ┏━right━┓  ┏━━back━┓  ┏━━left━┓  ┏━front━┓  ┏━right━┓  ┏━━back━┓\n",
      "┃ \u001b[31m■\u001b[0m \u001b[31m■\u001b[0m \u001b[97m■\u001b[0m ┃  ┃ \u001b[32m■\u001b[0m \u001b[32m■\u001b[0m \u001b[97m■\u001b[0m ┃  ┃ \u001b[35m■\u001b[0m \u001b[35m■\u001b[0m \u001b[31m■\u001b[0m ┃  ┃ \u001b[33m■\u001b[0m \u001b[34m■\u001b[0m \u001b[97m■\u001b[0m ┃  ┃ \u001b[34m■\u001b[0m \u001b[31m■\u001b[0m \u001b[31m■\u001b[0m ┃  ┃ \u001b[97m■\u001b[0m \u001b[32m■\u001b[0m \u001b[97m■\u001b[0m ┃  ┃ \u001b[35m■\u001b[0m \u001b[35m■\u001b[0m \u001b[31m■\u001b[0m ┃  ┃ \u001b[33m■\u001b[0m \u001b[34m■\u001b[0m \u001b[33m■\u001b[0m ┃  ┃ \u001b[31m■\u001b[0m \u001b[31m■\u001b[0m \u001b[31m■\u001b[0m ┃  ┃ \u001b[32m■\u001b[0m \u001b[32m■\u001b[0m \u001b[97m■\u001b[0m ┃  ┃ \u001b[35m■\u001b[0m \u001b[35m■\u001b[0m \u001b[31m■\u001b[0m ┃  ┃ \u001b[33m■\u001b[0m \u001b[34m■\u001b[0m \u001b[34m■\u001b[0m ┃                        ┃ \u001b[32m■\u001b[0m \u001b[35m■\u001b[0m \u001b[34m■\u001b[0m ┃  ┃ \u001b[33m■\u001b[0m \u001b[34m■\u001b[0m \u001b[34m■\u001b[0m ┃  ┃ \u001b[31m■\u001b[0m \u001b[33m■\u001b[0m \u001b[33m■\u001b[0m ┃  ┃ \u001b[32m■\u001b[0m \u001b[97m■\u001b[0m \u001b[31m■\u001b[0m ┃  ┃ \u001b[97m■\u001b[0m \u001b[34m■\u001b[0m \u001b[34m■\u001b[0m ┃  ┃ \u001b[31m■\u001b[0m \u001b[33m■\u001b[0m \u001b[33m■\u001b[0m ┃  ┃ \u001b[32m■\u001b[0m \u001b[97m■\u001b[0m \u001b[31m■\u001b[0m ┃  ┃ \u001b[34m■\u001b[0m \u001b[32m■\u001b[0m \u001b[34m■\u001b[0m ┃  ┃ \u001b[97m■\u001b[0m \u001b[34m■\u001b[0m \u001b[34m■\u001b[0m ┃  ┃ \u001b[31m■\u001b[0m \u001b[33m■\u001b[0m \u001b[33m■\u001b[0m ┃  ┃ \u001b[32m■\u001b[0m \u001b[97m■\u001b[0m \u001b[34m■\u001b[0m ┃  ┃ \u001b[35m■\u001b[0m \u001b[35m■\u001b[0m \u001b[32m■\u001b[0m ┃\n",
      "┃ \u001b[31m■\u001b[0m \u001b[31m■\u001b[0m \u001b[34m■\u001b[0m ┃  ┃ \u001b[33m■\u001b[0m \u001b[32m■\u001b[0m \u001b[97m■\u001b[0m ┃  ┃ \u001b[35m■\u001b[0m \u001b[35m■\u001b[0m \u001b[31m■\u001b[0m ┃  ┃ \u001b[33m■\u001b[0m \u001b[34m■\u001b[0m \u001b[97m■\u001b[0m ┃  ┃ \u001b[34m■\u001b[0m \u001b[31m■\u001b[0m \u001b[31m■\u001b[0m ┃  ┃ \u001b[97m■\u001b[0m \u001b[32m■\u001b[0m \u001b[97m■\u001b[0m ┃  ┃ \u001b[35m■\u001b[0m \u001b[35m■\u001b[0m \u001b[31m■\u001b[0m ┃  ┃ \u001b[33m■\u001b[0m \u001b[34m■\u001b[0m \u001b[33m■\u001b[0m ┃  ┃ \u001b[31m■\u001b[0m \u001b[31m■\u001b[0m \u001b[31m■\u001b[0m ┃  ┃ \u001b[32m■\u001b[0m \u001b[32m■\u001b[0m \u001b[97m■\u001b[0m ┃  ┃ \u001b[35m■\u001b[0m \u001b[35m■\u001b[0m \u001b[31m■\u001b[0m ┃  ┃ \u001b[33m■\u001b[0m \u001b[34m■\u001b[0m \u001b[34m■\u001b[0m ┃                        ┃ \u001b[35m■\u001b[0m \u001b[31m■\u001b[0m \u001b[31m■\u001b[0m ┃  ┃ \u001b[32m■\u001b[0m \u001b[32m■\u001b[0m \u001b[35m■\u001b[0m ┃  ┃ \u001b[34m■\u001b[0m \u001b[35m■\u001b[0m \u001b[97m■\u001b[0m ┃  ┃ \u001b[35m■\u001b[0m \u001b[34m■\u001b[0m \u001b[32m■\u001b[0m ┃  ┃ \u001b[31m■\u001b[0m \u001b[31m■\u001b[0m \u001b[31m■\u001b[0m ┃  ┃ \u001b[32m■\u001b[0m \u001b[32m■\u001b[0m \u001b[35m■\u001b[0m ┃  ┃ \u001b[34m■\u001b[0m \u001b[35m■\u001b[0m \u001b[33m■\u001b[0m ┃  ┃ \u001b[35m■\u001b[0m \u001b[34m■\u001b[0m \u001b[97m■\u001b[0m ┃  ┃ \u001b[33m■\u001b[0m \u001b[31m■\u001b[0m \u001b[31m■\u001b[0m ┃  ┃ \u001b[32m■\u001b[0m \u001b[32m■\u001b[0m \u001b[35m■\u001b[0m ┃  ┃ \u001b[34m■\u001b[0m \u001b[35m■\u001b[0m \u001b[31m■\u001b[0m ┃  ┃ \u001b[97m■\u001b[0m \u001b[34m■\u001b[0m \u001b[35m■\u001b[0m ┃\n",
      "┃ \u001b[31m■\u001b[0m \u001b[31m■\u001b[0m \u001b[34m■\u001b[0m ┃  ┃ \u001b[33m■\u001b[0m \u001b[35m■\u001b[0m \u001b[31m■\u001b[0m ┃  ┃ \u001b[33m■\u001b[0m \u001b[32m■\u001b[0m \u001b[32m■\u001b[0m ┃  ┃ \u001b[35m■\u001b[0m \u001b[35m■\u001b[0m \u001b[97m■\u001b[0m ┃  ┃ \u001b[97m■\u001b[0m \u001b[31m■\u001b[0m \u001b[31m■\u001b[0m ┃  ┃ \u001b[97m■\u001b[0m \u001b[35m■\u001b[0m \u001b[31m■\u001b[0m ┃  ┃ \u001b[33m■\u001b[0m \u001b[32m■\u001b[0m \u001b[32m■\u001b[0m ┃  ┃ \u001b[35m■\u001b[0m \u001b[35m■\u001b[0m \u001b[32m■\u001b[0m ┃  ┃ \u001b[35m■\u001b[0m \u001b[35m■\u001b[0m \u001b[31m■\u001b[0m ┃  ┃ \u001b[33m■\u001b[0m \u001b[32m■\u001b[0m \u001b[32m■\u001b[0m ┃  ┃ \u001b[35m■\u001b[0m \u001b[35m■\u001b[0m \u001b[35m■\u001b[0m ┃  ┃ \u001b[34m■\u001b[0m \u001b[34m■\u001b[0m \u001b[97m■\u001b[0m ┃                        ┃ \u001b[35m■\u001b[0m \u001b[31m■\u001b[0m \u001b[32m■\u001b[0m ┃  ┃ \u001b[97m■\u001b[0m \u001b[32m■\u001b[0m \u001b[32m■\u001b[0m ┃  ┃ \u001b[35m■\u001b[0m \u001b[32m■\u001b[0m \u001b[33m■\u001b[0m ┃  ┃ \u001b[35m■\u001b[0m \u001b[97m■\u001b[0m \u001b[34m■\u001b[0m ┃  ┃ \u001b[34m■\u001b[0m \u001b[31m■\u001b[0m \u001b[32m■\u001b[0m ┃  ┃ \u001b[97m■\u001b[0m \u001b[32m■\u001b[0m \u001b[32m■\u001b[0m ┃  ┃ \u001b[35m■\u001b[0m \u001b[32m■\u001b[0m \u001b[97m■\u001b[0m ┃  ┃ \u001b[32m■\u001b[0m \u001b[35m■\u001b[0m \u001b[35m■\u001b[0m ┃  ┃ \u001b[31m■\u001b[0m \u001b[31m■\u001b[0m \u001b[32m■\u001b[0m ┃  ┃ \u001b[97m■\u001b[0m \u001b[32m■\u001b[0m \u001b[32m■\u001b[0m ┃  ┃ \u001b[35m■\u001b[0m \u001b[32m■\u001b[0m \u001b[97m■\u001b[0m ┃  ┃ \u001b[34m■\u001b[0m \u001b[32m■\u001b[0m \u001b[34m■\u001b[0m ┃\n",
      "┗━━━━━━━┛  ┗━━━━━━━┛  ┗━━━━━━━┛  ┗━━━━━━━┛  ┗━━━━━━━┛  ┗━━━━━━━┛  ┗━━━━━━━┛  ┗━━━━━━━┛  ┗━━━━━━━┛  ┗━━━━━━━┛  ┗━━━━━━━┛  ┗━━━━━━━┛                        ┗━━━━━━━┛  ┗━━━━━━━┛  ┗━━━━━━━┛  ┗━━━━━━━┛  ┗━━━━━━━┛  ┗━━━━━━━┛  ┗━━━━━━━┛  ┗━━━━━━━┛  ┗━━━━━━━┛  ┗━━━━━━━┛  ┗━━━━━━━┛  ┗━━━━━━━┛\n",
      "           ┏━━down━┓                                   ┏━━down━┓                                   ┏━━down━┓                                                         ┏━━down━┓                                   ┏━━down━┓                                   ┏━━down━┓\n",
      "           ┃ \u001b[35m■\u001b[0m \u001b[32m■\u001b[0m \u001b[34m■\u001b[0m ┃                                   ┃ \u001b[32m■\u001b[0m \u001b[32m■\u001b[0m \u001b[34m■\u001b[0m ┃                                   ┃ \u001b[34m■\u001b[0m \u001b[33m■\u001b[0m \u001b[33m■\u001b[0m ┃                                                         ┃ \u001b[35m■\u001b[0m \u001b[33m■\u001b[0m \u001b[33m■\u001b[0m ┃                                   ┃ \u001b[35m■\u001b[0m \u001b[33m■\u001b[0m \u001b[33m■\u001b[0m ┃                                   ┃ \u001b[35m■\u001b[0m \u001b[33m■\u001b[0m \u001b[33m■\u001b[0m ┃\n",
      "           ┃ \u001b[34m■\u001b[0m \u001b[33m■\u001b[0m \u001b[33m■\u001b[0m ┃                                   ┃ \u001b[32m■\u001b[0m \u001b[33m■\u001b[0m \u001b[33m■\u001b[0m ┃                                   ┃ \u001b[32m■\u001b[0m \u001b[33m■\u001b[0m \u001b[33m■\u001b[0m ┃                                                         ┃ \u001b[33m■\u001b[0m \u001b[33m■\u001b[0m \u001b[97m■\u001b[0m ┃                                   ┃ \u001b[33m■\u001b[0m \u001b[33m■\u001b[0m \u001b[97m■\u001b[0m ┃                                   ┃ \u001b[33m■\u001b[0m \u001b[33m■\u001b[0m \u001b[97m■\u001b[0m ┃\n",
      "           ┃ \u001b[34m■\u001b[0m \u001b[33m■\u001b[0m \u001b[33m■\u001b[0m ┃                                   ┃ \u001b[35m■\u001b[0m \u001b[33m■\u001b[0m \u001b[33m■\u001b[0m ┃                                   ┃ \u001b[32m■\u001b[0m \u001b[33m■\u001b[0m \u001b[33m■\u001b[0m ┃                                                         ┃ \u001b[97m■\u001b[0m \u001b[31m■\u001b[0m \u001b[34m■\u001b[0m ┃                                   ┃ \u001b[33m■\u001b[0m \u001b[97m■\u001b[0m \u001b[31m■\u001b[0m ┃                                   ┃ \u001b[33m■\u001b[0m \u001b[35m■\u001b[0m \u001b[35m■\u001b[0m ┃\n",
      "           ┗━━━━━━━┛                                   ┗━━━━━━━┛                                   ┗━━━━━━━┛                                                         ┗━━━━━━━┛                                   ┗━━━━━━━┛                                   ┗━━━━━━━┛\n",
      "12000 (12, 6, 9)\n",
      "shape(faces=(12000, 6, 9))\n",
      "dtype(faces=dtype('uint8'))\n",
      "(12000,)\n"
     ]
    }
   ],
   "source": [
    "# check batch neighbours\n",
    "states = jax.vmap(puzzle.get_initial_state, in_axes=0)(key=jax.random.split(jax.random.PRNGKey(0),int(1e3))) # total 10 million states\n",
    "next_states, costs = jax.vmap(puzzle.get_neighbours, in_axes=0)(states)\n",
    "print(next_states)\n",
    "next_states = next_states.flatten()\n",
    "costs = costs.flatten()\n",
    "print(next_states.shape)\n",
    "print(next_states.dtype)\n",
    "print(costs.shape)"
   ]
  },
  {
   "cell_type": "code",
   "execution_count": 7,
   "metadata": {},
   "outputs": [],
   "source": [
    "puzzle_hash_fun: callable = hash_func_builder(puzzle.State)"
   ]
  },
  {
   "cell_type": "code",
   "execution_count": 8,
   "metadata": {},
   "outputs": [
    {
     "name": "stdout",
     "output_type": "stream",
     "text": [
      "(1000,)\n",
      "uint32\n",
      "(1000,)\n",
      "(1000, 6, 9)\n",
      "(12000,)\n",
      "uint32\n",
      "(11998,)\n",
      "(11998, 6, 9)\n"
     ]
    }
   ],
   "source": [
    "#check hashing\n",
    "hashes = jax.vmap(puzzle_hash_fun, in_axes=(0, None))(states, 1)\n",
    "#count hash collision\n",
    "print(hashes.shape)\n",
    "print(hashes.dtype)\n",
    "print(jnp.unique(hashes).shape) # Low collision\n",
    "print(jnp.unique(states.faces, axis=0).shape) # Low collision\n",
    "\n",
    "hashes = jax.vmap(puzzle_hash_fun, in_axes=(0, None))(next_states, 1)\n",
    "#count hash collision\n",
    "print(hashes.shape)\n",
    "print(hashes.dtype)\n",
    "print(jnp.unique(hashes).shape) # High collision\n",
    "print(jnp.unique(next_states.faces, axis=0).shape) # High collision"
   ]
  },
  {
   "cell_type": "code",
   "execution_count": 9,
   "metadata": {},
   "outputs": [
    {
     "name": "stdout",
     "output_type": "stream",
     "text": [
      "Heuristic\n",
      "[2.    2.    2.125 ... 5.125 4.375 4.875]\n"
     ]
    }
   ],
   "source": [
    "#check heuristic\n",
    "print(\"Heuristic\")\n",
    "dist = jax.vmap(heuristic.distance, in_axes=(0, None))(next_states, states[0])\n",
    "print(dist)"
   ]
  },
  {
   "cell_type": "code",
   "execution_count": 10,
   "metadata": {},
   "outputs": [
    {
     "name": "stdout",
     "output_type": "stream",
     "text": [
      "up    :\u001b[97m■\u001b[0m   ┏━━━up━━┓                        up    :\u001b[97m■\u001b[0m   ┏━━━up━━┓                        up    :\u001b[97m■\u001b[0m   ┏━━━up━━┓                        up    :\u001b[97m■\u001b[0m   ┏━━━up━━┓                        up    :\u001b[97m■\u001b[0m   ┏━━━up━━┓                        up    :\u001b[97m■\u001b[0m   ┏━━━up━━┓                        up    :\u001b[97m■\u001b[0m   ┏━━━up━━┓                        up    :\u001b[97m■\u001b[0m   ┏━━━up━━┓                        up    :\u001b[97m■\u001b[0m   ┏━━━up━━┓                        up    :\u001b[97m■\u001b[0m   ┏━━━up━━┓                        up    :\u001b[97m■\u001b[0m   ┏━━━up━━┓                        up    :\u001b[97m■\u001b[0m   ┏━━━up━━┓                        batch : (12,)\n",
      "down  :\u001b[33m■\u001b[0m   ┃ \u001b[32m■\u001b[0m \u001b[97m■\u001b[0m \u001b[97m■\u001b[0m ┃                        down  :\u001b[33m■\u001b[0m   ┃ \u001b[34m■\u001b[0m \u001b[97m■\u001b[0m \u001b[97m■\u001b[0m ┃                        down  :\u001b[33m■\u001b[0m   ┃ \u001b[97m■\u001b[0m \u001b[97m■\u001b[0m \u001b[97m■\u001b[0m ┃                        down  :\u001b[33m■\u001b[0m   ┃ \u001b[97m■\u001b[0m \u001b[97m■\u001b[0m \u001b[97m■\u001b[0m ┃                        down  :\u001b[33m■\u001b[0m   ┃ \u001b[97m■\u001b[0m \u001b[97m■\u001b[0m \u001b[97m■\u001b[0m ┃                        down  :\u001b[33m■\u001b[0m   ┃ \u001b[97m■\u001b[0m \u001b[97m■\u001b[0m \u001b[97m■\u001b[0m ┃                        down  :\u001b[33m■\u001b[0m   ┃ \u001b[97m■\u001b[0m \u001b[97m■\u001b[0m \u001b[32m■\u001b[0m ┃                        down  :\u001b[33m■\u001b[0m   ┃ \u001b[97m■\u001b[0m \u001b[97m■\u001b[0m \u001b[34m■\u001b[0m ┃                        down  :\u001b[33m■\u001b[0m   ┃ \u001b[97m■\u001b[0m \u001b[97m■\u001b[0m \u001b[97m■\u001b[0m ┃                        down  :\u001b[33m■\u001b[0m   ┃ \u001b[97m■\u001b[0m \u001b[97m■\u001b[0m \u001b[97m■\u001b[0m ┃                        down  :\u001b[33m■\u001b[0m   ┃ \u001b[31m■\u001b[0m \u001b[31m■\u001b[0m \u001b[31m■\u001b[0m ┃                        down  :\u001b[33m■\u001b[0m   ┃ \u001b[35m■\u001b[0m \u001b[35m■\u001b[0m \u001b[35m■\u001b[0m ┃\n",
      "left  :\u001b[31m■\u001b[0m   ┃ \u001b[32m■\u001b[0m \u001b[97m■\u001b[0m \u001b[97m■\u001b[0m ┃                        left  :\u001b[31m■\u001b[0m   ┃ \u001b[34m■\u001b[0m \u001b[97m■\u001b[0m \u001b[97m■\u001b[0m ┃                        left  :\u001b[31m■\u001b[0m   ┃ \u001b[97m■\u001b[0m \u001b[97m■\u001b[0m \u001b[97m■\u001b[0m ┃                        left  :\u001b[31m■\u001b[0m   ┃ \u001b[97m■\u001b[0m \u001b[97m■\u001b[0m \u001b[97m■\u001b[0m ┃                        left  :\u001b[31m■\u001b[0m   ┃ \u001b[97m■\u001b[0m \u001b[97m■\u001b[0m \u001b[97m■\u001b[0m ┃                        left  :\u001b[31m■\u001b[0m   ┃ \u001b[97m■\u001b[0m \u001b[97m■\u001b[0m \u001b[97m■\u001b[0m ┃                        left  :\u001b[31m■\u001b[0m   ┃ \u001b[97m■\u001b[0m \u001b[97m■\u001b[0m \u001b[32m■\u001b[0m ┃                        left  :\u001b[31m■\u001b[0m   ┃ \u001b[97m■\u001b[0m \u001b[97m■\u001b[0m \u001b[34m■\u001b[0m ┃                        left  :\u001b[31m■\u001b[0m   ┃ \u001b[97m■\u001b[0m \u001b[97m■\u001b[0m \u001b[97m■\u001b[0m ┃                        left  :\u001b[31m■\u001b[0m   ┃ \u001b[97m■\u001b[0m \u001b[97m■\u001b[0m \u001b[97m■\u001b[0m ┃                        left  :\u001b[31m■\u001b[0m   ┃ \u001b[97m■\u001b[0m \u001b[97m■\u001b[0m \u001b[97m■\u001b[0m ┃                        left  :\u001b[31m■\u001b[0m   ┃ \u001b[97m■\u001b[0m \u001b[97m■\u001b[0m \u001b[97m■\u001b[0m ┃\n",
      "right :\u001b[35m■\u001b[0m   ┃ \u001b[32m■\u001b[0m \u001b[97m■\u001b[0m \u001b[97m■\u001b[0m ┃                        right :\u001b[35m■\u001b[0m   ┃ \u001b[34m■\u001b[0m \u001b[97m■\u001b[0m \u001b[97m■\u001b[0m ┃                        right :\u001b[35m■\u001b[0m   ┃ \u001b[97m■\u001b[0m \u001b[97m■\u001b[0m \u001b[97m■\u001b[0m ┃                        right :\u001b[35m■\u001b[0m   ┃ \u001b[97m■\u001b[0m \u001b[97m■\u001b[0m \u001b[97m■\u001b[0m ┃                        right :\u001b[35m■\u001b[0m   ┃ \u001b[31m■\u001b[0m \u001b[31m■\u001b[0m \u001b[31m■\u001b[0m ┃                        right :\u001b[35m■\u001b[0m   ┃ \u001b[35m■\u001b[0m \u001b[35m■\u001b[0m \u001b[35m■\u001b[0m ┃                        right :\u001b[35m■\u001b[0m   ┃ \u001b[97m■\u001b[0m \u001b[97m■\u001b[0m \u001b[32m■\u001b[0m ┃                        right :\u001b[35m■\u001b[0m   ┃ \u001b[97m■\u001b[0m \u001b[97m■\u001b[0m \u001b[34m■\u001b[0m ┃                        right :\u001b[35m■\u001b[0m   ┃ \u001b[97m■\u001b[0m \u001b[97m■\u001b[0m \u001b[97m■\u001b[0m ┃                        right :\u001b[35m■\u001b[0m   ┃ \u001b[97m■\u001b[0m \u001b[97m■\u001b[0m \u001b[97m■\u001b[0m ┃                        right :\u001b[35m■\u001b[0m   ┃ \u001b[97m■\u001b[0m \u001b[97m■\u001b[0m \u001b[97m■\u001b[0m ┃                        right :\u001b[35m■\u001b[0m   ┃ \u001b[97m■\u001b[0m \u001b[97m■\u001b[0m \u001b[97m■\u001b[0m ┃\n",
      "front :\u001b[32m■\u001b[0m   ┗━━━━━━━┛                        front :\u001b[32m■\u001b[0m   ┗━━━━━━━┛                        front :\u001b[32m■\u001b[0m   ┗━━━━━━━┛                        front :\u001b[32m■\u001b[0m   ┗━━━━━━━┛                        front :\u001b[32m■\u001b[0m   ┗━━━━━━━┛                        front :\u001b[32m■\u001b[0m   ┗━━━━━━━┛                        front :\u001b[32m■\u001b[0m   ┗━━━━━━━┛                        front :\u001b[32m■\u001b[0m   ┗━━━━━━━┛                        front :\u001b[32m■\u001b[0m   ┗━━━━━━━┛                        front :\u001b[32m■\u001b[0m   ┗━━━━━━━┛                        front :\u001b[32m■\u001b[0m   ┗━━━━━━━┛                        front :\u001b[32m■\u001b[0m   ┗━━━━━━━┛\n",
      "back  :\u001b[34m■\u001b[0m                                    back  :\u001b[34m■\u001b[0m                                    back  :\u001b[34m■\u001b[0m                                    back  :\u001b[34m■\u001b[0m                                    back  :\u001b[34m■\u001b[0m                                    back  :\u001b[34m■\u001b[0m                                    back  :\u001b[34m■\u001b[0m                                    back  :\u001b[34m■\u001b[0m                                    back  :\u001b[34m■\u001b[0m                                    back  :\u001b[34m■\u001b[0m                                    back  :\u001b[34m■\u001b[0m                                    back  :\u001b[34m■\u001b[0m\n",
      "┏━━left━┓  ┏━front━┓  ┏━right━┓  ┏━━back━┓  ┏━━left━┓  ┏━front━┓  ┏━right━┓  ┏━━back━┓  ┏━━left━┓  ┏━front━┓  ┏━right━┓  ┏━━back━┓  ┏━━left━┓  ┏━front━┓  ┏━right━┓  ┏━━back━┓  ┏━━left━┓  ┏━front━┓  ┏━right━┓  ┏━━back━┓  ┏━━left━┓  ┏━front━┓  ┏━right━┓  ┏━━back━┓  ┏━━left━┓  ┏━front━┓  ┏━right━┓  ┏━━back━┓  ┏━━left━┓  ┏━front━┓  ┏━right━┓  ┏━━back━┓  ┏━━left━┓  ┏━front━┓  ┏━right━┓  ┏━━back━┓  ┏━━left━┓  ┏━front━┓  ┏━right━┓  ┏━━back━┓  ┏━━left━┓  ┏━front━┓  ┏━right━┓  ┏━━back━┓  ┏━━left━┓  ┏━front━┓  ┏━right━┓  ┏━━back━┓\n",
      "┃ \u001b[31m■\u001b[0m \u001b[31m■\u001b[0m \u001b[31m■\u001b[0m ┃  ┃ \u001b[33m■\u001b[0m \u001b[32m■\u001b[0m \u001b[32m■\u001b[0m ┃  ┃ \u001b[35m■\u001b[0m \u001b[35m■\u001b[0m \u001b[35m■\u001b[0m ┃  ┃ \u001b[34m■\u001b[0m \u001b[34m■\u001b[0m \u001b[97m■\u001b[0m ┃  ┃ \u001b[31m■\u001b[0m \u001b[31m■\u001b[0m \u001b[31m■\u001b[0m ┃  ┃ \u001b[97m■\u001b[0m \u001b[32m■\u001b[0m \u001b[32m■\u001b[0m ┃  ┃ \u001b[35m■\u001b[0m \u001b[35m■\u001b[0m \u001b[35m■\u001b[0m ┃  ┃ \u001b[34m■\u001b[0m \u001b[34m■\u001b[0m \u001b[33m■\u001b[0m ┃  ┃ \u001b[31m■\u001b[0m \u001b[31m■\u001b[0m \u001b[31m■\u001b[0m ┃  ┃ \u001b[32m■\u001b[0m \u001b[32m■\u001b[0m \u001b[32m■\u001b[0m ┃  ┃ \u001b[35m■\u001b[0m \u001b[35m■\u001b[0m \u001b[35m■\u001b[0m ┃  ┃ \u001b[34m■\u001b[0m \u001b[34m■\u001b[0m \u001b[34m■\u001b[0m ┃  ┃ \u001b[31m■\u001b[0m \u001b[31m■\u001b[0m \u001b[31m■\u001b[0m ┃  ┃ \u001b[32m■\u001b[0m \u001b[32m■\u001b[0m \u001b[32m■\u001b[0m ┃  ┃ \u001b[35m■\u001b[0m \u001b[35m■\u001b[0m \u001b[35m■\u001b[0m ┃  ┃ \u001b[34m■\u001b[0m \u001b[34m■\u001b[0m \u001b[34m■\u001b[0m ┃  ┃ \u001b[31m■\u001b[0m \u001b[31m■\u001b[0m \u001b[33m■\u001b[0m ┃  ┃ \u001b[32m■\u001b[0m \u001b[32m■\u001b[0m \u001b[32m■\u001b[0m ┃  ┃ \u001b[97m■\u001b[0m \u001b[35m■\u001b[0m \u001b[35m■\u001b[0m ┃  ┃ \u001b[34m■\u001b[0m \u001b[34m■\u001b[0m \u001b[34m■\u001b[0m ┃  ┃ \u001b[31m■\u001b[0m \u001b[31m■\u001b[0m \u001b[97m■\u001b[0m ┃  ┃ \u001b[32m■\u001b[0m \u001b[32m■\u001b[0m \u001b[32m■\u001b[0m ┃  ┃ \u001b[33m■\u001b[0m \u001b[35m■\u001b[0m \u001b[35m■\u001b[0m ┃  ┃ \u001b[34m■\u001b[0m \u001b[34m■\u001b[0m \u001b[34m■\u001b[0m ┃  ┃ \u001b[31m■\u001b[0m \u001b[31m■\u001b[0m \u001b[31m■\u001b[0m ┃  ┃ \u001b[32m■\u001b[0m \u001b[32m■\u001b[0m \u001b[33m■\u001b[0m ┃  ┃ \u001b[35m■\u001b[0m \u001b[35m■\u001b[0m \u001b[35m■\u001b[0m ┃  ┃ \u001b[97m■\u001b[0m \u001b[34m■\u001b[0m \u001b[34m■\u001b[0m ┃  ┃ \u001b[31m■\u001b[0m \u001b[31m■\u001b[0m \u001b[31m■\u001b[0m ┃  ┃ \u001b[32m■\u001b[0m \u001b[32m■\u001b[0m \u001b[97m■\u001b[0m ┃  ┃ \u001b[35m■\u001b[0m \u001b[35m■\u001b[0m \u001b[35m■\u001b[0m ┃  ┃ \u001b[33m■\u001b[0m \u001b[34m■\u001b[0m \u001b[34m■\u001b[0m ┃  ┃ \u001b[32m■\u001b[0m \u001b[32m■\u001b[0m \u001b[32m■\u001b[0m ┃  ┃ \u001b[35m■\u001b[0m \u001b[35m■\u001b[0m \u001b[35m■\u001b[0m ┃  ┃ \u001b[34m■\u001b[0m \u001b[34m■\u001b[0m \u001b[34m■\u001b[0m ┃  ┃ \u001b[31m■\u001b[0m \u001b[31m■\u001b[0m \u001b[31m■\u001b[0m ┃  ┃ \u001b[34m■\u001b[0m \u001b[34m■\u001b[0m \u001b[34m■\u001b[0m ┃  ┃ \u001b[31m■\u001b[0m \u001b[31m■\u001b[0m \u001b[31m■\u001b[0m ┃  ┃ \u001b[32m■\u001b[0m \u001b[32m■\u001b[0m \u001b[32m■\u001b[0m ┃  ┃ \u001b[35m■\u001b[0m \u001b[35m■\u001b[0m \u001b[35m■\u001b[0m ┃  ┃ \u001b[33m■\u001b[0m \u001b[31m■\u001b[0m \u001b[31m■\u001b[0m ┃  ┃ \u001b[32m■\u001b[0m \u001b[32m■\u001b[0m \u001b[32m■\u001b[0m ┃  ┃ \u001b[35m■\u001b[0m \u001b[35m■\u001b[0m \u001b[97m■\u001b[0m ┃  ┃ \u001b[34m■\u001b[0m \u001b[34m■\u001b[0m \u001b[34m■\u001b[0m ┃  ┃ \u001b[97m■\u001b[0m \u001b[31m■\u001b[0m \u001b[31m■\u001b[0m ┃  ┃ \u001b[32m■\u001b[0m \u001b[32m■\u001b[0m \u001b[32m■\u001b[0m ┃  ┃ \u001b[35m■\u001b[0m \u001b[35m■\u001b[0m \u001b[33m■\u001b[0m ┃  ┃ \u001b[34m■\u001b[0m \u001b[34m■\u001b[0m \u001b[34m■\u001b[0m ┃\n",
      "┃ \u001b[31m■\u001b[0m \u001b[31m■\u001b[0m \u001b[31m■\u001b[0m ┃  ┃ \u001b[33m■\u001b[0m \u001b[32m■\u001b[0m \u001b[32m■\u001b[0m ┃  ┃ \u001b[35m■\u001b[0m \u001b[35m■\u001b[0m \u001b[35m■\u001b[0m ┃  ┃ \u001b[34m■\u001b[0m \u001b[34m■\u001b[0m \u001b[97m■\u001b[0m ┃  ┃ \u001b[31m■\u001b[0m \u001b[31m■\u001b[0m \u001b[31m■\u001b[0m ┃  ┃ \u001b[97m■\u001b[0m \u001b[32m■\u001b[0m \u001b[32m■\u001b[0m ┃  ┃ \u001b[35m■\u001b[0m \u001b[35m■\u001b[0m \u001b[35m■\u001b[0m ┃  ┃ \u001b[34m■\u001b[0m \u001b[34m■\u001b[0m \u001b[33m■\u001b[0m ┃  ┃ \u001b[31m■\u001b[0m \u001b[31m■\u001b[0m \u001b[31m■\u001b[0m ┃  ┃ \u001b[32m■\u001b[0m \u001b[32m■\u001b[0m \u001b[32m■\u001b[0m ┃  ┃ \u001b[35m■\u001b[0m \u001b[35m■\u001b[0m \u001b[35m■\u001b[0m ┃  ┃ \u001b[34m■\u001b[0m \u001b[34m■\u001b[0m \u001b[34m■\u001b[0m ┃  ┃ \u001b[31m■\u001b[0m \u001b[31m■\u001b[0m \u001b[31m■\u001b[0m ┃  ┃ \u001b[32m■\u001b[0m \u001b[32m■\u001b[0m \u001b[32m■\u001b[0m ┃  ┃ \u001b[35m■\u001b[0m \u001b[35m■\u001b[0m \u001b[35m■\u001b[0m ┃  ┃ \u001b[34m■\u001b[0m \u001b[34m■\u001b[0m \u001b[34m■\u001b[0m ┃  ┃ \u001b[31m■\u001b[0m \u001b[31m■\u001b[0m \u001b[33m■\u001b[0m ┃  ┃ \u001b[32m■\u001b[0m \u001b[32m■\u001b[0m \u001b[32m■\u001b[0m ┃  ┃ \u001b[97m■\u001b[0m \u001b[35m■\u001b[0m \u001b[35m■\u001b[0m ┃  ┃ \u001b[34m■\u001b[0m \u001b[34m■\u001b[0m \u001b[34m■\u001b[0m ┃  ┃ \u001b[31m■\u001b[0m \u001b[31m■\u001b[0m \u001b[97m■\u001b[0m ┃  ┃ \u001b[32m■\u001b[0m \u001b[32m■\u001b[0m \u001b[32m■\u001b[0m ┃  ┃ \u001b[33m■\u001b[0m \u001b[35m■\u001b[0m \u001b[35m■\u001b[0m ┃  ┃ \u001b[34m■\u001b[0m \u001b[34m■\u001b[0m \u001b[34m■\u001b[0m ┃  ┃ \u001b[31m■\u001b[0m \u001b[31m■\u001b[0m \u001b[31m■\u001b[0m ┃  ┃ \u001b[32m■\u001b[0m \u001b[32m■\u001b[0m \u001b[33m■\u001b[0m ┃  ┃ \u001b[35m■\u001b[0m \u001b[35m■\u001b[0m \u001b[35m■\u001b[0m ┃  ┃ \u001b[97m■\u001b[0m \u001b[34m■\u001b[0m \u001b[34m■\u001b[0m ┃  ┃ \u001b[31m■\u001b[0m \u001b[31m■\u001b[0m \u001b[31m■\u001b[0m ┃  ┃ \u001b[32m■\u001b[0m \u001b[32m■\u001b[0m \u001b[97m■\u001b[0m ┃  ┃ \u001b[35m■\u001b[0m \u001b[35m■\u001b[0m \u001b[35m■\u001b[0m ┃  ┃ \u001b[33m■\u001b[0m \u001b[34m■\u001b[0m \u001b[34m■\u001b[0m ┃  ┃ \u001b[31m■\u001b[0m \u001b[31m■\u001b[0m \u001b[31m■\u001b[0m ┃  ┃ \u001b[32m■\u001b[0m \u001b[32m■\u001b[0m \u001b[32m■\u001b[0m ┃  ┃ \u001b[35m■\u001b[0m \u001b[35m■\u001b[0m \u001b[35m■\u001b[0m ┃  ┃ \u001b[34m■\u001b[0m \u001b[34m■\u001b[0m \u001b[34m■\u001b[0m ┃  ┃ \u001b[31m■\u001b[0m \u001b[31m■\u001b[0m \u001b[31m■\u001b[0m ┃  ┃ \u001b[32m■\u001b[0m \u001b[32m■\u001b[0m \u001b[32m■\u001b[0m ┃  ┃ \u001b[35m■\u001b[0m \u001b[35m■\u001b[0m \u001b[35m■\u001b[0m ┃  ┃ \u001b[34m■\u001b[0m \u001b[34m■\u001b[0m \u001b[34m■\u001b[0m ┃  ┃ \u001b[33m■\u001b[0m \u001b[31m■\u001b[0m \u001b[31m■\u001b[0m ┃  ┃ \u001b[32m■\u001b[0m \u001b[32m■\u001b[0m \u001b[32m■\u001b[0m ┃  ┃ \u001b[35m■\u001b[0m \u001b[35m■\u001b[0m \u001b[97m■\u001b[0m ┃  ┃ \u001b[34m■\u001b[0m \u001b[34m■\u001b[0m \u001b[34m■\u001b[0m ┃  ┃ \u001b[97m■\u001b[0m \u001b[31m■\u001b[0m \u001b[31m■\u001b[0m ┃  ┃ \u001b[32m■\u001b[0m \u001b[32m■\u001b[0m \u001b[32m■\u001b[0m ┃  ┃ \u001b[35m■\u001b[0m \u001b[35m■\u001b[0m \u001b[33m■\u001b[0m ┃  ┃ \u001b[34m■\u001b[0m \u001b[34m■\u001b[0m \u001b[34m■\u001b[0m ┃\n",
      "┃ \u001b[31m■\u001b[0m \u001b[31m■\u001b[0m \u001b[31m■\u001b[0m ┃  ┃ \u001b[33m■\u001b[0m \u001b[32m■\u001b[0m \u001b[32m■\u001b[0m ┃  ┃ \u001b[35m■\u001b[0m \u001b[35m■\u001b[0m \u001b[35m■\u001b[0m ┃  ┃ \u001b[34m■\u001b[0m \u001b[34m■\u001b[0m \u001b[97m■\u001b[0m ┃  ┃ \u001b[31m■\u001b[0m \u001b[31m■\u001b[0m \u001b[31m■\u001b[0m ┃  ┃ \u001b[97m■\u001b[0m \u001b[32m■\u001b[0m \u001b[32m■\u001b[0m ┃  ┃ \u001b[35m■\u001b[0m \u001b[35m■\u001b[0m \u001b[35m■\u001b[0m ┃  ┃ \u001b[34m■\u001b[0m \u001b[34m■\u001b[0m \u001b[33m■\u001b[0m ┃  ┃ \u001b[32m■\u001b[0m \u001b[32m■\u001b[0m \u001b[32m■\u001b[0m ┃  ┃ \u001b[35m■\u001b[0m \u001b[35m■\u001b[0m \u001b[35m■\u001b[0m ┃  ┃ \u001b[34m■\u001b[0m \u001b[34m■\u001b[0m \u001b[34m■\u001b[0m ┃  ┃ \u001b[31m■\u001b[0m \u001b[31m■\u001b[0m \u001b[31m■\u001b[0m ┃  ┃ \u001b[34m■\u001b[0m \u001b[34m■\u001b[0m \u001b[34m■\u001b[0m ┃  ┃ \u001b[31m■\u001b[0m \u001b[31m■\u001b[0m \u001b[31m■\u001b[0m ┃  ┃ \u001b[32m■\u001b[0m \u001b[32m■\u001b[0m \u001b[32m■\u001b[0m ┃  ┃ \u001b[35m■\u001b[0m \u001b[35m■\u001b[0m \u001b[35m■\u001b[0m ┃  ┃ \u001b[31m■\u001b[0m \u001b[31m■\u001b[0m \u001b[33m■\u001b[0m ┃  ┃ \u001b[32m■\u001b[0m \u001b[32m■\u001b[0m \u001b[32m■\u001b[0m ┃  ┃ \u001b[97m■\u001b[0m \u001b[35m■\u001b[0m \u001b[35m■\u001b[0m ┃  ┃ \u001b[34m■\u001b[0m \u001b[34m■\u001b[0m \u001b[34m■\u001b[0m ┃  ┃ \u001b[31m■\u001b[0m \u001b[31m■\u001b[0m \u001b[97m■\u001b[0m ┃  ┃ \u001b[32m■\u001b[0m \u001b[32m■\u001b[0m \u001b[32m■\u001b[0m ┃  ┃ \u001b[33m■\u001b[0m \u001b[35m■\u001b[0m \u001b[35m■\u001b[0m ┃  ┃ \u001b[34m■\u001b[0m \u001b[34m■\u001b[0m \u001b[34m■\u001b[0m ┃  ┃ \u001b[31m■\u001b[0m \u001b[31m■\u001b[0m \u001b[31m■\u001b[0m ┃  ┃ \u001b[32m■\u001b[0m \u001b[32m■\u001b[0m \u001b[33m■\u001b[0m ┃  ┃ \u001b[35m■\u001b[0m \u001b[35m■\u001b[0m \u001b[35m■\u001b[0m ┃  ┃ \u001b[97m■\u001b[0m \u001b[34m■\u001b[0m \u001b[34m■\u001b[0m ┃  ┃ \u001b[31m■\u001b[0m \u001b[31m■\u001b[0m \u001b[31m■\u001b[0m ┃  ┃ \u001b[32m■\u001b[0m \u001b[32m■\u001b[0m \u001b[97m■\u001b[0m ┃  ┃ \u001b[35m■\u001b[0m \u001b[35m■\u001b[0m \u001b[35m■\u001b[0m ┃  ┃ \u001b[33m■\u001b[0m \u001b[34m■\u001b[0m \u001b[34m■\u001b[0m ┃  ┃ \u001b[31m■\u001b[0m \u001b[31m■\u001b[0m \u001b[31m■\u001b[0m ┃  ┃ \u001b[32m■\u001b[0m \u001b[32m■\u001b[0m \u001b[32m■\u001b[0m ┃  ┃ \u001b[35m■\u001b[0m \u001b[35m■\u001b[0m \u001b[35m■\u001b[0m ┃  ┃ \u001b[34m■\u001b[0m \u001b[34m■\u001b[0m \u001b[34m■\u001b[0m ┃  ┃ \u001b[31m■\u001b[0m \u001b[31m■\u001b[0m \u001b[31m■\u001b[0m ┃  ┃ \u001b[32m■\u001b[0m \u001b[32m■\u001b[0m \u001b[32m■\u001b[0m ┃  ┃ \u001b[35m■\u001b[0m \u001b[35m■\u001b[0m \u001b[35m■\u001b[0m ┃  ┃ \u001b[34m■\u001b[0m \u001b[34m■\u001b[0m \u001b[34m■\u001b[0m ┃  ┃ \u001b[33m■\u001b[0m \u001b[31m■\u001b[0m \u001b[31m■\u001b[0m ┃  ┃ \u001b[32m■\u001b[0m \u001b[32m■\u001b[0m \u001b[32m■\u001b[0m ┃  ┃ \u001b[35m■\u001b[0m \u001b[35m■\u001b[0m \u001b[97m■\u001b[0m ┃  ┃ \u001b[34m■\u001b[0m \u001b[34m■\u001b[0m \u001b[34m■\u001b[0m ┃  ┃ \u001b[97m■\u001b[0m \u001b[31m■\u001b[0m \u001b[31m■\u001b[0m ┃  ┃ \u001b[32m■\u001b[0m \u001b[32m■\u001b[0m \u001b[32m■\u001b[0m ┃  ┃ \u001b[35m■\u001b[0m \u001b[35m■\u001b[0m \u001b[33m■\u001b[0m ┃  ┃ \u001b[34m■\u001b[0m \u001b[34m■\u001b[0m \u001b[34m■\u001b[0m ┃\n",
      "┗━━━━━━━┛  ┗━━━━━━━┛  ┗━━━━━━━┛  ┗━━━━━━━┛  ┗━━━━━━━┛  ┗━━━━━━━┛  ┗━━━━━━━┛  ┗━━━━━━━┛  ┗━━━━━━━┛  ┗━━━━━━━┛  ┗━━━━━━━┛  ┗━━━━━━━┛  ┗━━━━━━━┛  ┗━━━━━━━┛  ┗━━━━━━━┛  ┗━━━━━━━┛  ┗━━━━━━━┛  ┗━━━━━━━┛  ┗━━━━━━━┛  ┗━━━━━━━┛  ┗━━━━━━━┛  ┗━━━━━━━┛  ┗━━━━━━━┛  ┗━━━━━━━┛  ┗━━━━━━━┛  ┗━━━━━━━┛  ┗━━━━━━━┛  ┗━━━━━━━┛  ┗━━━━━━━┛  ┗━━━━━━━┛  ┗━━━━━━━┛  ┗━━━━━━━┛  ┗━━━━━━━┛  ┗━━━━━━━┛  ┗━━━━━━━┛  ┗━━━━━━━┛  ┗━━━━━━━┛  ┗━━━━━━━┛  ┗━━━━━━━┛  ┗━━━━━━━┛  ┗━━━━━━━┛  ┗━━━━━━━┛  ┗━━━━━━━┛  ┗━━━━━━━┛  ┗━━━━━━━┛  ┗━━━━━━━┛  ┗━━━━━━━┛  ┗━━━━━━━┛\n",
      "           ┏━━down━┓                                   ┏━━down━┓                                   ┏━━down━┓                                   ┏━━down━┓                                   ┏━━down━┓                                   ┏━━down━┓                                   ┏━━down━┓                                   ┏━━down━┓                                   ┏━━down━┓                                   ┏━━down━┓                                   ┏━━down━┓                                   ┏━━down━┓\n",
      "           ┃ \u001b[34m■\u001b[0m \u001b[33m■\u001b[0m \u001b[33m■\u001b[0m ┃                                   ┃ \u001b[32m■\u001b[0m \u001b[33m■\u001b[0m \u001b[33m■\u001b[0m ┃                                   ┃ \u001b[33m■\u001b[0m \u001b[33m■\u001b[0m \u001b[33m■\u001b[0m ┃                                   ┃ \u001b[33m■\u001b[0m \u001b[33m■\u001b[0m \u001b[33m■\u001b[0m ┃                                   ┃ \u001b[35m■\u001b[0m \u001b[35m■\u001b[0m \u001b[35m■\u001b[0m ┃                                   ┃ \u001b[31m■\u001b[0m \u001b[31m■\u001b[0m \u001b[31m■\u001b[0m ┃                                   ┃ \u001b[33m■\u001b[0m \u001b[33m■\u001b[0m \u001b[34m■\u001b[0m ┃                                   ┃ \u001b[33m■\u001b[0m \u001b[33m■\u001b[0m \u001b[32m■\u001b[0m ┃                                   ┃ \u001b[33m■\u001b[0m \u001b[33m■\u001b[0m \u001b[33m■\u001b[0m ┃                                   ┃ \u001b[33m■\u001b[0m \u001b[33m■\u001b[0m \u001b[33m■\u001b[0m ┃                                   ┃ \u001b[33m■\u001b[0m \u001b[33m■\u001b[0m \u001b[33m■\u001b[0m ┃                                   ┃ \u001b[33m■\u001b[0m \u001b[33m■\u001b[0m \u001b[33m■\u001b[0m ┃\n",
      "           ┃ \u001b[34m■\u001b[0m \u001b[33m■\u001b[0m \u001b[33m■\u001b[0m ┃                                   ┃ \u001b[32m■\u001b[0m \u001b[33m■\u001b[0m \u001b[33m■\u001b[0m ┃                                   ┃ \u001b[33m■\u001b[0m \u001b[33m■\u001b[0m \u001b[33m■\u001b[0m ┃                                   ┃ \u001b[33m■\u001b[0m \u001b[33m■\u001b[0m \u001b[33m■\u001b[0m ┃                                   ┃ \u001b[33m■\u001b[0m \u001b[33m■\u001b[0m \u001b[33m■\u001b[0m ┃                                   ┃ \u001b[33m■\u001b[0m \u001b[33m■\u001b[0m \u001b[33m■\u001b[0m ┃                                   ┃ \u001b[33m■\u001b[0m \u001b[33m■\u001b[0m \u001b[34m■\u001b[0m ┃                                   ┃ \u001b[33m■\u001b[0m \u001b[33m■\u001b[0m \u001b[32m■\u001b[0m ┃                                   ┃ \u001b[33m■\u001b[0m \u001b[33m■\u001b[0m \u001b[33m■\u001b[0m ┃                                   ┃ \u001b[33m■\u001b[0m \u001b[33m■\u001b[0m \u001b[33m■\u001b[0m ┃                                   ┃ \u001b[33m■\u001b[0m \u001b[33m■\u001b[0m \u001b[33m■\u001b[0m ┃                                   ┃ \u001b[33m■\u001b[0m \u001b[33m■\u001b[0m \u001b[33m■\u001b[0m ┃\n",
      "           ┃ \u001b[34m■\u001b[0m \u001b[33m■\u001b[0m \u001b[33m■\u001b[0m ┃                                   ┃ \u001b[32m■\u001b[0m \u001b[33m■\u001b[0m \u001b[33m■\u001b[0m ┃                                   ┃ \u001b[33m■\u001b[0m \u001b[33m■\u001b[0m \u001b[33m■\u001b[0m ┃                                   ┃ \u001b[33m■\u001b[0m \u001b[33m■\u001b[0m \u001b[33m■\u001b[0m ┃                                   ┃ \u001b[33m■\u001b[0m \u001b[33m■\u001b[0m \u001b[33m■\u001b[0m ┃                                   ┃ \u001b[33m■\u001b[0m \u001b[33m■\u001b[0m \u001b[33m■\u001b[0m ┃                                   ┃ \u001b[33m■\u001b[0m \u001b[33m■\u001b[0m \u001b[34m■\u001b[0m ┃                                   ┃ \u001b[33m■\u001b[0m \u001b[33m■\u001b[0m \u001b[32m■\u001b[0m ┃                                   ┃ \u001b[33m■\u001b[0m \u001b[33m■\u001b[0m \u001b[33m■\u001b[0m ┃                                   ┃ \u001b[33m■\u001b[0m \u001b[33m■\u001b[0m \u001b[33m■\u001b[0m ┃                                   ┃ \u001b[35m■\u001b[0m \u001b[35m■\u001b[0m \u001b[35m■\u001b[0m ┃                                   ┃ \u001b[31m■\u001b[0m \u001b[31m■\u001b[0m \u001b[31m■\u001b[0m ┃\n",
      "           ┗━━━━━━━┛                                   ┗━━━━━━━┛                                   ┗━━━━━━━┛                                   ┗━━━━━━━┛                                   ┗━━━━━━━┛                                   ┗━━━━━━━┛                                   ┗━━━━━━━┛                                   ┗━━━━━━━┛                                   ┗━━━━━━━┛                                   ┗━━━━━━━┛                                   ┗━━━━━━━┛                                   ┗━━━━━━━┛\n",
      "12 (6, 9)\n",
      "[1.0017959  1.0021325  0.99992824 0.9879855  0.9842479  1.0002325\n",
      " 1.0235608  1.0235608  0.98419476 0.98883104 0.9949447  1.0000609 ]\n",
      "(12,)\n",
      "float32\n",
      "0.99928963\n",
      "[5.5352488 4.4874086 3.6241183 1.1870309 5.644635  5.6308675 3.8624954\n",
      " 4.19121   6.355688  4.2489595 4.8494534 4.594973  7.252329  7.662384\n",
      " 6.31121   6.506891  6.951439  6.8232813 6.92021   7.20708   7.3673286\n",
      " 6.512055  6.7419066 7.3240657 8.097405  8.381126  7.8071704 7.375357\n",
      " 8.236006  8.120321  7.4107533 7.88829   7.8384795 7.628542  7.329448\n",
      " 7.9988837 7.6678257 6.9118567 7.438441  7.177605  8.088583  7.813769\n",
      " 7.0859904 7.948279  6.214129  7.166961  6.712926  7.12058   6.6302185\n",
      " 6.2531004 6.3530874 6.8188014 6.3285513 6.0989895 6.0917935 6.5038195\n",
      " 6.964435  5.9091787 6.391472  6.0812116 6.634157  7.5201864 7.892494\n",
      " 7.562108  6.692529  6.157436  7.588389  7.259761  5.6967216 6.993317\n",
      " 6.8610034 7.533687  6.8899975 6.1006436 7.5342975 7.9802966 7.14961\n",
      " 6.491819  5.59956   5.2855387 6.6152983 6.0491805 7.371919  7.4658713\n",
      " 7.057118  6.599872  7.710046  7.260112  7.851502  7.9384136 7.1555386\n",
      " 7.345707  7.7469234 7.540285  7.658538  7.508431  8.090166  7.6244273\n",
      " 7.158193  7.265171 ]\n",
      "(100,)\n",
      "float32\n",
      "6.8011193\n"
     ]
    }
   ],
   "source": [
    "from heuristic.DAVI.neuralheuristic.rubikscube_neuralheuristic import RubiksCubeNeuralHeuristic\n",
    "neural_heuristic = RubiksCubeNeuralHeuristic.load_model(puzzle, \"../heuristic/DAVI/neuralheuristic/params/rubikscube_3.pkl\")\n",
    "neural_heuristic_fn = neural_heuristic.distance\n",
    "target_state = puzzle.get_target_state()\n",
    "target_neighbours, costs = puzzle.get_neighbours(target_state)\n",
    "print(target_neighbours)\n",
    "dist = jax.vmap(neural_heuristic_fn, in_axes=(0, None))(target_neighbours.flatten(), target_state)\n",
    "print(dist)\n",
    "print(dist.shape)\n",
    "print(dist.dtype)\n",
    "print(jnp.mean(dist))\n",
    "\n",
    "dist = jax.vmap(neural_heuristic_fn, in_axes=(0, None))(next_states[:100], target_state)\n",
    "print(dist)\n",
    "print(dist.shape)\n",
    "print(dist.dtype)\n",
    "print(jnp.mean(dist))"
   ]
  }
 ],
 "metadata": {
  "kernelspec": {
   "display_name": "py311",
   "language": "python",
   "name": "python3"
  },
  "language_info": {
   "codemirror_mode": {
    "name": "ipython",
    "version": 3
   },
   "file_extension": ".py",
   "mimetype": "text/x-python",
   "name": "python",
   "nbconvert_exporter": "python",
   "pygments_lexer": "ipython3",
   "version": "3.11.9"
  }
 },
 "nbformat": 4,
 "nbformat_minor": 2
}
