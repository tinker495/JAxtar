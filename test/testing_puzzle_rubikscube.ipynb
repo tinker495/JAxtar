{
 "cells": [
  {
   "cell_type": "code",
   "execution_count": 1,
   "metadata": {},
   "outputs": [
    {
     "name": "stdout",
     "output_type": "stream",
     "text": [
      "env: CUDA_VISIBLE_DEVICES=0\n"
     ]
    }
   ],
   "source": [
    "import sys\n",
    "import os\n",
    "\n",
    "# 프로젝트 루트 디렉토리 경로를 추가\n",
    "project_root = os.path.abspath(os.path.join(os.getcwd(), '..'))\n",
    "if project_root not in sys.path:\n",
    "    sys.path.append(project_root)\n",
    "%env CUDA_VISIBLE_DEVICES=0"
   ]
  },
  {
   "cell_type": "code",
   "execution_count": 2,
   "metadata": {},
   "outputs": [],
   "source": [
    "import jax\n",
    "import jax.numpy as jnp\n",
    "\n",
    "from JAxtar.hash import hash_func_builder\n",
    "from puzzle.rubiks_cube import RubiksCube"
   ]
  },
  {
   "cell_type": "code",
   "execution_count": 3,
   "metadata": {},
   "outputs": [],
   "source": [
    "puzzle = RubiksCube(3)"
   ]
  },
  {
   "cell_type": "code",
   "execution_count": 4,
   "metadata": {},
   "outputs": [
    {
     "name": "stdout",
     "output_type": "stream",
     "text": [
      "           ┏━━━up━━┓\n",
      "           ┃ \u001b[97m■\u001b[0m \u001b[97m■\u001b[0m \u001b[97m■\u001b[0m ┃\n",
      "           ┃ \u001b[97m■\u001b[0m \u001b[97m■\u001b[0m \u001b[97m■\u001b[0m ┃\n",
      "           ┃ \u001b[97m■\u001b[0m \u001b[97m■\u001b[0m \u001b[97m■\u001b[0m ┃\n",
      "           ┗━━━━━━━┛\n",
      "┏━━left━┓  ┏━front━┓  ┏━right━┓  ┏━━back━┓\n",
      "┃ \u001b[31m■\u001b[0m \u001b[31m■\u001b[0m \u001b[31m■\u001b[0m ┃  ┃ \u001b[32m■\u001b[0m \u001b[32m■\u001b[0m \u001b[32m■\u001b[0m ┃  ┃ \u001b[35m■\u001b[0m \u001b[35m■\u001b[0m \u001b[35m■\u001b[0m ┃  ┃ \u001b[34m■\u001b[0m \u001b[34m■\u001b[0m \u001b[34m■\u001b[0m ┃\n",
      "┃ \u001b[31m■\u001b[0m \u001b[31m■\u001b[0m \u001b[31m■\u001b[0m ┃  ┃ \u001b[32m■\u001b[0m \u001b[32m■\u001b[0m \u001b[32m■\u001b[0m ┃  ┃ \u001b[35m■\u001b[0m \u001b[35m■\u001b[0m \u001b[35m■\u001b[0m ┃  ┃ \u001b[34m■\u001b[0m \u001b[34m■\u001b[0m \u001b[34m■\u001b[0m ┃\n",
      "┃ \u001b[31m■\u001b[0m \u001b[31m■\u001b[0m \u001b[31m■\u001b[0m ┃  ┃ \u001b[32m■\u001b[0m \u001b[32m■\u001b[0m \u001b[32m■\u001b[0m ┃  ┃ \u001b[35m■\u001b[0m \u001b[35m■\u001b[0m \u001b[35m■\u001b[0m ┃  ┃ \u001b[34m■\u001b[0m \u001b[34m■\u001b[0m \u001b[34m■\u001b[0m ┃\n",
      "┗━━━━━━━┛  ┗━━━━━━━┛  ┗━━━━━━━┛  ┗━━━━━━━┛\n",
      "           ┏━━down━┓\n",
      "           ┃ \u001b[33m■\u001b[0m \u001b[33m■\u001b[0m \u001b[33m■\u001b[0m ┃\n",
      "           ┃ \u001b[33m■\u001b[0m \u001b[33m■\u001b[0m \u001b[33m■\u001b[0m ┃\n",
      "           ┃ \u001b[33m■\u001b[0m \u001b[33m■\u001b[0m \u001b[33m■\u001b[0m ┃\n",
      "           ┗━━━━━━━┛\n"
     ]
    }
   ],
   "source": [
    "#check batch generation\n",
    "states = puzzle.get_target_state()\n",
    "print(states)"
   ]
  }
 ],
 "metadata": {
  "kernelspec": {
   "display_name": "py311",
   "language": "python",
   "name": "python3"
  },
  "language_info": {
   "codemirror_mode": {
    "name": "ipython",
    "version": 3
   },
   "file_extension": ".py",
   "mimetype": "text/x-python",
   "name": "python",
   "nbconvert_exporter": "python",
   "pygments_lexer": "ipython3",
   "version": "3.11.9"
  }
 },
 "nbformat": 4,
 "nbformat_minor": 2
}
