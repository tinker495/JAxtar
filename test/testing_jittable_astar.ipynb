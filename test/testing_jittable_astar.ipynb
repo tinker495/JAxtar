{
 "cells": [
  {
   "cell_type": "code",
   "execution_count": 1,
   "metadata": {},
   "outputs": [
    {
     "name": "stdout",
     "output_type": "stream",
     "text": [
      "env: CUDA_VISIBLE_DEVICES=0\n"
     ]
    }
   ],
   "source": [
    "import sys\n",
    "import os\n",
    "\n",
    "# 프로젝트 루트 디렉토리 경로를 추가\n",
    "project_root = os.path.abspath(os.path.join(os.getcwd(), '..'))\n",
    "if project_root not in sys.path:\n",
    "    sys.path.append(project_root)\n",
    "%env CUDA_VISIBLE_DEVICES=0"
   ]
  },
  {
   "cell_type": "code",
   "execution_count": 2,
   "metadata": {},
   "outputs": [
    {
     "name": "stderr",
     "output_type": "stream",
     "text": [
      "/tmp/ipykernel_2540/2469263457.py:8: TqdmExperimentalWarning: Using `tqdm.autonotebook.tqdm` in notebook mode. Use `tqdm.tqdm` instead to force console mode (e.g. in jupyter console)\n",
      "  from tqdm.autonotebook import tqdm\n"
     ]
    }
   ],
   "source": [
    "import jax\n",
    "import jax.numpy as jnp\n",
    "import chex\n",
    "import numpy as np\n",
    "#disable jax JIT\n",
    "#jax.config.update(\"jax_disable_jit\", True)\n",
    "\n",
    "from tqdm.autonotebook import tqdm\n",
    "from JAxtar.hash import hash_func_builder, HashTable\n",
    "from JAxtar.bgpq import BGPQ, HashTableIdx_HeapValue\n",
    "from JAxtar.astar import astar_builder\n",
    "from functools import partial\n",
    "from puzzle.slidepuzzle import SlidePuzzle\n",
    "from heuristic.slidepuzzle_heuristic import SlidePuzzleHeuristic"
   ]
  },
  {
   "cell_type": "code",
   "execution_count": 3,
   "metadata": {},
   "outputs": [],
   "source": [
    "puzzle = SlidePuzzle(4)"
   ]
  },
  {
   "cell_type": "code",
   "execution_count": 4,
   "metadata": {},
   "outputs": [],
   "source": [
    "states = jax.vmap(puzzle.get_initial_state, in_axes=0)(key=jax.random.split(jax.random.PRNGKey(32),1))\n",
    "#states = puzzle.State(board=jnp.array([0, 12, 9, 13, 15, 11, 10, 14, 3, 7, 2, 5, 4, 8, 6, 1], dtype=jnp.uint8))[jnp.newaxis, ...]\n",
    "target = puzzle.State(board=jnp.array([1, 2, 3, 4, 5, 6, 7, 8, 9, 10, 11, 12, 13, 14, 15, 0], dtype=jnp.uint8))"
   ]
  },
  {
   "cell_type": "code",
   "execution_count": 5,
   "metadata": {},
   "outputs": [],
   "source": [
    "size = int(1e6)\n",
    "batch_size = int(1000)\n",
    "astar_fn = astar_builder(puzzle, SlidePuzzleHeuristic(puzzle).distance, batch_size, size)\n",
    "\n",
    "states, filled = HashTable.make_batched(puzzle.State, states, batch_size)\n",
    "astar_result, hash_idxs, last_states, solved = astar_fn(states, filled, target)"
   ]
  },
  {
   "cell_type": "code",
   "execution_count": 6,
   "metadata": {},
   "outputs": [
    {
     "name": "stdout",
     "output_type": "stream",
     "text": [
      "┏━━━┳━━━┳━━━┳━━━┓\n",
      "┃ 1 ┃ 2 ┃ 3 ┃ 4 ┃\n",
      "┣━━━╋━━━╋━━━╋━━━┫\n",
      "┃ 5 ┃ 6 ┃ 7 ┃ 8 ┃\n",
      "┣━━━╋━━━╋━━━╋━━━┫\n",
      "┃ 9 ┃ A ┃ B ┃ C ┃\n",
      "┣━━━╋━━━╋━━━╋━━━┫\n",
      "┃ D ┃ E ┃ F ┃   ┃\n",
      "┗━━━┻━━━┻━━━┻━━━┛\n"
     ]
    }
   ],
   "source": [
    "print(last_states[jnp.argmax(solved)][0])"
   ]
  },
  {
   "cell_type": "code",
   "execution_count": 7,
   "metadata": {},
   "outputs": [
    {
     "data": {
      "text/plain": [
       "Array(350146, dtype=int32)"
      ]
     },
     "execution_count": 7,
     "metadata": {},
     "output_type": "execute_result"
    }
   ],
   "source": [
    "astar_result.hashtable.size"
   ]
  },
  {
   "cell_type": "code",
   "execution_count": 8,
   "metadata": {},
   "outputs": [
    {
     "name": "stdout",
     "output_type": "stream",
     "text": [
      "┏━━━┳━━━┳━━━┳━━━┓\n",
      "┃ C ┃ 1 ┃ B ┃ E ┃\n",
      "┣━━━╋━━━╋━━━╋━━━┫\n",
      "┃ A ┃ 5 ┃ 6 ┃   ┃\n",
      "┣━━━╋━━━╋━━━╋━━━┫\n",
      "┃ 8 ┃ F ┃ 9 ┃ D ┃\n",
      "┣━━━╋━━━╋━━━╋━━━┫\n",
      "┃ 3 ┃ 4 ┃ 2 ┃ 7 ┃\n",
      "┗━━━┻━━━┻━━━┻━━━┛\n"
     ]
    }
   ],
   "source": [
    "print(astar_result.hashtable.table[hash_idxs[0].index, hash_idxs[0].table_index][0])"
   ]
  },
  {
   "cell_type": "code",
   "execution_count": 9,
   "metadata": {},
   "outputs": [],
   "source": [
    "astar_result, hash_idxs, states, solved = astar_fn(states, filled, target)"
   ]
  }
 ],
 "metadata": {
  "kernelspec": {
   "display_name": "py311",
   "language": "python",
   "name": "python3"
  },
  "language_info": {
   "codemirror_mode": {
    "name": "ipython",
    "version": 3
   },
   "file_extension": ".py",
   "mimetype": "text/x-python",
   "name": "python",
   "nbconvert_exporter": "python",
   "pygments_lexer": "ipython3",
   "version": "3.11.9"
  }
 },
 "nbformat": 4,
 "nbformat_minor": 2
}
