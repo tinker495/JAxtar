{
 "cells": [
  {
   "cell_type": "code",
   "execution_count": 1,
   "metadata": {},
   "outputs": [
    {
     "data": {
      "text/plain": [
       "PosixPath('/home/tinker/JAxtar')"
      ]
     },
     "execution_count": 1,
     "metadata": {},
     "output_type": "execute_result"
    }
   ],
   "source": [
    "from conftest import setup_project\n",
    "setup_project()"
   ]
  },
  {
   "cell_type": "code",
   "execution_count": 2,
   "metadata": {},
   "outputs": [],
   "source": [
    "import jax\n",
    "import jax.numpy as jnp\n",
    "\n",
    "from JAxtar.hash import hash_func_builder\n",
    "from puzzle.dotknot import DotKnot\n",
    "from heuristic.dotknot_heuristic import DotKnotHeuristic"
   ]
  },
  {
   "cell_type": "code",
   "execution_count": 3,
   "metadata": {},
   "outputs": [],
   "source": [
    "puzzle = DotKnot(7)\n",
    "heuristic = DotKnotHeuristic(puzzle)"
   ]
  },
  {
   "cell_type": "code",
   "execution_count": 4,
   "metadata": {},
   "outputs": [
    {
     "name": "stdout",
     "output_type": "stream",
     "text": [
      "┏━━━━━━━━━━━━━━━┓\n",
      "┃ ? ? ? ? ? ? ? ┃\n",
      "┃ ? ? ? ? ? ? ? ┃\n",
      "┃ ? ? ? ? ? ? ? ┃\n",
      "┃ ? ? ? ? ? ? ? ┃\n",
      "┃ ? ? ? ? ? ? ? ┃\n",
      "┃ ? ? ? ? ? ? ? ┃\n",
      "┃ ? ? ? ? ? ? ? ┃\n",
      "┗━━━━━━━━━━━━━━━┛\n",
      "┏━━━━━━━━━━━━━━━┓\n",
      "┃               ┃\n",
      "┃               ┃\n",
      "┃   \u001b[31m●\u001b[0m     \u001b[34m●\u001b[0m \u001b[31m●\u001b[0m   ┃\n",
      "┃     \u001b[32m●\u001b[0m \u001b[33m●\u001b[0m \u001b[34m●\u001b[0m     ┃\n",
      "┃       \u001b[33m●\u001b[0m       ┃\n",
      "┃         \u001b[32m●\u001b[0m     ┃\n",
      "┃               ┃\n",
      "┗━━━━━━━━━━━━━━━┛\n"
     ]
    },
    {
     "name": "stderr",
     "output_type": "stream",
     "text": [
      "/home/tinker/anaconda3/envs/py310/lib/python3.10/site-packages/jax/_src/ops/scatter.py:92: FutureWarning: scatter inputs have incompatible types: cannot safely cast value from dtype=int32 to dtype=uint8 with jax_numpy_dtype_promotion='standard'. In future JAX releases this will result in an error.\n",
      "  warnings.warn(\n"
     ]
    },
    {
     "name": "stdout",
     "output_type": "stream",
     "text": [
      "┏━━━━━━━━━━━━━━━┓  ┏━━━━━━━━━━━━━━━┓  ...             ┏━━━━━━━━━━━━━━━┓  ┏━━━━━━━━━━━━━━━┓\n",
      "┃               ┃  ┃               ┃  (batch : (8,))  ┃               ┃  ┃               ┃\n",
      "┃           \u001b[31m●\u001b[0m   ┃  ┃               ┃                  ┃               ┃  ┃               ┃\n",
      "┃   \u001b[31m●\u001b[0m     \u001b[34m●\u001b[0m \u001b[31m■\u001b[0m   ┃  ┃   \u001b[31m●\u001b[0m     \u001b[34m●\u001b[0m \u001b[31m●\u001b[0m   ┃                  ┃   \u001b[31m●\u001b[0m     \u001b[34m●\u001b[0m \u001b[31m●\u001b[0m   ┃  ┃   \u001b[31m●\u001b[0m     \u001b[34m●\u001b[0m \u001b[31m●\u001b[0m   ┃\n",
      "┃     \u001b[32m●\u001b[0m \u001b[33m●\u001b[0m \u001b[34m●\u001b[0m     ┃  ┃     \u001b[32m●\u001b[0m \u001b[33m●\u001b[0m \u001b[34m●\u001b[0m     ┃                  ┃     \u001b[32m●\u001b[0m \u001b[33m■\u001b[0m \u001b[34m●\u001b[0m     ┃  ┃     \u001b[32m●\u001b[0m \u001b[33m●\u001b[0m \u001b[34m■\u001b[0m     ┃\n",
      "┃       \u001b[33m●\u001b[0m       ┃  ┃       \u001b[33m●\u001b[0m \u001b[32m●\u001b[0m     ┃                  ┃       \u001b[33m■\u001b[0m       ┃  ┃       \u001b[33m●\u001b[0m \u001b[34m●\u001b[0m     ┃\n",
      "┃         \u001b[32m●\u001b[0m     ┃  ┃         \u001b[32m■\u001b[0m     ┃                  ┃         \u001b[32m●\u001b[0m     ┃  ┃         \u001b[32m●\u001b[0m     ┃\n",
      "┃               ┃  ┃               ┃                  ┃               ┃  ┃               ┃\n",
      "┗━━━━━━━━━━━━━━━┛  ┗━━━━━━━━━━━━━━━┛                  ┗━━━━━━━━━━━━━━━┛  ┗━━━━━━━━━━━━━━━┛\n",
      "[1. 1. 1. 1. 1. 1. 1. 1.]\n"
     ]
    }
   ],
   "source": [
    "#check batch generation\n",
    "target_states = puzzle.get_target_state()\n",
    "print(target_states)\n",
    "init_state = puzzle.get_initial_state()\n",
    "print(init_state)\n",
    "next_states, costs = puzzle.get_neighbours(init_state)\n",
    "print(next_states)\n",
    "print(costs)"
   ]
  },
  {
   "cell_type": "code",
   "execution_count": 5,
   "metadata": {},
   "outputs": [
    {
     "name": "stdout",
     "output_type": "stream",
     "text": [
      "False\n",
      "False\n"
     ]
    }
   ],
   "source": [
    "print(puzzle.is_solved(init_state, target_states))\n",
    "print(puzzle.is_solved(init_state, target_states))"
   ]
  },
  {
   "cell_type": "code",
   "execution_count": 6,
   "metadata": {},
   "outputs": [
    {
     "name": "stdout",
     "output_type": "stream",
     "text": [
      "┏━━━━━━━━━━━━━━━┓  ┏━━━━━━━━━━━━━━━┓  ...                  ┏━━━━━━━━━━━━━━━┓  ┏━━━━━━━━━━━━━━━┓\n",
      "┃               ┃  ┃               ┃  (batch : (1000, 8))  ┃               ┃  ┃               ┃\n",
      "┃       \u001b[31m●\u001b[0m       ┃  ┃       \u001b[31m●\u001b[0m       ┃                       ┃           \u001b[31m●\u001b[0m   ┃  ┃           \u001b[31m●\u001b[0m   ┃\n",
      "┃     \u001b[34m●\u001b[0m         ┃  ┃     \u001b[34m●\u001b[0m   \u001b[32m●\u001b[0m     ┃                       ┃   \u001b[32m●\u001b[0m   \u001b[31m●\u001b[0m \u001b[34m●\u001b[0m     ┃  ┃   \u001b[32m●\u001b[0m   \u001b[31m●\u001b[0m \u001b[34m■\u001b[0m     ┃\n",
      "┃     \u001b[33m●\u001b[0m   \u001b[32m●\u001b[0m     ┃  ┃     \u001b[33m●\u001b[0m   \u001b[32m■\u001b[0m     ┃                       ┃   \u001b[33m■\u001b[0m   \u001b[32m●\u001b[0m \u001b[34m●\u001b[0m     ┃  ┃   \u001b[33m●\u001b[0m   \u001b[32m●\u001b[0m \u001b[34m■\u001b[0m     ┃\n",
      "┃   \u001b[34m●\u001b[0m   \u001b[31m●\u001b[0m \u001b[32m●\u001b[0m     ┃  ┃   \u001b[34m●\u001b[0m     \u001b[32m●\u001b[0m     ┃                       ┃   \u001b[33m●\u001b[0m           ┃  ┃               ┃\n",
      "┃       \u001b[31m■\u001b[0m \u001b[33m●\u001b[0m     ┃  ┃       \u001b[31m●\u001b[0m \u001b[33m●\u001b[0m     ┃                       ┃   \u001b[33m●\u001b[0m           ┃  ┃   \u001b[33m●\u001b[0m           ┃\n",
      "┃               ┃  ┃               ┃                       ┃               ┃  ┃               ┃\n",
      "┗━━━━━━━━━━━━━━━┛  ┗━━━━━━━━━━━━━━━┛                       ┗━━━━━━━━━━━━━━━┛  ┗━━━━━━━━━━━━━━━┛\n",
      "shape(board=(8000, 49))\n",
      "(8000,)\n",
      "dtype(board=dtype('uint8'))\n",
      "(8000,)\n"
     ]
    }
   ],
   "source": [
    "# check batch neighbours\n",
    "states = jax.vmap(puzzle.get_initial_state, in_axes=0)(key=jax.random.split(jax.random.PRNGKey(0),int(1e3))) # total 10 million states\n",
    "next_states, costs = jax.vmap(puzzle.get_neighbours, in_axes=0)(states)\n",
    "print(next_states)\n",
    "next_states = next_states.flatten()\n",
    "costs = costs.flatten()\n",
    "print(next_states.shape)\n",
    "print(next_states.batch_shape)\n",
    "print(next_states.dtype)\n",
    "print(costs.shape)"
   ]
  },
  {
   "cell_type": "code",
   "execution_count": 7,
   "metadata": {},
   "outputs": [],
   "source": [
    "puzzle_hash_fun: callable = hash_func_builder(puzzle.State)"
   ]
  },
  {
   "cell_type": "code",
   "execution_count": 8,
   "metadata": {},
   "outputs": [
    {
     "name": "stdout",
     "output_type": "stream",
     "text": [
      "(1000,)\n",
      "uint32\n",
      "(1000,)\n",
      "(1000, 49)\n",
      "(8000,)\n",
      "uint32\n",
      "(7176,)\n",
      "(7176, 49)\n"
     ]
    }
   ],
   "source": [
    "#check hashing\n",
    "hashes, _ = jax.vmap(puzzle_hash_fun, in_axes=(0, None))(states, 1)\n",
    "#count hash collision\n",
    "print(hashes.shape)\n",
    "print(hashes.dtype)\n",
    "print(jnp.unique(hashes).shape) # Low collision\n",
    "print(jnp.unique(states.board, axis=0).shape) # Low collision\n",
    "\n",
    "hashes, _ = jax.vmap(puzzle_hash_fun, in_axes=(0, None))(next_states, 1)\n",
    "#count hash collision\n",
    "print(hashes.shape)\n",
    "print(hashes.dtype)\n",
    "print(jnp.unique(hashes).shape) # High collision\n",
    "print(jnp.unique(next_states.board, axis=0).shape) # High collision"
   ]
  },
  {
   "cell_type": "code",
   "execution_count": 9,
   "metadata": {},
   "outputs": [
    {
     "name": "stdout",
     "output_type": "stream",
     "text": [
      "Heuristic\n",
      "[11 13 12 ...  9  8  8]\n"
     ]
    }
   ],
   "source": [
    "#check heuristic\n",
    "print(\"Heuristic\")\n",
    "dist = jax.vmap(heuristic.distance, in_axes=(0, None))(next_states, states[0])\n",
    "print(dist)"
   ]
  }
 ],
 "metadata": {
  "kernelspec": {
   "display_name": "py311",
   "language": "python",
   "name": "python3"
  },
  "language_info": {
   "codemirror_mode": {
    "name": "ipython",
    "version": 3
   },
   "file_extension": ".py",
   "mimetype": "text/x-python",
   "name": "python",
   "nbconvert_exporter": "python",
   "pygments_lexer": "ipython3",
   "version": "3.10.15"
  }
 },
 "nbformat": 4,
 "nbformat_minor": 2
}
