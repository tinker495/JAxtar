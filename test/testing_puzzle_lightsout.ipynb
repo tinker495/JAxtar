{
 "cells": [
  {
   "cell_type": "code",
   "execution_count": 1,
   "metadata": {},
   "outputs": [
    {
     "name": "stdout",
     "output_type": "stream",
     "text": [
      "env: CUDA_VISIBLE_DEVICES=0\n"
     ]
    }
   ],
   "source": [
    "import sys\n",
    "import os\n",
    "\n",
    "# 프로젝트 루트 디렉토리 경로를 추가\n",
    "project_root = os.path.abspath(os.path.join(os.getcwd(), '..'))\n",
    "if project_root not in sys.path:\n",
    "    sys.path.append(project_root)\n",
    "%env CUDA_VISIBLE_DEVICES=0"
   ]
  },
  {
   "cell_type": "code",
   "execution_count": 2,
   "metadata": {},
   "outputs": [],
   "source": [
    "import jax\n",
    "import jax.numpy as jnp\n",
    "\n",
    "from JAxtar.hash import hash_func_builder\n",
    "from puzzle.lightsout import LightsOut\n",
    "from heuristic.lightsout_heuristic import LightsOutHeuristic"
   ]
  },
  {
   "cell_type": "code",
   "execution_count": 3,
   "metadata": {},
   "outputs": [],
   "source": [
    "puzzle = LightsOut(10)\n",
    "heuristic = LightsOutHeuristic(puzzle)"
   ]
  },
  {
   "cell_type": "code",
   "execution_count": 4,
   "metadata": {},
   "outputs": [
    {
     "name": "stdout",
     "output_type": "stream",
     "text": [
      "┏━━━━━━━━━━━━━━━━━━━━┓\n",
      "┃□ □ □ □ □ □ □ □ □ □ ┃\n",
      "┃□ □ □ □ □ □ □ □ □ □ ┃\n",
      "┃□ □ □ □ □ □ □ □ □ □ ┃\n",
      "┃□ □ □ □ □ □ □ □ □ □ ┃\n",
      "┃□ □ □ □ □ □ □ □ □ □ ┃\n",
      "┃□ □ □ □ □ □ □ □ □ □ ┃\n",
      "┃□ □ □ □ □ □ □ □ □ □ ┃\n",
      "┃□ □ □ □ □ □ □ □ □ □ ┃\n",
      "┃□ □ □ □ □ □ □ □ □ □ ┃\n",
      "┃□ □ □ □ □ □ □ □ □ □ ┃\n",
      "┗━━━━━━━━━━━━━━━━━━━━┛\n",
      "+------------------------+------------------------+------------------------+-----+------------------------+------------------------+------------------------+\n",
      "| ┏━━━━━━━━━━━━━━━━━━━━┓ | ┏━━━━━━━━━━━━━━━━━━━━┓ | ┏━━━━━━━━━━━━━━━━━━━━┓ | ... | ┏━━━━━━━━━━━━━━━━━━━━┓ | ┏━━━━━━━━━━━━━━━━━━━━┓ | ┏━━━━━━━━━━━━━━━━━━━━┓ |\n",
      "| ┃■ ■ □ □ □ □ □ □ □ □ ┃ | ┃■ □ □ □ □ □ □ □ □ □ ┃ | ┃□ □ □ □ □ □ □ □ □ □ ┃ |     | ┃□ □ □ □ □ □ □ □ □ □ ┃ | ┃□ □ □ □ □ □ □ □ □ □ ┃ | ┃□ □ □ □ □ □ □ □ □ □ ┃ |\n",
      "| ┃■ □ □ □ □ □ □ □ □ □ ┃ | ┃■ ■ □ □ □ □ □ □ □ □ ┃ | ┃■ □ □ □ □ □ □ □ □ □ ┃ |     | ┃□ □ □ □ □ □ □ □ □ □ ┃ | ┃□ □ □ □ □ □ □ □ □ □ ┃ | ┃□ □ □ □ □ □ □ □ □ □ ┃ |\n",
      "| ┃□ □ □ □ □ □ □ □ □ □ ┃ | ┃■ □ □ □ □ □ □ □ □ □ ┃ | ┃■ ■ □ □ □ □ □ □ □ □ ┃ |     | ┃□ □ □ □ □ □ □ □ □ □ ┃ | ┃□ □ □ □ □ □ □ □ □ □ ┃ | ┃□ □ □ □ □ □ □ □ □ □ ┃ |\n",
      "| ┃□ □ □ □ □ □ □ □ □ □ ┃ | ┃□ □ □ □ □ □ □ □ □ □ ┃ | ┃■ □ □ □ □ □ □ □ □ □ ┃ |     | ┃□ □ □ □ □ □ □ □ □ □ ┃ | ┃□ □ □ □ □ □ □ □ □ □ ┃ | ┃□ □ □ □ □ □ □ □ □ □ ┃ |\n",
      "| ┃□ □ □ □ □ □ □ □ □ □ ┃ | ┃□ □ □ □ □ □ □ □ □ □ ┃ | ┃□ □ □ □ □ □ □ □ □ □ ┃ |     | ┃□ □ □ □ □ □ □ □ □ □ ┃ | ┃□ □ □ □ □ □ □ □ □ □ ┃ | ┃□ □ □ □ □ □ □ □ □ □ ┃ |\n",
      "| ┃□ □ □ □ □ □ □ □ □ □ ┃ | ┃□ □ □ □ □ □ □ □ □ □ ┃ | ┃□ □ □ □ □ □ □ □ □ □ ┃ |     | ┃□ □ □ □ □ □ □ □ □ □ ┃ | ┃□ □ □ □ □ □ □ □ □ □ ┃ | ┃□ □ □ □ □ □ □ □ □ □ ┃ |\n",
      "| ┃□ □ □ □ □ □ □ □ □ □ ┃ | ┃□ □ □ □ □ □ □ □ □ □ ┃ | ┃□ □ □ □ □ □ □ □ □ □ ┃ |     | ┃□ □ □ □ □ □ □ □ □ ■ ┃ | ┃□ □ □ □ □ □ □ □ □ □ ┃ | ┃□ □ □ □ □ □ □ □ □ □ ┃ |\n",
      "| ┃□ □ □ □ □ □ □ □ □ □ ┃ | ┃□ □ □ □ □ □ □ □ □ □ ┃ | ┃□ □ □ □ □ □ □ □ □ □ ┃ |     | ┃□ □ □ □ □ □ □ □ ■ ■ ┃ | ┃□ □ □ □ □ □ □ □ □ ■ ┃ | ┃□ □ □ □ □ □ □ □ □ □ ┃ |\n",
      "| ┃□ □ □ □ □ □ □ □ □ □ ┃ | ┃□ □ □ □ □ □ □ □ □ □ ┃ | ┃□ □ □ □ □ □ □ □ □ □ ┃ |     | ┃□ □ □ □ □ □ □ □ □ ■ ┃ | ┃□ □ □ □ □ □ □ □ ■ ■ ┃ | ┃□ □ □ □ □ □ □ □ □ ■ ┃ |\n",
      "| ┃□ □ □ □ □ □ □ □ □ □ ┃ | ┃□ □ □ □ □ □ □ □ □ □ ┃ | ┃□ □ □ □ □ □ □ □ □ □ ┃ |     | ┃□ □ □ □ □ □ □ □ □ □ ┃ | ┃□ □ □ □ □ □ □ □ □ ■ ┃ | ┃□ □ □ □ □ □ □ □ ■ ■ ┃ |\n",
      "| ┗━━━━━━━━━━━━━━━━━━━━┛ | ┗━━━━━━━━━━━━━━━━━━━━┛ | ┗━━━━━━━━━━━━━━━━━━━━┛ |     | ┗━━━━━━━━━━━━━━━━━━━━┛ | ┗━━━━━━━━━━━━━━━━━━━━┛ | ┗━━━━━━━━━━━━━━━━━━━━┛ |\n",
      "+------------------------+------------------------+------------------------+-----+------------------------+------------------------+------------------------+\n",
      "[1. 1. 1. 1. 1. 1. 1. 1. 1. 1. 1. 1. 1. 1. 1. 1. 1. 1. 1. 1. 1. 1. 1. 1.\n",
      " 1. 1. 1. 1. 1. 1. 1. 1. 1. 1. 1. 1. 1. 1. 1. 1. 1. 1. 1. 1. 1. 1. 1. 1.\n",
      " 1. 1. 1. 1. 1. 1. 1. 1. 1. 1. 1. 1. 1. 1. 1. 1. 1. 1. 1. 1. 1. 1. 1. 1.\n",
      " 1. 1. 1. 1. 1. 1. 1. 1. 1. 1. 1. 1. 1. 1. 1. 1. 1. 1. 1. 1. 1. 1. 1. 1.\n",
      " 1. 1. 1. 1.]\n"
     ]
    }
   ],
   "source": [
    "#check batch generation\n",
    "states = puzzle.get_target_state()\n",
    "print(states)\n",
    "next_states, costs = puzzle.get_neighbours(states)\n",
    "print(next_states)\n",
    "print(costs)"
   ]
  },
  {
   "cell_type": "code",
   "execution_count": 5,
   "metadata": {},
   "outputs": [
    {
     "name": "stdout",
     "output_type": "stream",
     "text": [
      "True\n",
      "False\n"
     ]
    }
   ],
   "source": [
    "print(puzzle.is_solved(states, states))\n",
    "print(puzzle.is_solved(states, next_states[0]))"
   ]
  },
  {
   "cell_type": "code",
   "execution_count": 6,
   "metadata": {},
   "outputs": [
    {
     "name": "stdout",
     "output_type": "stream",
     "text": [
      "shape(board=(100000, 13))\n",
      "dtype(board=dtype('uint8'))\n",
      "(100000,)\n"
     ]
    }
   ],
   "source": [
    "# check batch neighbours\n",
    "states = jax.vmap(puzzle.get_initial_state, in_axes=0)(key=jax.random.split(jax.random.PRNGKey(0),int(1e3))) # total 10 million states\n",
    "next_states, costs = jax.vmap(puzzle.get_neighbours, in_axes=0)(states)\n",
    "first_flat = lambda x: jnp.reshape(x, (-1, *x.shape[2:]))\n",
    "next_states = jax.tree_util.tree_map(first_flat, next_states)\n",
    "costs = first_flat(costs)\n",
    "print(next_states.shape)\n",
    "print(next_states.dtype)\n",
    "print(costs.shape)"
   ]
  },
  {
   "cell_type": "code",
   "execution_count": 7,
   "metadata": {},
   "outputs": [],
   "source": [
    "puzzle_hash_fun: callable = hash_func_builder(puzzle.State)"
   ]
  },
  {
   "cell_type": "code",
   "execution_count": 8,
   "metadata": {},
   "outputs": [
    {
     "name": "stdout",
     "output_type": "stream",
     "text": [
      "(1000,)\n",
      "uint32\n",
      "(1000,)\n",
      "(1000, 13)\n",
      "(100000,)\n",
      "uint32\n",
      "(99999,)\n",
      "(100000, 13)\n"
     ]
    }
   ],
   "source": [
    "#check hashing\n",
    "hashes = jax.vmap(puzzle_hash_fun, in_axes=(0, None))(states, 1)\n",
    "#count hash collision\n",
    "print(hashes.shape)\n",
    "print(hashes.dtype)\n",
    "print(jnp.unique(hashes).shape) # Low collision\n",
    "print(jnp.unique(states.board, axis=0).shape) # Low collision\n",
    "\n",
    "hashes = jax.vmap(puzzle_hash_fun, in_axes=(0, None))(next_states, 1)\n",
    "#count hash collision\n",
    "print(hashes.shape)\n",
    "print(hashes.dtype)\n",
    "print(jnp.unique(hashes).shape) # High collision\n",
    "print(jnp.unique(next_states.board, axis=0).shape) # High collision"
   ]
  },
  {
   "cell_type": "code",
   "execution_count": 9,
   "metadata": {},
   "outputs": [
    {
     "name": "stdout",
     "output_type": "stream",
     "text": [
      "Heuristic\n",
      "[0.6       0.8       0.8       ... 7.        7.4       7.2000003]\n"
     ]
    }
   ],
   "source": [
    "#check heuristic\n",
    "print(\"Heuristic\")\n",
    "dist = jax.vmap(heuristic.distance, in_axes=(0, None))(next_states, states[0])\n",
    "print(dist)"
   ]
  }
 ],
 "metadata": {
  "kernelspec": {
   "display_name": "py311",
   "language": "python",
   "name": "python3"
  },
  "language_info": {
   "codemirror_mode": {
    "name": "ipython",
    "version": 3
   },
   "file_extension": ".py",
   "mimetype": "text/x-python",
   "name": "python",
   "nbconvert_exporter": "python",
   "pygments_lexer": "ipython3",
   "version": "3.11.9"
  }
 },
 "nbformat": 4,
 "nbformat_minor": 2
}
