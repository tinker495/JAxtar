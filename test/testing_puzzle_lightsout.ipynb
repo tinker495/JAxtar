{
 "cells": [
  {
   "cell_type": "code",
   "execution_count": 1,
   "metadata": {},
   "outputs": [
    {
     "name": "stdout",
     "output_type": "stream",
     "text": [
      "env: CUDA_VISIBLE_DEVICES=0\n"
     ]
    }
   ],
   "source": [
    "from conftest import setup_project\n",
    "setup_project()"
   ]
  },
  {
   "cell_type": "code",
   "execution_count": 2,
   "metadata": {},
   "outputs": [],
   "source": [
    "import jax\n",
    "import jax.numpy as jnp\n",
    "\n",
    "from JAxtar.hash import hash_func_builder\n",
    "from puzzle.lightsout import LightsOut\n",
    "from heuristic.lightsout_heuristic import LightsOutHeuristic"
   ]
  },
  {
   "cell_type": "code",
   "execution_count": 3,
   "metadata": {},
   "outputs": [
    {
     "name": "stderr",
     "output_type": "stream",
     "text": [
      "2024-09-25 07:59:58.578908: W external/xla/xla/service/gpu/nvptx_compiler.cc:765] The NVIDIA driver's CUDA version is 12.2 which is older than the ptxas CUDA version (12.5.82). Because the driver is older than the ptxas version, XLA is disabling parallel compilation, which may slow down compilation. You should update your NVIDIA driver or use the NVIDIA-provided CUDA forward compatibility packages.\n"
     ]
    }
   ],
   "source": [
    "puzzle = LightsOut(7)\n",
    "heuristic = LightsOutHeuristic(puzzle)"
   ]
  },
  {
   "cell_type": "code",
   "execution_count": 4,
   "metadata": {},
   "outputs": [
    {
     "name": "stdout",
     "output_type": "stream",
     "text": [
      "┏━━━━━━━━━━━━━━━┓\n",
      "┃ □ □ □ □ □ □ □ ┃\n",
      "┃ □ □ □ □ □ □ □ ┃\n",
      "┃ □ □ □ □ □ □ □ ┃\n",
      "┃ □ □ □ □ □ □ □ ┃\n",
      "┃ □ □ □ □ □ □ □ ┃\n",
      "┃ □ □ □ □ □ □ □ ┃\n",
      "┃ □ □ □ □ □ □ □ ┃\n",
      "┗━━━━━━━━━━━━━━━┛\n",
      "┏━━━━━━━━━━━━━━━┓  ┏━━━━━━━━━━━━━━━┓  ┏━━━━━━━━━━━━━━━┓  ...              ┏━━━━━━━━━━━━━━━┓  ┏━━━━━━━━━━━━━━━┓  ┏━━━━━━━━━━━━━━━┓\n",
      "┃ ■ ■ □ □ □ □ □ ┃  ┃ ■ □ □ □ □ □ □ ┃  ┃ □ □ □ □ □ □ □ ┃  (batch : (49,))  ┃ □ □ □ □ □ □ □ ┃  ┃ □ □ □ □ □ □ □ ┃  ┃ □ □ □ □ □ □ □ ┃\n",
      "┃ ■ □ □ □ □ □ □ ┃  ┃ ■ ■ □ □ □ □ □ ┃  ┃ ■ □ □ □ □ □ □ ┃                   ┃ □ □ □ □ □ □ □ ┃  ┃ □ □ □ □ □ □ □ ┃  ┃ □ □ □ □ □ □ □ ┃\n",
      "┃ □ □ □ □ □ □ □ ┃  ┃ ■ □ □ □ □ □ □ ┃  ┃ ■ ■ □ □ □ □ □ ┃                   ┃ □ □ □ □ □ □ □ ┃  ┃ □ □ □ □ □ □ □ ┃  ┃ □ □ □ □ □ □ □ ┃\n",
      "┃ □ □ □ □ □ □ □ ┃  ┃ □ □ □ □ □ □ □ ┃  ┃ ■ □ □ □ □ □ □ ┃                   ┃ □ □ □ □ □ □ ■ ┃  ┃ □ □ □ □ □ □ □ ┃  ┃ □ □ □ □ □ □ □ ┃\n",
      "┃ □ □ □ □ □ □ □ ┃  ┃ □ □ □ □ □ □ □ ┃  ┃ □ □ □ □ □ □ □ ┃                   ┃ □ □ □ □ □ ■ ■ ┃  ┃ □ □ □ □ □ □ ■ ┃  ┃ □ □ □ □ □ □ □ ┃\n",
      "┃ □ □ □ □ □ □ □ ┃  ┃ □ □ □ □ □ □ □ ┃  ┃ □ □ □ □ □ □ □ ┃                   ┃ □ □ □ □ □ □ ■ ┃  ┃ □ □ □ □ □ ■ ■ ┃  ┃ □ □ □ □ □ □ ■ ┃\n",
      "┃ □ □ □ □ □ □ □ ┃  ┃ □ □ □ □ □ □ □ ┃  ┃ □ □ □ □ □ □ □ ┃                   ┃ □ □ □ □ □ □ □ ┃  ┃ □ □ □ □ □ □ ■ ┃  ┃ □ □ □ □ □ ■ ■ ┃\n",
      "┗━━━━━━━━━━━━━━━┛  ┗━━━━━━━━━━━━━━━┛  ┗━━━━━━━━━━━━━━━┛                   ┗━━━━━━━━━━━━━━━┛  ┗━━━━━━━━━━━━━━━┛  ┗━━━━━━━━━━━━━━━┛\n",
      "[1. 1. 1. 1. 1. 1. 1. 1. 1. 1. 1. 1. 1. 1. 1. 1. 1. 1. 1. 1. 1. 1. 1. 1.\n",
      " 1. 1. 1. 1. 1. 1. 1. 1. 1. 1. 1. 1. 1. 1. 1. 1. 1. 1. 1. 1. 1. 1. 1. 1.\n",
      " 1.]\n"
     ]
    }
   ],
   "source": [
    "#check batch generation\n",
    "states = puzzle.get_target_state()\n",
    "print(states)\n",
    "next_states, costs = puzzle.get_neighbours(states)\n",
    "print(next_states)\n",
    "print(costs)"
   ]
  },
  {
   "cell_type": "code",
   "execution_count": 5,
   "metadata": {},
   "outputs": [
    {
     "name": "stdout",
     "output_type": "stream",
     "text": [
      "True\n",
      "False\n"
     ]
    }
   ],
   "source": [
    "print(puzzle.is_solved(states, states))\n",
    "print(puzzle.is_solved(states, next_states[0]))"
   ]
  },
  {
   "cell_type": "code",
   "execution_count": 6,
   "metadata": {},
   "outputs": [
    {
     "name": "stdout",
     "output_type": "stream",
     "text": [
      "┏━━━━━━━━━━━━━━━┓  ┏━━━━━━━━━━━━━━━┓  ┏━━━━━━━━━━━━━━━┓  ...                   ┏━━━━━━━━━━━━━━━┓  ┏━━━━━━━━━━━━━━━┓  ┏━━━━━━━━━━━━━━━┓\n",
      "┃ ■ ■ □ □ □ ■ ■ ┃  ┃ ■ □ □ □ □ ■ ■ ┃  ┃ □ □ □ □ □ ■ ■ ┃  (batch : (1000, 49))  ┃ □ □ □ ■ ■ ■ ■ ┃  ┃ □ □ □ ■ ■ ■ ■ ┃  ┃ □ □ □ ■ ■ ■ ■ ┃\n",
      "┃ ■ □ □ □ □ □ ■ ┃  ┃ ■ ■ □ □ □ □ ■ ┃  ┃ ■ □ □ □ □ □ ■ ┃                        ┃ □ □ ■ □ ■ ■ □ ┃  ┃ □ □ ■ □ ■ ■ □ ┃  ┃ □ □ ■ □ ■ ■ □ ┃\n",
      "┃ □ □ ■ □ □ □ □ ┃  ┃ ■ □ ■ □ □ □ □ ┃  ┃ ■ ■ ■ □ □ □ □ ┃                        ┃ □ ■ ■ ■ □ ■ □ ┃  ┃ □ ■ ■ ■ □ ■ □ ┃  ┃ □ ■ ■ ■ □ ■ □ ┃\n",
      "┃ □ ■ □ ■ □ □ ■ ┃  ┃ □ ■ □ ■ □ □ ■ ┃  ┃ ■ ■ □ ■ □ □ ■ ┃                        ┃ □ □ ■ ■ □ □ ■ ┃  ┃ □ □ ■ ■ □ □ □ ┃  ┃ □ □ ■ ■ □ □ □ ┃\n",
      "┃ □ □ □ ■ □ ■ ■ ┃  ┃ □ □ □ ■ □ ■ ■ ┃  ┃ □ □ □ ■ □ ■ ■ ┃                        ┃ □ ■ ■ ■ ■ □ ■ ┃  ┃ □ ■ ■ ■ ■ ■ ■ ┃  ┃ □ ■ ■ ■ ■ ■ □ ┃\n",
      "┃ □ ■ □ □ □ □ ■ ┃  ┃ □ ■ □ □ □ □ ■ ┃  ┃ □ ■ □ □ □ □ ■ ┃                        ┃ ■ ■ ■ ■ □ ■ ■ ┃  ┃ ■ ■ ■ ■ □ □ ■ ┃  ┃ ■ ■ ■ ■ □ ■ ■ ┃\n",
      "┃ ■ □ □ □ □ □ □ ┃  ┃ ■ □ □ □ □ □ □ ┃  ┃ ■ □ □ □ □ □ □ ┃                        ┃ □ ■ □ □ □ □ ■ ┃  ┃ □ ■ □ □ □ □ □ ┃  ┃ □ ■ □ □ □ ■ □ ┃\n",
      "┗━━━━━━━━━━━━━━━┛  ┗━━━━━━━━━━━━━━━┛  ┗━━━━━━━━━━━━━━━┛                        ┗━━━━━━━━━━━━━━━┛  ┗━━━━━━━━━━━━━━━┛  ┗━━━━━━━━━━━━━━━┛\n",
      "49000 (49, 7)\n",
      "shape(board=(49000, 7))\n",
      "(49000,)\n",
      "dtype(board=dtype('uint8'))\n",
      "(49000,)\n"
     ]
    }
   ],
   "source": [
    "# check batch neighbours\n",
    "states = jax.vmap(puzzle.get_initial_state, in_axes=0)(key=jax.random.split(jax.random.PRNGKey(0),int(1e3))) # total 10 million states\n",
    "next_states, costs = jax.vmap(puzzle.get_neighbours, in_axes=0)(states)\n",
    "print(next_states)\n",
    "next_states = next_states.flatten()\n",
    "costs = costs.flatten()\n",
    "print(next_states.shape)\n",
    "print(next_states.batch_shape)\n",
    "print(next_states.dtype)\n",
    "print(costs.shape)"
   ]
  },
  {
   "cell_type": "code",
   "execution_count": 7,
   "metadata": {},
   "outputs": [],
   "source": [
    "puzzle_hash_fun: callable = hash_func_builder(puzzle.State)"
   ]
  },
  {
   "cell_type": "code",
   "execution_count": 8,
   "metadata": {},
   "outputs": [
    {
     "name": "stdout",
     "output_type": "stream",
     "text": [
      "(1000,)\n",
      "uint32\n",
      "(1000,)\n",
      "(1000, 7)\n",
      "(49000,)\n",
      "uint32\n",
      "(48978,)\n",
      "(48978, 7)\n"
     ]
    }
   ],
   "source": [
    "#check hashing\n",
    "hashes = jax.vmap(puzzle_hash_fun, in_axes=(0, None))(states, 1)\n",
    "#count hash collision\n",
    "print(hashes.shape)\n",
    "print(hashes.dtype)\n",
    "print(jnp.unique(hashes).shape) # Low collision\n",
    "print(jnp.unique(states.board, axis=0).shape) # Low collision\n",
    "\n",
    "hashes = jax.vmap(puzzle_hash_fun, in_axes=(0, None))(next_states, 1)\n",
    "#count hash collision\n",
    "print(hashes.shape)\n",
    "print(hashes.dtype)\n",
    "print(jnp.unique(hashes).shape) # High collision\n",
    "print(jnp.unique(next_states.board, axis=0).shape) # High collision"
   ]
  },
  {
   "cell_type": "code",
   "execution_count": 9,
   "metadata": {},
   "outputs": [
    {
     "name": "stdout",
     "output_type": "stream",
     "text": [
      "Heuristic\n",
      "[0.6 0.8 0.8 ... 4.4 4.  4.6]\n"
     ]
    }
   ],
   "source": [
    "#check heuristic\n",
    "print(\"Heuristic\")\n",
    "dist = jax.vmap(heuristic.distance, in_axes=(0, None))(next_states, states[0])\n",
    "print(dist)"
   ]
  },
  {
   "cell_type": "code",
   "execution_count": 10,
   "metadata": {},
   "outputs": [
    {
     "name": "stderr",
     "output_type": "stream",
     "text": [
      "Could not load symbol cuFuncGetName. Error: /usr/lib/x86_64-linux-gnu/libcuda.so.1: undefined symbol: cuFuncGetName\n"
     ]
    },
    {
     "name": "stdout",
     "output_type": "stream",
     "text": [
      "┏━━━━━━━━━━━━━━━┓  ┏━━━━━━━━━━━━━━━┓  ┏━━━━━━━━━━━━━━━┓  ...              ┏━━━━━━━━━━━━━━━┓  ┏━━━━━━━━━━━━━━━┓  ┏━━━━━━━━━━━━━━━┓\n",
      "┃ ■ ■ □ □ □ □ □ ┃  ┃ ■ □ □ □ □ □ □ ┃  ┃ □ □ □ □ □ □ □ ┃  (batch : (49,))  ┃ □ □ □ □ □ □ □ ┃  ┃ □ □ □ □ □ □ □ ┃  ┃ □ □ □ □ □ □ □ ┃\n",
      "┃ ■ □ □ □ □ □ □ ┃  ┃ ■ ■ □ □ □ □ □ ┃  ┃ ■ □ □ □ □ □ □ ┃                   ┃ □ □ □ □ □ □ □ ┃  ┃ □ □ □ □ □ □ □ ┃  ┃ □ □ □ □ □ □ □ ┃\n",
      "┃ □ □ □ □ □ □ □ ┃  ┃ ■ □ □ □ □ □ □ ┃  ┃ ■ ■ □ □ □ □ □ ┃                   ┃ □ □ □ □ □ □ □ ┃  ┃ □ □ □ □ □ □ □ ┃  ┃ □ □ □ □ □ □ □ ┃\n",
      "┃ □ □ □ □ □ □ □ ┃  ┃ □ □ □ □ □ □ □ ┃  ┃ ■ □ □ □ □ □ □ ┃                   ┃ □ □ □ □ □ □ ■ ┃  ┃ □ □ □ □ □ □ □ ┃  ┃ □ □ □ □ □ □ □ ┃\n",
      "┃ □ □ □ □ □ □ □ ┃  ┃ □ □ □ □ □ □ □ ┃  ┃ □ □ □ □ □ □ □ ┃                   ┃ □ □ □ □ □ ■ ■ ┃  ┃ □ □ □ □ □ □ ■ ┃  ┃ □ □ □ □ □ □ □ ┃\n",
      "┃ □ □ □ □ □ □ □ ┃  ┃ □ □ □ □ □ □ □ ┃  ┃ □ □ □ □ □ □ □ ┃                   ┃ □ □ □ □ □ □ ■ ┃  ┃ □ □ □ □ □ ■ ■ ┃  ┃ □ □ □ □ □ □ ■ ┃\n",
      "┃ □ □ □ □ □ □ □ ┃  ┃ □ □ □ □ □ □ □ ┃  ┃ □ □ □ □ □ □ □ ┃                   ┃ □ □ □ □ □ □ □ ┃  ┃ □ □ □ □ □ □ ■ ┃  ┃ □ □ □ □ □ ■ ■ ┃\n",
      "┗━━━━━━━━━━━━━━━┛  ┗━━━━━━━━━━━━━━━┛  ┗━━━━━━━━━━━━━━━┛                   ┗━━━━━━━━━━━━━━━┛  ┗━━━━━━━━━━━━━━━┛  ┗━━━━━━━━━━━━━━━┛\n",
      "49 (7,)\n",
      "[0.96622354 1.0518901  1.0759048  0.9487412  1.053679   0.88843757\n",
      " 0.9279028  0.9127135  0.95740336 0.9704958  1.1181554  0.8886529\n",
      " 0.95284307 0.80069983 1.0178187  0.9053031  0.96377563 0.9975711\n",
      " 0.9333329  0.90696526 0.7446586  0.91409016 1.0138685  1.0885365\n",
      " 1.094323   1.0148019  0.9941803  0.8744689  0.91409016 0.95834893\n",
      " 1.0005974  1.034315   0.9407613  0.929474   0.9433487  0.8985268\n",
      " 1.037092   0.9922532  1.0222871  1.0488001  0.95295525 0.9610289\n",
      " 0.94157827 0.9576422  0.91692317 0.91692317 1.0704916  0.8786129\n",
      " 1.1859603 ]\n",
      "(49,)\n",
      "float32\n",
      "0.9689683\n",
      "[5.865494  5.466691  5.8552065 5.4429016 4.7932167 4.290353  4.913219\n",
      " 6.060946  5.752415  5.9260774 5.4451895 5.543874  4.9698734 5.2592697\n",
      " 5.9154367 6.0166655 6.0652905 4.4006777 4.3734555 5.757358  4.861532\n",
      " 6.198515  6.273078  6.4957805 5.549679  5.7719154 5.6862903 5.4797945\n",
      " 6.056488  5.9353027 6.029315  6.017214  5.995606  5.6216726 5.8172607\n",
      " 6.1145334 6.2369294 5.995843  5.954495  6.1253853 6.08422   5.7760077\n",
      " 4.1235905 5.76111   5.98479   6.106447  4.11642   6.0514026 5.970844\n",
      " 7.0958223 7.2636175 6.6178613 6.2268476 5.566823  6.368185  5.7171736\n",
      " 7.10965   7.080233  7.0123367 6.6765957 6.5834184 4.7749686 5.8654118\n",
      " 7.4012213 4.9351015 7.4858503 7.1572056 7.0418797 6.145238  4.839223\n",
      " 7.7334495 4.838499  7.5905876 7.370357  5.0396643 6.1124706 6.3826594\n",
      " 7.3091288 7.2922153 7.3016014 6.832832  6.632944  5.140726  7.007059\n",
      " 7.290453  7.540316  7.6177936 6.9799685 7.076022  6.7467594 6.326943\n",
      " 7.1546583 7.020289  6.9005365 6.9652586 6.9466486 6.896826  6.4597907\n",
      " 7.332123  7.2344775]\n",
      "(100,)\n",
      "float32\n",
      "6.163428\n"
     ]
    }
   ],
   "source": [
    "from heuristic.DAVI.neuralheuristic.lightsout_neuralheuristic import LightsOutNeuralHeuristic\n",
    "neural_heuristic = LightsOutNeuralHeuristic.load_model(puzzle, \"../heuristic/DAVI/neuralheuristic/params/lightsout_7.pkl\")\n",
    "neural_heuristic_fn = neural_heuristic.distance\n",
    "target_state = puzzle.get_target_state()\n",
    "target_neighbours, costs = puzzle.get_neighbours(target_state)\n",
    "print(target_neighbours)\n",
    "dist = jax.vmap(neural_heuristic_fn, in_axes=(0, None))(target_neighbours.flatten(), target_state)\n",
    "print(dist)\n",
    "print(dist.shape)\n",
    "print(dist.dtype)\n",
    "print(jnp.mean(dist))\n",
    "\n",
    "dist = jax.vmap(neural_heuristic_fn, in_axes=(0, None))(next_states[:100], target_state)\n",
    "print(dist)\n",
    "print(dist.shape)\n",
    "print(dist.dtype)\n",
    "print(jnp.mean(dist))"
   ]
  }
 ],
 "metadata": {
  "kernelspec": {
   "display_name": "py311",
   "language": "python",
   "name": "python3"
  },
  "language_info": {
   "codemirror_mode": {
    "name": "ipython",
    "version": 3
   },
   "file_extension": ".py",
   "mimetype": "text/x-python",
   "name": "python",
   "nbconvert_exporter": "python",
   "pygments_lexer": "ipython3",
   "version": "3.11.9"
  }
 },
 "nbformat": 4,
 "nbformat_minor": 2
}
